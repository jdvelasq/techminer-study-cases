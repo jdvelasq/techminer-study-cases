{
 "cells": [
  {
   "cell_type": "code",
   "execution_count": null,
   "metadata": {},
   "outputs": [],
   "source": [
    "import techminer as tech\n",
    "\n",
    "#\n",
    "# Converts scopus.csv to techminer.csv\n",
    "#\n",
    "tech.import_scopus()"
   ]
  },
  {
   "cell_type": "code",
   "execution_count": null,
   "metadata": {},
   "outputs": [],
   "source": [
    "import techminer as tech\n",
    "\n",
    "#\n",
    "# Creates or modifies the keywords thesaurus.txt\n",
    "#   Honors previous created file\n",
    "#\n",
    "tech.create_keywords_thesaurus()\n",
    "\n",
    "!head -n +20 keywords_thesaurus.txt"
   ]
  },
  {
   "cell_type": "code",
   "execution_count": 2,
   "metadata": {},
   "outputs": [],
   "source": [
    "import techminer as tech\n",
    "\n",
    "#\n",
    "# Keywords cleaning\n",
    "#\n",
    "tech.apply_keywords_thesaurus()"
   ]
  },
  {
   "cell_type": "code",
   "execution_count": null,
   "metadata": {},
   "outputs": [],
   "source": [
    "import techminer as tech\n",
    "\n",
    "#\n",
    "# Creates a Institutions thesaurus\n",
    "#\n",
    "tech.create_institutions_thesaurus()\n",
    "\n",
    "!head -n +10 institutions_thesaurus.txt"
   ]
  },
  {
   "cell_type": "code",
   "execution_count": null,
   "metadata": {},
   "outputs": [],
   "source": [
    "import techminer as tech\n",
    "\n",
    "#\n",
    "# Institutions cleaning\n",
    "#\n",
    "tech.apply_institutions_thesaurus()"
   ]
  },
  {
   "cell_type": "code",
   "execution_count": null,
   "metadata": {},
   "outputs": [],
   "source": [
    "import techminer as tech\n",
    "\n",
    "#\n",
    "# Coverage\n",
    "#\n",
    "tech.coverage()"
   ]
  },
  {
   "cell_type": "code",
   "execution_count": null,
   "metadata": {},
   "outputs": [],
   "source": [
    "import pandas as pd\n",
    "data = pd.read_csv('techminer.csv')\n",
    "data = data[data.Authors.map(pd.isna)][['Authors', 'Title', 'Year', 'Document_Type']]\n",
    "data.tail(20)"
   ]
  },
  {
   "cell_type": "code",
   "execution_count": null,
   "metadata": {},
   "outputs": [],
   "source": [
    "import techminer as tech\n",
    "\n",
    "#\n",
    "# Descriptive stats\n",
    "#\n",
    "tech.descriptive_stats()"
   ]
  },
  {
   "cell_type": "code",
   "execution_count": null,
   "metadata": {},
   "outputs": [],
   "source": [
    "import techminer as tech\n",
    "\n",
    "#\n",
    "# Column explorer\n",
    "#\n",
    "tech.column_explorer(top_n=350, only_abstract=True, clusters=None, cluster=None)"
   ]
  },
  {
   "cell_type": "code",
   "execution_count": null,
   "metadata": {},
   "outputs": [],
   "source": [
    "import techminer as tech\n",
    "\n",
    "#\n",
    "# Matrix explorer\n",
    "#\n",
    "tech.matrix_explorer(top_n=100, only_abstract=True, clusters=None, cluster=None)"
   ]
  },
  {
   "cell_type": "code",
   "execution_count": null,
   "metadata": {},
   "outputs": [],
   "source": [
    "import techminer as tech\n",
    "\n",
    "#\n",
    "# By year analysis\n",
    "#\n",
    "tech.by_year_analysis()"
   ]
  },
  {
   "cell_type": "code",
   "execution_count": null,
   "metadata": {},
   "outputs": [],
   "source": [
    "import techminer as tech\n",
    "\n",
    "#\n",
    "# Top documents report\n",
    "#\n",
    "tech.top_documents(top_n=10)"
   ]
  },
  {
   "cell_type": "code",
   "execution_count": null,
   "metadata": {},
   "outputs": [],
   "source": [
    "import techminer as tech\n",
    "\n",
    "#\n",
    "# By term analysis\n",
    "#\n",
    "tech.by_term_analysis(\n",
    "    limit_to=None, exclude=None, years_range=None\n",
    ")"
   ]
  },
  {
   "cell_type": "code",
   "execution_count": null,
   "metadata": {},
   "outputs": [],
   "source": [
    "import techminer as tech\n",
    "\n",
    "#\n",
    "# By-term-per-year\n",
    "#\n",
    "tech.by_term_per_year_analysis(tab=0, years_range=None)"
   ]
  },
  {
   "cell_type": "code",
   "execution_count": null,
   "metadata": {},
   "outputs": [],
   "source": [
    "import techminer as tech\n",
    "\n",
    "#\n",
    "# Growth indicators\n",
    "#\n",
    "tech.growth_indicators(exclude=None, years_range=None)"
   ]
  },
  {
   "cell_type": "code",
   "execution_count": null,
   "metadata": {},
   "outputs": [],
   "source": [
    "import techminer as tech\n",
    "\n",
    "#\n",
    "# Bigraph\n",
    "#\n",
    "tech.bigraph_analysis()"
   ]
  },
  {
   "cell_type": "code",
   "execution_count": 16,
   "metadata": {},
   "outputs": [
    {
     "data": {
      "application/vnd.jupyter.widget-view+json": {
       "model_id": "d23a8c7fc75c4850984c743c2940ab49",
       "version_major": 2,
       "version_minor": 0
      },
      "text/plain": [
       "GridspecLayout(children=(VBox(children=(HTML(value=\"<h2>Graph Analysis</h2><hr style='height:3px;border-width:…"
      ]
     },
     "metadata": {},
     "output_type": "display_data"
    }
   ],
   "source": [
    "import techminer as tech\n",
    "\n",
    "\n",
    "# TITLE-ABS-KEY\n",
    "# (\n",
    "#   ( \n",
    "#     \"data analytics\"  \n",
    "#     OR  \"data science\"  \n",
    "#     OR  \"analytics\"  \n",
    "#     OR  \"big data\"  \n",
    "#     OR  \"machine learning\"  \n",
    "#     OR  \"computational intelligence\"  \n",
    "#     OR  \"artificial intelligence\" \n",
    "#   )  \n",
    "#   AND  \n",
    "#   ( \n",
    "#     ( \n",
    "#       energy  OR  power  OR  electricity )  PRE/1  ( market  OR  industry  OR  sector ) ) )  AND  ( LIMIT-TO ( SUBJAREA ,  \"ENER\" ) ) \n",
    "#\n",
    "tech.apply_keywords_thesaurus()\n",
    "\n",
    "EXCLUDE = {\n",
    "    \"Author_Keywords_CL\":[\n",
    "        \"artificial intelligence\",\n",
    "        \"data analytics\",\n",
    "        \"big data\",\n",
    "        \"machine learning\",\n",
    "        \"computacional intelligence\",\n",
    "        \"computation intelligence\",\n",
    "        \"energy market\",\n",
    "        \"energy sector\",\n",
    "        \"big data analytics\",\n",
    "        \"electricity markets\",\n",
    "        \"electric markets\",\n",
    "        \"forecast\",\n",
    "        \"prediction\",\n",
    "        \"simulation\",\n",
    "        \"electricity\",\n",
    "        \"optimization\",\n",
    "        \"energy\",\n",
    "        \"optimal power flow\",\n",
    "        \n",
    "    ],\n",
    "}\n",
    "\n",
    "#\n",
    "# Graph\n",
    "#\n",
    "tech.graph_analysis(exclude=EXCLUDE)"
   ]
  },
  {
   "cell_type": "code",
   "execution_count": 11,
   "metadata": {},
   "outputs": [
    {
     "data": {
      "application/vnd.jupyter.widget-view+json": {
       "model_id": "a90268c9cc8e4ebba0987388b5d25850",
       "version_major": 2,
       "version_minor": 0
      },
      "text/plain": [
       "GridspecLayout(children=(HTML(value=\"<h1>Column Explorer (Top 350 terms)</h1><hr style='height:2px;border-widt…"
      ]
     },
     "metadata": {},
     "output_type": "display_data"
    }
   ],
   "source": [
    "import techminer as tech\n",
    "\n",
    "#\n",
    "# Column explorer\n",
    "#\n",
    "tech.column_explorer(top_n=350, only_abstract=True, clusters=None, cluster=None)"
   ]
  },
  {
   "cell_type": "code",
   "execution_count": null,
   "metadata": {},
   "outputs": [],
   "source": [
    "import techminer as tech\n",
    "\n",
    "#\n",
    "# Correlation\n",
    "#\n",
    "tech.correlation_analysis()"
   ]
  },
  {
   "cell_type": "code",
   "execution_count": null,
   "metadata": {},
   "outputs": [],
   "source": [
    "import techminer as tech\n",
    "\n",
    "#\n",
    "# Bibliometrix conceptual structure\n",
    "#\n",
    "tech.conceptual_structure()"
   ]
  },
  {
   "cell_type": "code",
   "execution_count": null,
   "metadata": {},
   "outputs": [],
   "source": [
    "import techminer as tech\n",
    "\n",
    "#\n",
    "# Co-word analysis\n",
    "#\n",
    "tech.co_word_analysis()"
   ]
  },
  {
   "cell_type": "code",
   "execution_count": null,
   "metadata": {},
   "outputs": [],
   "source": [
    "import techminer as tech\n",
    "\n",
    "#\n",
    "# Associations\n",
    "#\n",
    "tech.keywords_association(top_n=50)"
   ]
  },
  {
   "cell_type": "code",
   "execution_count": null,
   "metadata": {},
   "outputs": [],
   "source": [
    "import techminer as tech\n",
    "\n",
    "#\n",
    "# Comparisons\n",
    "#\n",
    "tech.keywords_comparison(top_n=50)"
   ]
  },
  {
   "cell_type": "code",
   "execution_count": null,
   "metadata": {},
   "outputs": [],
   "source": [
    "##\n",
    "## Words to exclude\n",
    "##\n",
    "\n",
    "\n",
    "LIMIT_TO = {\n",
    "    \"Author_Keywords_CL\": [    \n",
    "        \"adaptive dynamic programming\",\n",
    "        \"agent-based modelling\",\n",
    "        \"collaborative urban logistics\",\n",
    "        \"customer service\",\n",
    "        \"decision making\",\n",
    "        \"discrete event simulation\",\n",
    "        \"e-commerce\",\n",
    "        \"game theory\",\n",
    "        \"geographic information systems (gis)\",\n",
    "        \"green vehicle\",\n",
    "        \"greenhouse gas emissions\",\n",
    "        \"key performance indicators\",\n",
    "        \"last mile delivery\",\n",
    "        \"linear programming\",\n",
    "        \"location\",\n",
    "        \"location routing problem\",\n",
    "        \"metaheuristics\",\n",
    "        \"mobile depot\",\n",
    "        \"multi-criteria decision analysis (mcda)\",\n",
    "        \"network logistics\",\n",
    "        \"optimization\",\n",
    "        \"parcel delivery\",\n",
    "        \"parcel locker\",\n",
    "        \"performance evaluation\",\n",
    "        \"sensitivity analysis\",\n",
    "        \"smart cities\",\n",
    "        \"social cost benefit analysis\",\n",
    "        \"stakeholder analysis\",\n",
    "        \"sustainability\",\n",
    "        \"sustainable urban freight transport\",\n",
    "        \"vehicle routing problem\",\n",
    "    ],\n",
    "    \"Countries\":[\n",
    "        \"Italy\",\n",
    "        \"China\",\n",
    "        \"France\",\n",
    "        \"Netherlands\",\n",
    "        \"United Kingdom\",\n",
    "        \"Belgium\",\n",
    "        \"United States\",\n",
    "        \"Spain\",\n",
    "        \"Australia\",\n",
    "        \"Germany\",\n",
    "    ],\n",
    "    \"Authors\": [\n",
    "        \"Allen J\",\n",
    "        \"Awasthi A\",\n",
    "        \"Browne M\",\n",
    "        \"Chauhan SS\",\n",
    "        \"Dablanc L\",\n",
    "        \"Goyal SK\",\n",
    "        \"Lebeau P\",\n",
    "        \"Leonardi J\",\n",
    "        \"Macharis C\",\n",
    "        \"Quak HJ\",\n",
    "        \"Qureshi AG\",\n",
    "        \"Taniguchi E\",\n",
    "        \"van Duin R\",\n",
    "        \"van Mierlo J\",\n",
    "        \"Woodburn A\",\n",
    "\n",
    "    ],\n",
    "}\n",
    "\n",
    "LIMIT_TO['Abstract_Author_Keywords_CL'] = LIMIT_TO['Author_Keywords_CL']\n",
    "\n",
    "EXCLUDE = {\n",
    "    \"Author_Keywords_CL\": [\n",
    "        \"business model\",\n",
    "        \"case studies\",\n",
    "        \"cities\",\n",
    "        \"distribution\",\n",
    "        \"entropy\",\n",
    "        \"freight consolidation\",\n",
    "        \"literature review\",\n",
    "        \"logistics engineering\",\n",
    "        \"logistics sprawl\",\n",
    "        \"logistics\",\n",
    "        \"micro-consolidation\",\n",
    "        \"modelization\",\n",
    "        \"policy evaluation\",\n",
    "        \"retailer\",\n",
    "        \"urban consolidation center\",\n",
    "        \"urban freight transport\",\n",
    "        \"urban freight\",\n",
    "        \"urban logistic\",\n",
    "        \"logistic system\",\n",
    "    ]\n",
    "}"
   ]
  },
  {
   "cell_type": "code",
   "execution_count": null,
   "metadata": {},
   "outputs": [],
   "source": [
    "import techminer as tech\n",
    "\n",
    "#\n",
    "# Thematic Analysis\n",
    "#\n",
    "tech.thematic_analysis()"
   ]
  },
  {
   "cell_type": "code",
   "execution_count": null,
   "metadata": {},
   "outputs": [],
   "source": [
    "import techminer as tech\n",
    "\n",
    "#\n",
    "# Comparative Analysis\n",
    "#\n",
    "tech.comparative_analysis()"
   ]
  },
  {
   "cell_type": "code",
   "execution_count": null,
   "metadata": {},
   "outputs": [],
   "source": [
    "import techminer as tech\n",
    "\n",
    "#\n",
    "# Latent Semantic Analysis\n",
    "#\n",
    "tech.latent_semantic_analysis()"
   ]
  },
  {
   "cell_type": "code",
   "execution_count": null,
   "metadata": {},
   "outputs": [],
   "source": []
  },
  {
   "cell_type": "code",
   "execution_count": null,
   "metadata": {},
   "outputs": [],
   "source": []
  },
  {
   "cell_type": "code",
   "execution_count": null,
   "metadata": {},
   "outputs": [],
   "source": [
    "import techminer as tech\n",
    "\n",
    "#\n",
    "# Factor Analysis\n",
    "#\n",
    "tech.factor_analysis()"
   ]
  },
  {
   "cell_type": "code",
   "execution_count": null,
   "metadata": {},
   "outputs": [],
   "source": [
    "import techminer as tech\n",
    "\n",
    "#\n",
    "# Document-term\n",
    "#\n",
    "tech.document_term_analysis()"
   ]
  },
  {
   "cell_type": "code",
   "execution_count": null,
   "metadata": {},
   "outputs": [],
   "source": [
    "##\n",
    "## Limit to ... / Exclude ...\n",
    "##\n",
    "LIMIT_TO = {\n",
    "    \"Author_Keywords\": text.find_string(\n",
    "        patterns=\"^g\",\n",
    "        x=df.Author_Keywords,\n",
    "        ignore_case=True,\n",
    "        full_match=False,\n",
    "        use_re=True,\n",
    "    ),\n",
    "    \"Countries\": [\"United States\"],\n",
    "}\n",
    "\n",
    "EXCLUDE = {\n",
    "    \"Author_Keywords\": text.find_string(\n",
    "        patterns=\"^g\",\n",
    "        x=df.Author_Keywords,\n",
    "        ignore_case=True,\n",
    "        full_match=False,\n",
    "        use_re=True,\n",
    "    ),\n",
    "    \"Countries\": [\"United States\"],\n",
    "    \"Authors\": [\"Utzinger J\", \"Polling B\"],\n",
    "}"
   ]
  },
  {
   "cell_type": "code",
   "execution_count": null,
   "metadata": {},
   "outputs": [],
   "source": [
    "#\n",
    "# Clusters\n",
    "#\n",
    "\n",
    "CLUSTERS = [\n",
    "    \"Author_Keywords_CL\",\n",
    "    {\n",
    "        0: [\n",
    "            \"city logistic\",\n",
    "            \"urban freight transport\",\n",
    "            \"urban freight consolidation center\",\n",
    "            \"case studies\",\n",
    "            \"stakeholder\",\n",
    "            \"game theory\",\n",
    "            \"optimization\",\n",
    "            \"multi-stakeholder\",\n",
    "        ],\n",
    "        1: [\n",
    "            \"urban distribution center\",\n",
    "            \"sustainability\",\n",
    "            \"location selection\",\n",
    "            \"distribution center\",\n",
    "            \"city logistics centers\",\n",
    "            \"multi criteria decision making\",\n",
    "            \"location plan\",\n",
    "        ],\n",
    "        2: [\n",
    "            \"urban consolidation center\",\n",
    "            \"business model\",\n",
    "            \"last mile delivery\",\n",
    "            \"urban distribution\",\n",
    "            \"urban freight\",\n",
    "            \"freight consolidation\",\n",
    "        ],\n",
    "        3: [\n",
    "            \"logistics\",\n",
    "            \"city distribution center\",\n",
    "            \"collaboration\",\n",
    "            \"entropy\",\n",
    "            \"facility location\",\n",
    "        ],\n",
    "        4: [\n",
    "            \"urban logistic\",\n",
    "            \"freight transport\",\n",
    "            \"electric vehicle\",\n",
    "            \"cities\",\n",
    "        ],\n",
    "    },\n",
    "]"
   ]
  },
  {
   "cell_type": "code",
   "execution_count": null,
   "metadata": {},
   "outputs": [],
   "source": [
    "import pandas as pd\n",
    "\n",
    "data = pd.read_csv(\"techminer.csv\")\n",
    "for s in data.Abstract_Index_Keywords_CL.dropna():\n",
    "    print(s)\n"
   ]
  },
  {
   "cell_type": "code",
   "execution_count": null,
   "metadata": {},
   "outputs": [],
   "source": [
    "import pandas as pd\n",
    "\n",
    "data = pd.read_csv(\"techminer.csv\")\n",
    "for s in data.Abstract_Author_Keywords_CL.dropna():\n",
    "    if \"city\" in s:\n",
    "        print(s)\n"
   ]
  },
  {
   "cell_type": "code",
   "execution_count": null,
   "metadata": {},
   "outputs": [],
   "source": [
    "import pandas as pd\n",
    "\n",
    "data = pd.read_csv(\"techminer.csv\")\n",
    "m = data.Keywords.dropna()\n",
    "m = m.map(lambda w: w.split(';'))\n",
    "m = sorted(set(m.explode()))\n",
    "m"
   ]
  },
  {
   "cell_type": "code",
   "execution_count": null,
   "metadata": {},
   "outputs": [],
   "source": [
    "import networkx as nx\n",
    "nx.__version__"
   ]
  },
  {
   "cell_type": "code",
   "execution_count": null,
   "metadata": {},
   "outputs": [],
   "source": [
    "import pandas as pd\n",
    "pd.DataFrame.from_dict({'A': [0, 1], 'B':[0, 1, 2]})"
   ]
  },
  {
   "cell_type": "code",
   "execution_count": null,
   "metadata": {},
   "outputs": [],
   "source": [
    "import pandas as pd\n",
    "len(['a', 'b'] + [pd.NA] * 2)"
   ]
  },
  {
   "cell_type": "code",
   "execution_count": null,
   "metadata": {},
   "outputs": [],
   "source": [
    "m = list('abcdefghi')\n",
    "m[3] = 0\n",
    "m"
   ]
  },
  {
   "cell_type": "code",
   "execution_count": null,
   "metadata": {},
   "outputs": [],
   "source": [
    "import scipy.spatial\n",
    "scipy.spatial.ConvexHull\n",
    "scipy.__version__"
   ]
  },
  {
   "cell_type": "code",
   "execution_count": null,
   "metadata": {},
   "outputs": [],
   "source": [
    "import pandas as pd\n",
    "x = pd.DataFrame({'A': [0, 1], 'B':[3, 4]})\n",
    "x"
   ]
  },
  {
   "cell_type": "code",
   "execution_count": null,
   "metadata": {},
   "outputs": [],
   "source": [
    "x.sum(axis=1)"
   ]
  },
  {
   "cell_type": "code",
   "execution_count": null,
   "metadata": {},
   "outputs": [],
   "source": [
    "from nltk import word_tokenize\n",
    "word_tokenize(\"Hola mundo-cruel\")"
   ]
  },
  {
   "cell_type": "code",
   "execution_count": null,
   "metadata": {},
   "outputs": [],
   "source": [
    "'123'.upper()"
   ]
  },
  {
   "cell_type": "code",
   "execution_count": null,
   "metadata": {},
   "outputs": [],
   "source": []
  }
 ],
 "metadata": {
  "kernelspec": {
   "display_name": "Python 3",
   "language": "python",
   "name": "python3"
  },
  "language_info": {
   "codemirror_mode": {
    "name": "ipython",
    "version": 3
   },
   "file_extension": ".py",
   "mimetype": "text/x-python",
   "name": "python",
   "nbconvert_exporter": "python",
   "pygments_lexer": "ipython3",
   "version": "3.6.9"
  },
  "widgets": {
   "application/vnd.jupyter.widget-state+json": {
    "state": {
     "0105415f114e489d8538b00d76a14f35": {
      "model_module": "@jupyter-widgets/controls",
      "model_module_version": "1.5.0",
      "model_name": "DescriptionStyleModel",
      "state": {
       "description_width": ""
      }
     },
     "0110a5f6e4914955ac96152707e523c1": {
      "model_module": "@jupyter-widgets/controls",
      "model_module_version": "1.5.0",
      "model_name": "DropdownModel",
      "state": {
       "_options_labels": [
        "Greys",
        "Purples",
        "Blues",
        "Greens",
        "Oranges",
        "Reds",
        "YlOrBr",
        "YlOrRd",
        "OrRd",
        "PuRd",
        "RdPu",
        "BuPu",
        "GnBu",
        "PuBu",
        "YlGnBu",
        "PuBuGn",
        "BuGn",
        "YlGn",
        "Pastel1",
        "Pastel2",
        "Paired",
        "Accent",
        "Dark2",
        "Set1",
        "Set2",
        "Set3",
        "tab10",
        "tab20",
        "tab20b",
        "tab20c"
       ],
       "index": 1,
       "layout": "IPY_MODEL_2dd4d5b953a941b9952edbfb9754260c",
       "style": "IPY_MODEL_f81ee814e39247bba728a602b0b8e63f"
      }
     },
     "0195c3389c8a4890a6932b47fa76f41b": {
      "model_module": "@jupyter-widgets/controls",
      "model_module_version": "1.5.0",
      "model_name": "LabelModel",
      "state": {
       "layout": "IPY_MODEL_6bc73b448f714fa585ed1e48c8b25535",
       "style": "IPY_MODEL_f5bb95c3eb28429e9a949f8709a86271",
       "value": "Term to analyze:"
      }
     },
     "02aadba4e61c48a78875ca9bdcbe89cc": {
      "model_module": "@jupyter-widgets/controls",
      "model_module_version": "1.5.0",
      "model_name": "DropdownModel",
      "state": {
       "_options_labels": [
        "Greys",
        "Purples",
        "Blues",
        "Greens",
        "Oranges",
        "Reds",
        "YlOrBr",
        "YlOrRd",
        "OrRd",
        "PuRd",
        "RdPu",
        "BuPu",
        "GnBu",
        "PuBu",
        "YlGnBu",
        "PuBuGn",
        "BuGn",
        "YlGn",
        "Pastel1",
        "Pastel2",
        "Paired",
        "Accent",
        "Dark2",
        "Set1",
        "Set2",
        "Set3",
        "tab10",
        "tab20",
        "tab20b",
        "tab20c"
       ],
       "index": 0,
       "layout": "IPY_MODEL_77153c1be14340549e19299f0240e252",
       "style": "IPY_MODEL_6efc925c02514b91886a246ac2157bb1"
      }
     },
     "0326a65c167d4dfa82ab994dd89343f6": {
      "model_module": "@jupyter-widgets/controls",
      "model_module_version": "1.5.0",
      "model_name": "VBoxModel",
      "state": {
       "children": [
        "IPY_MODEL_b2ced5f37b0c48b8897359bed2bf1820",
        "IPY_MODEL_c63d70647dfd41cf96e7c05390c6b12e"
       ],
       "layout": "IPY_MODEL_b72c2bfe516f4834b3124533cb02bdd6"
      }
     },
     "049f55e8d6ad4e58aea781cd7307ef3d": {
      "model_module": "@jupyter-widgets/output",
      "model_module_version": "1.0.0",
      "model_name": "OutputModel",
      "state": {
       "layout": "IPY_MODEL_b778808938c64953b4f99f88365b8834",
       "outputs": [
        {
         "data": {
          "text/html": "<style  type=\"text/css\" >\n    #T_0f087a26_a877_11ea_87de_0242ac110002row0_col0 {\n            background-color:  #000000;\n            color:  #f1f1f1;\n        }    #T_0f087a26_a877_11ea_87de_0242ac110002row0_col1 {\n            background-color:  #fafafa;\n            color:  #000000;\n        }    #T_0f087a26_a877_11ea_87de_0242ac110002row0_col2 {\n            background-color:  #f8f8f8;\n            color:  #000000;\n        }    #T_0f087a26_a877_11ea_87de_0242ac110002row0_col3 {\n            background-color:  #e9e9e9;\n            color:  #000000;\n        }    #T_0f087a26_a877_11ea_87de_0242ac110002row0_col4 {\n            background-color:  #eaeaea;\n            color:  #000000;\n        }    #T_0f087a26_a877_11ea_87de_0242ac110002row0_col5 {\n            background-color:  #e9e9e9;\n            color:  #000000;\n        }    #T_0f087a26_a877_11ea_87de_0242ac110002row0_col6 {\n            background-color:  #f6f6f6;\n            color:  #000000;\n        }    #T_0f087a26_a877_11ea_87de_0242ac110002row0_col7 {\n            background-color:  #e8e8e8;\n            color:  #000000;\n        }    #T_0f087a26_a877_11ea_87de_0242ac110002row0_col8 {\n            background-color:  #e5e5e5;\n            color:  #000000;\n        }    #T_0f087a26_a877_11ea_87de_0242ac110002row0_col9 {\n            background-color:  #efefef;\n            color:  #000000;\n        }    #T_0f087a26_a877_11ea_87de_0242ac110002row0_col10 {\n            background-color:  #dedede;\n            color:  #000000;\n        }    #T_0f087a26_a877_11ea_87de_0242ac110002row0_col11 {\n            background-color:  #e2e2e2;\n            color:  #000000;\n        }    #T_0f087a26_a877_11ea_87de_0242ac110002row0_col12 {\n            background-color:  #f5f5f5;\n            color:  #000000;\n        }    #T_0f087a26_a877_11ea_87de_0242ac110002row0_col13 {\n            background-color:  #ececec;\n            color:  #000000;\n        }    #T_0f087a26_a877_11ea_87de_0242ac110002row0_col14 {\n            background-color:  #eeeeee;\n            color:  #000000;\n        }    #T_0f087a26_a877_11ea_87de_0242ac110002row0_col15 {\n            background-color:  #f8f8f8;\n            color:  #000000;\n        }    #T_0f087a26_a877_11ea_87de_0242ac110002row0_col16 {\n            background-color:  #f9f9f9;\n            color:  #000000;\n        }    #T_0f087a26_a877_11ea_87de_0242ac110002row0_col17 {\n            background-color:  #fafafa;\n            color:  #000000;\n        }    #T_0f087a26_a877_11ea_87de_0242ac110002row1_col0 {\n            background-color:  #f7f7f7;\n            color:  #000000;\n        }    #T_0f087a26_a877_11ea_87de_0242ac110002row1_col1 {\n            background-color:  #000000;\n            color:  #f1f1f1;\n        }    #T_0f087a26_a877_11ea_87de_0242ac110002row1_col2 {\n            background-color:  #f7f7f7;\n            color:  #000000;\n        }    #T_0f087a26_a877_11ea_87de_0242ac110002row1_col3 {\n            background-color:  #e8e8e8;\n            color:  #000000;\n        }    #T_0f087a26_a877_11ea_87de_0242ac110002row1_col4 {\n            background-color:  #f8f8f8;\n            color:  #000000;\n        }    #T_0f087a26_a877_11ea_87de_0242ac110002row1_col5 {\n            background-color:  #f4f4f4;\n            color:  #000000;\n        }    #T_0f087a26_a877_11ea_87de_0242ac110002row1_col6 {\n            background-color:  #f6f6f6;\n            color:  #000000;\n        }    #T_0f087a26_a877_11ea_87de_0242ac110002row1_col7 {\n            background-color:  #f1f1f1;\n            color:  #000000;\n        }    #T_0f087a26_a877_11ea_87de_0242ac110002row1_col8 {\n            background-color:  #f5f5f5;\n            color:  #000000;\n        }    #T_0f087a26_a877_11ea_87de_0242ac110002row1_col9 {\n            background-color:  #dcdcdc;\n            color:  #000000;\n        }    #T_0f087a26_a877_11ea_87de_0242ac110002row1_col10 {\n            background-color:  #e2e2e2;\n            color:  #000000;\n        }    #T_0f087a26_a877_11ea_87de_0242ac110002row1_col11 {\n            background-color:  #d4d4d4;\n            color:  #000000;\n        }    #T_0f087a26_a877_11ea_87de_0242ac110002row1_col12 {\n            background-color:  #f5f5f5;\n            color:  #000000;\n        }    #T_0f087a26_a877_11ea_87de_0242ac110002row1_col13 {\n            background-color:  #f8f8f8;\n            color:  #000000;\n        }    #T_0f087a26_a877_11ea_87de_0242ac110002row1_col14 {\n            background-color:  #fdfdfd;\n            color:  #000000;\n        }    #T_0f087a26_a877_11ea_87de_0242ac110002row1_col15 {\n            background-color:  #f8f8f8;\n            color:  #000000;\n        }    #T_0f087a26_a877_11ea_87de_0242ac110002row1_col16 {\n            background-color:  #ececec;\n            color:  #000000;\n        }    #T_0f087a26_a877_11ea_87de_0242ac110002row1_col17 {\n            background-color:  #f9f9f9;\n            color:  #000000;\n        }    #T_0f087a26_a877_11ea_87de_0242ac110002row2_col0 {\n            background-color:  #f8f8f8;\n            color:  #000000;\n        }    #T_0f087a26_a877_11ea_87de_0242ac110002row2_col1 {\n            background-color:  #fbfbfb;\n            color:  #000000;\n        }    #T_0f087a26_a877_11ea_87de_0242ac110002row2_col2 {\n            background-color:  #000000;\n            color:  #f1f1f1;\n        }    #T_0f087a26_a877_11ea_87de_0242ac110002row2_col3 {\n            background-color:  #f7f7f7;\n            color:  #000000;\n        }    #T_0f087a26_a877_11ea_87de_0242ac110002row2_col4 {\n            background-color:  #f9f9f9;\n            color:  #000000;\n        }    #T_0f087a26_a877_11ea_87de_0242ac110002row2_col5 {\n            background-color:  #f6f6f6;\n            color:  #000000;\n        }    #T_0f087a26_a877_11ea_87de_0242ac110002row2_col6 {\n            background-color:  #f7f7f7;\n            color:  #000000;\n        }    #T_0f087a26_a877_11ea_87de_0242ac110002row2_col7 {\n            background-color:  #fbfbfb;\n            color:  #000000;\n        }    #T_0f087a26_a877_11ea_87de_0242ac110002row2_col8 {\n            background-color:  #f7f7f7;\n            color:  #000000;\n        }    #T_0f087a26_a877_11ea_87de_0242ac110002row2_col9 {\n            background-color:  #d4d4d4;\n            color:  #000000;\n        }    #T_0f087a26_a877_11ea_87de_0242ac110002row2_col10 {\n            background-color:  #e7e7e7;\n            color:  #000000;\n        }    #T_0f087a26_a877_11ea_87de_0242ac110002row2_col11 {\n            background-color:  #d3d3d3;\n            color:  #000000;\n        }    #T_0f087a26_a877_11ea_87de_0242ac110002row2_col12 {\n            background-color:  #ededed;\n            color:  #000000;\n        }    #T_0f087a26_a877_11ea_87de_0242ac110002row2_col13 {\n            background-color:  #f3f3f3;\n            color:  #000000;\n        }    #T_0f087a26_a877_11ea_87de_0242ac110002row2_col14 {\n            background-color:  #f5f5f5;\n            color:  #000000;\n        }    #T_0f087a26_a877_11ea_87de_0242ac110002row2_col15 {\n            background-color:  #fafafa;\n            color:  #000000;\n        }    #T_0f087a26_a877_11ea_87de_0242ac110002row2_col16 {\n            background-color:  #fbfbfb;\n            color:  #000000;\n        }    #T_0f087a26_a877_11ea_87de_0242ac110002row2_col17 {\n            background-color:  #fbfbfb;\n            color:  #000000;\n        }    #T_0f087a26_a877_11ea_87de_0242ac110002row3_col0 {\n            background-color:  #e9e9e9;\n            color:  #000000;\n        }    #T_0f087a26_a877_11ea_87de_0242ac110002row3_col1 {\n            background-color:  #ececec;\n            color:  #000000;\n        }    #T_0f087a26_a877_11ea_87de_0242ac110002row3_col2 {\n            background-color:  #f7f7f7;\n            color:  #000000;\n        }    #T_0f087a26_a877_11ea_87de_0242ac110002row3_col3 {\n            background-color:  #000000;\n            color:  #f1f1f1;\n        }    #T_0f087a26_a877_11ea_87de_0242ac110002row3_col4 {\n            background-color:  #fbfbfb;\n            color:  #000000;\n        }    #T_0f087a26_a877_11ea_87de_0242ac110002row3_col5 {\n            background-color:  #f7f7f7;\n            color:  #000000;\n        }    #T_0f087a26_a877_11ea_87de_0242ac110002row3_col6 {\n            background-color:  #f8f8f8;\n            color:  #000000;\n        }    #T_0f087a26_a877_11ea_87de_0242ac110002row3_col7 {\n            background-color:  #f2f2f2;\n            color:  #000000;\n        }    #T_0f087a26_a877_11ea_87de_0242ac110002row3_col8 {\n            background-color:  #f7f7f7;\n            color:  #000000;\n        }    #T_0f087a26_a877_11ea_87de_0242ac110002row3_col9 {\n            background-color:  #dfdfdf;\n            color:  #000000;\n        }    #T_0f087a26_a877_11ea_87de_0242ac110002row3_col10 {\n            background-color:  #dcdcdc;\n            color:  #000000;\n        }    #T_0f087a26_a877_11ea_87de_0242ac110002row3_col11 {\n            background-color:  #e6e6e6;\n            color:  #000000;\n        }    #T_0f087a26_a877_11ea_87de_0242ac110002row3_col12 {\n            background-color:  #f7f7f7;\n            color:  #000000;\n        }    #T_0f087a26_a877_11ea_87de_0242ac110002row3_col13 {\n            background-color:  #efefef;\n            color:  #000000;\n        }    #T_0f087a26_a877_11ea_87de_0242ac110002row3_col14 {\n            background-color:  #f8f8f8;\n            color:  #000000;\n        }    #T_0f087a26_a877_11ea_87de_0242ac110002row3_col15 {\n            background-color:  #fbfbfb;\n            color:  #000000;\n        }    #T_0f087a26_a877_11ea_87de_0242ac110002row3_col16 {\n            background-color:  #f6f6f6;\n            color:  #000000;\n        }    #T_0f087a26_a877_11ea_87de_0242ac110002row3_col17 {\n            background-color:  #fcfcfc;\n            color:  #000000;\n        }    #T_0f087a26_a877_11ea_87de_0242ac110002row4_col0 {\n            background-color:  #e9e9e9;\n            color:  #000000;\n        }    #T_0f087a26_a877_11ea_87de_0242ac110002row4_col1 {\n            background-color:  #fafafa;\n            color:  #000000;\n        }    #T_0f087a26_a877_11ea_87de_0242ac110002row4_col2 {\n            background-color:  #f8f8f8;\n            color:  #000000;\n        }    #T_0f087a26_a877_11ea_87de_0242ac110002row4_col3 {\n            background-color:  #f9f9f9;\n            color:  #000000;\n        }    #T_0f087a26_a877_11ea_87de_0242ac110002row4_col4 {\n            background-color:  #000000;\n            color:  #f1f1f1;\n        }    #T_0f087a26_a877_11ea_87de_0242ac110002row4_col5 {\n            background-color:  #f5f5f5;\n            color:  #000000;\n        }    #T_0f087a26_a877_11ea_87de_0242ac110002row4_col6 {\n            background-color:  #f6f6f6;\n            color:  #000000;\n        }    #T_0f087a26_a877_11ea_87de_0242ac110002row4_col7 {\n            background-color:  #f2f2f2;\n            color:  #000000;\n        }    #T_0f087a26_a877_11ea_87de_0242ac110002row4_col8 {\n            background-color:  #e7e7e7;\n            color:  #000000;\n        }    #T_0f087a26_a877_11ea_87de_0242ac110002row4_col9 {\n            background-color:  #dbdbdb;\n            color:  #000000;\n        }    #T_0f087a26_a877_11ea_87de_0242ac110002row4_col10 {\n            background-color:  #e4e4e4;\n            color:  #000000;\n        }    #T_0f087a26_a877_11ea_87de_0242ac110002row4_col11 {\n            background-color:  #e3e3e3;\n            color:  #000000;\n        }    #T_0f087a26_a877_11ea_87de_0242ac110002row4_col12 {\n            background-color:  #f5f5f5;\n            color:  #000000;\n        }    #T_0f087a26_a877_11ea_87de_0242ac110002row4_col13 {\n            background-color:  #f9f9f9;\n            color:  #000000;\n        }    #T_0f087a26_a877_11ea_87de_0242ac110002row4_col14 {\n            background-color:  #fdfdfd;\n            color:  #000000;\n        }    #T_0f087a26_a877_11ea_87de_0242ac110002row4_col15 {\n            background-color:  #f8f8f8;\n            color:  #000000;\n        }    #T_0f087a26_a877_11ea_87de_0242ac110002row4_col16 {\n            background-color:  #fafafa;\n            color:  #000000;\n        }    #T_0f087a26_a877_11ea_87de_0242ac110002row4_col17 {\n            background-color:  #fafafa;\n            color:  #000000;\n        }    #T_0f087a26_a877_11ea_87de_0242ac110002row5_col0 {\n            background-color:  #ededed;\n            color:  #000000;\n        }    #T_0f087a26_a877_11ea_87de_0242ac110002row5_col1 {\n            background-color:  #fafafa;\n            color:  #000000;\n        }    #T_0f087a26_a877_11ea_87de_0242ac110002row5_col2 {\n            background-color:  #f9f9f9;\n            color:  #000000;\n        }    #T_0f087a26_a877_11ea_87de_0242ac110002row5_col3 {\n            background-color:  #fbfbfb;\n            color:  #000000;\n        }    #T_0f087a26_a877_11ea_87de_0242ac110002row5_col4 {\n            background-color:  #f9f9f9;\n            color:  #000000;\n        }    #T_0f087a26_a877_11ea_87de_0242ac110002row5_col5 {\n            background-color:  #000000;\n            color:  #f1f1f1;\n        }    #T_0f087a26_a877_11ea_87de_0242ac110002row5_col6 {\n            background-color:  #f7f7f7;\n            color:  #000000;\n        }    #T_0f087a26_a877_11ea_87de_0242ac110002row5_col7 {\n            background-color:  #dedede;\n            color:  #000000;\n        }    #T_0f087a26_a877_11ea_87de_0242ac110002row5_col8 {\n            background-color:  #f6f6f6;\n            color:  #000000;\n        }    #T_0f087a26_a877_11ea_87de_0242ac110002row5_col9 {\n            background-color:  #f2f2f2;\n            color:  #000000;\n        }    #T_0f087a26_a877_11ea_87de_0242ac110002row5_col10 {\n            background-color:  #bebebe;\n            color:  #000000;\n        }    #T_0f087a26_a877_11ea_87de_0242ac110002row5_col11 {\n            background-color:  #e6e6e6;\n            color:  #000000;\n        }    #T_0f087a26_a877_11ea_87de_0242ac110002row5_col12 {\n            background-color:  #f6f6f6;\n            color:  #000000;\n        }    #T_0f087a26_a877_11ea_87de_0242ac110002row5_col13 {\n            background-color:  #f9f9f9;\n            color:  #000000;\n        }    #T_0f087a26_a877_11ea_87de_0242ac110002row5_col14 {\n            background-color:  #fefefe;\n            color:  #000000;\n        }    #T_0f087a26_a877_11ea_87de_0242ac110002row5_col15 {\n            background-color:  #f9f9f9;\n            color:  #000000;\n        }    #T_0f087a26_a877_11ea_87de_0242ac110002row5_col16 {\n            background-color:  #f1f1f1;\n            color:  #000000;\n        }    #T_0f087a26_a877_11ea_87de_0242ac110002row5_col17 {\n            background-color:  #fafafa;\n            color:  #000000;\n        }    #T_0f087a26_a877_11ea_87de_0242ac110002row6_col0 {\n            background-color:  #f7f7f7;\n            color:  #000000;\n        }    #T_0f087a26_a877_11ea_87de_0242ac110002row6_col1 {\n            background-color:  #fafafa;\n            color:  #000000;\n        }    #T_0f087a26_a877_11ea_87de_0242ac110002row6_col2 {\n            background-color:  #f8f8f8;\n            color:  #000000;\n        }    #T_0f087a26_a877_11ea_87de_0242ac110002row6_col3 {\n            background-color:  #fafafa;\n            color:  #000000;\n        }    #T_0f087a26_a877_11ea_87de_0242ac110002row6_col4 {\n            background-color:  #f8f8f8;\n            color:  #000000;\n        }    #T_0f087a26_a877_11ea_87de_0242ac110002row6_col5 {\n            background-color:  #f5f5f5;\n            color:  #000000;\n        }    #T_0f087a26_a877_11ea_87de_0242ac110002row6_col6 {\n            background-color:  #000000;\n            color:  #f1f1f1;\n        }    #T_0f087a26_a877_11ea_87de_0242ac110002row6_col7 {\n            background-color:  #f9f9f9;\n            color:  #000000;\n        }    #T_0f087a26_a877_11ea_87de_0242ac110002row6_col8 {\n            background-color:  #f6f6f6;\n            color:  #000000;\n        }    #T_0f087a26_a877_11ea_87de_0242ac110002row6_col9 {\n            background-color:  #f1f1f1;\n            color:  #000000;\n        }    #T_0f087a26_a877_11ea_87de_0242ac110002row6_col10 {\n            background-color:  #e7e7e7;\n            color:  #000000;\n        }    #T_0f087a26_a877_11ea_87de_0242ac110002row6_col11 {\n            background-color:  #e4e4e4;\n            color:  #000000;\n        }    #T_0f087a26_a877_11ea_87de_0242ac110002row6_col12 {\n            background-color:  #f5f5f5;\n            color:  #000000;\n        }    #T_0f087a26_a877_11ea_87de_0242ac110002row6_col13 {\n            background-color:  #f9f9f9;\n            color:  #000000;\n        }    #T_0f087a26_a877_11ea_87de_0242ac110002row6_col14 {\n            background-color:  #fdfdfd;\n            color:  #000000;\n        }    #T_0f087a26_a877_11ea_87de_0242ac110002row6_col15 {\n            background-color:  #f0f0f0;\n            color:  #000000;\n        }    #T_0f087a26_a877_11ea_87de_0242ac110002row6_col16 {\n            background-color:  #fafafa;\n            color:  #000000;\n        }    #T_0f087a26_a877_11ea_87de_0242ac110002row6_col17 {\n            background-color:  #eeeeee;\n            color:  #000000;\n        }    #T_0f087a26_a877_11ea_87de_0242ac110002row7_col0 {\n            background-color:  #e9e9e9;\n            color:  #000000;\n        }    #T_0f087a26_a877_11ea_87de_0242ac110002row7_col1 {\n            background-color:  #f4f4f4;\n            color:  #000000;\n        }    #T_0f087a26_a877_11ea_87de_0242ac110002row7_col2 {\n            background-color:  #fbfbfb;\n            color:  #000000;\n        }    #T_0f087a26_a877_11ea_87de_0242ac110002row7_col3 {\n            background-color:  #f2f2f2;\n            color:  #000000;\n        }    #T_0f087a26_a877_11ea_87de_0242ac110002row7_col4 {\n            background-color:  #f4f4f4;\n            color:  #000000;\n        }    #T_0f087a26_a877_11ea_87de_0242ac110002row7_col5 {\n            background-color:  #dbdbdb;\n            color:  #000000;\n        }    #T_0f087a26_a877_11ea_87de_0242ac110002row7_col6 {\n            background-color:  #f8f8f8;\n            color:  #000000;\n        }    #T_0f087a26_a877_11ea_87de_0242ac110002row7_col7 {\n            background-color:  #000000;\n            color:  #f1f1f1;\n        }    #T_0f087a26_a877_11ea_87de_0242ac110002row7_col8 {\n            background-color:  #f0f0f0;\n            color:  #000000;\n        }    #T_0f087a26_a877_11ea_87de_0242ac110002row7_col9 {\n            background-color:  #f0f0f0;\n            color:  #000000;\n        }    #T_0f087a26_a877_11ea_87de_0242ac110002row7_col10 {\n            background-color:  #d7d7d7;\n            color:  #000000;\n        }    #T_0f087a26_a877_11ea_87de_0242ac110002row7_col11 {\n            background-color:  #e1e1e1;\n            color:  #000000;\n        }    #T_0f087a26_a877_11ea_87de_0242ac110002row7_col12 {\n            background-color:  #e7e7e7;\n            color:  #000000;\n        }    #T_0f087a26_a877_11ea_87de_0242ac110002row7_col13 {\n            background-color:  #f5f5f5;\n            color:  #000000;\n        }    #T_0f087a26_a877_11ea_87de_0242ac110002row7_col14 {\n            background-color:  #ffffff;\n            color:  #000000;\n        }    #T_0f087a26_a877_11ea_87de_0242ac110002row7_col15 {\n            background-color:  #f6f6f6;\n            color:  #000000;\n        }    #T_0f087a26_a877_11ea_87de_0242ac110002row7_col16 {\n            background-color:  #fcfcfc;\n            color:  #000000;\n        }    #T_0f087a26_a877_11ea_87de_0242ac110002row7_col17 {\n            background-color:  #fcfcfc;\n            color:  #000000;\n        }    #T_0f087a26_a877_11ea_87de_0242ac110002row8_col0 {\n            background-color:  #e7e7e7;\n            color:  #000000;\n        }    #T_0f087a26_a877_11ea_87de_0242ac110002row8_col1 {\n            background-color:  #fafafa;\n            color:  #000000;\n        }    #T_0f087a26_a877_11ea_87de_0242ac110002row8_col2 {\n            background-color:  #f8f8f8;\n            color:  #000000;\n        }    #T_0f087a26_a877_11ea_87de_0242ac110002row8_col3 {\n            background-color:  #f9f9f9;\n            color:  #000000;\n        }    #T_0f087a26_a877_11ea_87de_0242ac110002row8_col4 {\n            background-color:  #eaeaea;\n            color:  #000000;\n        }    #T_0f087a26_a877_11ea_87de_0242ac110002row8_col5 {\n            background-color:  #f5f5f5;\n            color:  #000000;\n        }    #T_0f087a26_a877_11ea_87de_0242ac110002row8_col6 {\n            background-color:  #f6f6f6;\n            color:  #000000;\n        }    #T_0f087a26_a877_11ea_87de_0242ac110002row8_col7 {\n            background-color:  #f2f2f2;\n            color:  #000000;\n        }    #T_0f087a26_a877_11ea_87de_0242ac110002row8_col8 {\n            background-color:  #000000;\n            color:  #f1f1f1;\n        }    #T_0f087a26_a877_11ea_87de_0242ac110002row8_col9 {\n            background-color:  #efefef;\n            color:  #000000;\n        }    #T_0f087a26_a877_11ea_87de_0242ac110002row8_col10 {\n            background-color:  #e8e8e8;\n            color:  #000000;\n        }    #T_0f087a26_a877_11ea_87de_0242ac110002row8_col11 {\n            background-color:  #e2e2e2;\n            color:  #000000;\n        }    #T_0f087a26_a877_11ea_87de_0242ac110002row8_col12 {\n            background-color:  #f5f5f5;\n            color:  #000000;\n        }    #T_0f087a26_a877_11ea_87de_0242ac110002row8_col13 {\n            background-color:  #f8f8f8;\n            color:  #000000;\n        }    #T_0f087a26_a877_11ea_87de_0242ac110002row8_col14 {\n            background-color:  #fdfdfd;\n            color:  #000000;\n        }    #T_0f087a26_a877_11ea_87de_0242ac110002row8_col15 {\n            background-color:  #f8f8f8;\n            color:  #000000;\n        }    #T_0f087a26_a877_11ea_87de_0242ac110002row8_col16 {\n            background-color:  #f9f9f9;\n            color:  #000000;\n        }    #T_0f087a26_a877_11ea_87de_0242ac110002row8_col17 {\n            background-color:  #fafafa;\n            color:  #000000;\n        }    #T_0f087a26_a877_11ea_87de_0242ac110002row9_col0 {\n            background-color:  #ffffff;\n            color:  #000000;\n        }    #T_0f087a26_a877_11ea_87de_0242ac110002row9_col1 {\n            background-color:  #f5f5f5;\n            color:  #000000;\n        }    #T_0f087a26_a877_11ea_87de_0242ac110002row9_col2 {\n            background-color:  #e9e9e9;\n            color:  #000000;\n        }    #T_0f087a26_a877_11ea_87de_0242ac110002row9_col3 {\n            background-color:  #f3f3f3;\n            color:  #000000;\n        }    #T_0f087a26_a877_11ea_87de_0242ac110002row9_col4 {\n            background-color:  #f1f1f1;\n            color:  #000000;\n        }    #T_0f087a26_a877_11ea_87de_0242ac110002row9_col5 {\n            background-color:  #ffffff;\n            color:  #000000;\n        }    #T_0f087a26_a877_11ea_87de_0242ac110002row9_col6 {\n            background-color:  #ffffff;\n            color:  #000000;\n        }    #T_0f087a26_a877_11ea_87de_0242ac110002row9_col7 {\n            background-color:  #ffffff;\n            color:  #000000;\n        }    #T_0f087a26_a877_11ea_87de_0242ac110002row9_col8 {\n            background-color:  #fefefe;\n            color:  #000000;\n        }    #T_0f087a26_a877_11ea_87de_0242ac110002row9_col9 {\n            background-color:  #000000;\n            color:  #f1f1f1;\n        }    #T_0f087a26_a877_11ea_87de_0242ac110002row9_col10 {\n            background-color:  #f8f8f8;\n            color:  #000000;\n        }    #T_0f087a26_a877_11ea_87de_0242ac110002row9_col11 {\n            background-color:  #ebebeb;\n            color:  #000000;\n        }    #T_0f087a26_a877_11ea_87de_0242ac110002row9_col12 {\n            background-color:  #fafafa;\n            color:  #000000;\n        }    #T_0f087a26_a877_11ea_87de_0242ac110002row9_col13 {\n            background-color:  #f0f0f0;\n            color:  #000000;\n        }    #T_0f087a26_a877_11ea_87de_0242ac110002row9_col14 {\n            background-color:  #fcfcfc;\n            color:  #000000;\n        }    #T_0f087a26_a877_11ea_87de_0242ac110002row9_col15 {\n            background-color:  #f9f9f9;\n            color:  #000000;\n        }    #T_0f087a26_a877_11ea_87de_0242ac110002row9_col16 {\n            background-color:  #ffffff;\n            color:  #000000;\n        }    #T_0f087a26_a877_11ea_87de_0242ac110002row9_col17 {\n            background-color:  #f9f9f9;\n            color:  #000000;\n        }    #T_0f087a26_a877_11ea_87de_0242ac110002row10_col0 {\n            background-color:  #f9f9f9;\n            color:  #000000;\n        }    #T_0f087a26_a877_11ea_87de_0242ac110002row10_col1 {\n            background-color:  #ffffff;\n            color:  #000000;\n        }    #T_0f087a26_a877_11ea_87de_0242ac110002row10_col2 {\n            background-color:  #ffffff;\n            color:  #000000;\n        }    #T_0f087a26_a877_11ea_87de_0242ac110002row10_col3 {\n            background-color:  #f7f7f7;\n            color:  #000000;\n        }    #T_0f087a26_a877_11ea_87de_0242ac110002row10_col4 {\n            background-color:  #ffffff;\n            color:  #000000;\n        }    #T_0f087a26_a877_11ea_87de_0242ac110002row10_col5 {\n            background-color:  #d8d8d8;\n            color:  #000000;\n        }    #T_0f087a26_a877_11ea_87de_0242ac110002row10_col6 {\n            background-color:  #fefefe;\n            color:  #000000;\n        }    #T_0f087a26_a877_11ea_87de_0242ac110002row10_col7 {\n            background-color:  #f3f3f3;\n            color:  #000000;\n        }    #T_0f087a26_a877_11ea_87de_0242ac110002row10_col8 {\n            background-color:  #ffffff;\n            color:  #000000;\n        }    #T_0f087a26_a877_11ea_87de_0242ac110002row10_col9 {\n            background-color:  #ffffff;\n            color:  #000000;\n        }    #T_0f087a26_a877_11ea_87de_0242ac110002row10_col10 {\n            background-color:  #000000;\n            color:  #f1f1f1;\n        }    #T_0f087a26_a877_11ea_87de_0242ac110002row10_col11 {\n            background-color:  #ffffff;\n            color:  #000000;\n        }    #T_0f087a26_a877_11ea_87de_0242ac110002row10_col12 {\n            background-color:  #ffffff;\n            color:  #000000;\n        }    #T_0f087a26_a877_11ea_87de_0242ac110002row10_col13 {\n            background-color:  #fefefe;\n            color:  #000000;\n        }    #T_0f087a26_a877_11ea_87de_0242ac110002row10_col14 {\n            background-color:  #fafafa;\n            color:  #000000;\n        }    #T_0f087a26_a877_11ea_87de_0242ac110002row10_col15 {\n            background-color:  #ffffff;\n            color:  #000000;\n        }    #T_0f087a26_a877_11ea_87de_0242ac110002row10_col16 {\n            background-color:  #f3f3f3;\n            color:  #000000;\n        }    #T_0f087a26_a877_11ea_87de_0242ac110002row10_col17 {\n            background-color:  #f7f7f7;\n            color:  #000000;\n        }    #T_0f087a26_a877_11ea_87de_0242ac110002row11_col0 {\n            background-color:  #fdfdfd;\n            color:  #000000;\n        }    #T_0f087a26_a877_11ea_87de_0242ac110002row11_col1 {\n            background-color:  #f5f5f5;\n            color:  #000000;\n        }    #T_0f087a26_a877_11ea_87de_0242ac110002row11_col2 {\n            background-color:  #f0f0f0;\n            color:  #000000;\n        }    #T_0f087a26_a877_11ea_87de_0242ac110002row11_col3 {\n            background-color:  #ffffff;\n            color:  #000000;\n        }    #T_0f087a26_a877_11ea_87de_0242ac110002row11_col4 {\n            background-color:  #fefefe;\n            color:  #000000;\n        }    #T_0f087a26_a877_11ea_87de_0242ac110002row11_col5 {\n            background-color:  #fcfcfc;\n            color:  #000000;\n        }    #T_0f087a26_a877_11ea_87de_0242ac110002row11_col6 {\n            background-color:  #fcfcfc;\n            color:  #000000;\n        }    #T_0f087a26_a877_11ea_87de_0242ac110002row11_col7 {\n            background-color:  #fbfbfb;\n            color:  #000000;\n        }    #T_0f087a26_a877_11ea_87de_0242ac110002row11_col8 {\n            background-color:  #fbfbfb;\n            color:  #000000;\n        }    #T_0f087a26_a877_11ea_87de_0242ac110002row11_col9 {\n            background-color:  #f3f3f3;\n            color:  #000000;\n        }    #T_0f087a26_a877_11ea_87de_0242ac110002row11_col10 {\n            background-color:  #ffffff;\n            color:  #000000;\n        }    #T_0f087a26_a877_11ea_87de_0242ac110002row11_col11 {\n            background-color:  #000000;\n            color:  #f1f1f1;\n        }    #T_0f087a26_a877_11ea_87de_0242ac110002row11_col12 {\n            background-color:  #fbfbfb;\n            color:  #000000;\n        }    #T_0f087a26_a877_11ea_87de_0242ac110002row11_col13 {\n            background-color:  #ffffff;\n            color:  #000000;\n        }    #T_0f087a26_a877_11ea_87de_0242ac110002row11_col14 {\n            background-color:  #fdfdfd;\n            color:  #000000;\n        }    #T_0f087a26_a877_11ea_87de_0242ac110002row11_col15 {\n            background-color:  #f8f8f8;\n            color:  #000000;\n        }    #T_0f087a26_a877_11ea_87de_0242ac110002row11_col16 {\n            background-color:  #f7f7f7;\n            color:  #000000;\n        }    #T_0f087a26_a877_11ea_87de_0242ac110002row11_col17 {\n            background-color:  #ffffff;\n            color:  #000000;\n        }    #T_0f087a26_a877_11ea_87de_0242ac110002row12_col0 {\n            background-color:  #f7f7f7;\n            color:  #000000;\n        }    #T_0f087a26_a877_11ea_87de_0242ac110002row12_col1 {\n            background-color:  #fafafa;\n            color:  #000000;\n        }    #T_0f087a26_a877_11ea_87de_0242ac110002row12_col2 {\n            background-color:  #f0f0f0;\n            color:  #000000;\n        }    #T_0f087a26_a877_11ea_87de_0242ac110002row12_col3 {\n            background-color:  #f9f9f9;\n            color:  #000000;\n        }    #T_0f087a26_a877_11ea_87de_0242ac110002row12_col4 {\n            background-color:  #f8f8f8;\n            color:  #000000;\n        }    #T_0f087a26_a877_11ea_87de_0242ac110002row12_col5 {\n            background-color:  #f5f5f5;\n            color:  #000000;\n        }    #T_0f087a26_a877_11ea_87de_0242ac110002row12_col6 {\n            background-color:  #f6f6f6;\n            color:  #000000;\n        }    #T_0f087a26_a877_11ea_87de_0242ac110002row12_col7 {\n            background-color:  #e9e9e9;\n            color:  #000000;\n        }    #T_0f087a26_a877_11ea_87de_0242ac110002row12_col8 {\n            background-color:  #f5f5f5;\n            color:  #000000;\n        }    #T_0f087a26_a877_11ea_87de_0242ac110002row12_col9 {\n            background-color:  #ebebeb;\n            color:  #000000;\n        }    #T_0f087a26_a877_11ea_87de_0242ac110002row12_col10 {\n            background-color:  #e9e9e9;\n            color:  #000000;\n        }    #T_0f087a26_a877_11ea_87de_0242ac110002row12_col11 {\n            background-color:  #e3e3e3;\n            color:  #000000;\n        }    #T_0f087a26_a877_11ea_87de_0242ac110002row12_col12 {\n            background-color:  #000000;\n            color:  #f1f1f1;\n        }    #T_0f087a26_a877_11ea_87de_0242ac110002row12_col13 {\n            background-color:  #f9f9f9;\n            color:  #000000;\n        }    #T_0f087a26_a877_11ea_87de_0242ac110002row12_col14 {\n            background-color:  #fdfdfd;\n            color:  #000000;\n        }    #T_0f087a26_a877_11ea_87de_0242ac110002row12_col15 {\n            background-color:  #f8f8f8;\n            color:  #000000;\n        }    #T_0f087a26_a877_11ea_87de_0242ac110002row12_col16 {\n            background-color:  #fafafa;\n            color:  #000000;\n        }    #T_0f087a26_a877_11ea_87de_0242ac110002row12_col17 {\n            background-color:  #fafafa;\n            color:  #000000;\n        }    #T_0f087a26_a877_11ea_87de_0242ac110002row13_col0 {\n            background-color:  #eaeaea;\n            color:  #000000;\n        }    #T_0f087a26_a877_11ea_87de_0242ac110002row13_col1 {\n            background-color:  #fafafa;\n            color:  #000000;\n        }    #T_0f087a26_a877_11ea_87de_0242ac110002row13_col2 {\n            background-color:  #f1f1f1;\n            color:  #000000;\n        }    #T_0f087a26_a877_11ea_87de_0242ac110002row13_col3 {\n            background-color:  #ededed;\n            color:  #000000;\n        }    #T_0f087a26_a877_11ea_87de_0242ac110002row13_col4 {\n            background-color:  #f8f8f8;\n            color:  #000000;\n        }    #T_0f087a26_a877_11ea_87de_0242ac110002row13_col5 {\n            background-color:  #f5f5f5;\n            color:  #000000;\n        }    #T_0f087a26_a877_11ea_87de_0242ac110002row13_col6 {\n            background-color:  #f6f6f6;\n            color:  #000000;\n        }    #T_0f087a26_a877_11ea_87de_0242ac110002row13_col7 {\n            background-color:  #f3f3f3;\n            color:  #000000;\n        }    #T_0f087a26_a877_11ea_87de_0242ac110002row13_col8 {\n            background-color:  #f6f6f6;\n            color:  #000000;\n        }    #T_0f087a26_a877_11ea_87de_0242ac110002row13_col9 {\n            background-color:  #dadada;\n            color:  #000000;\n        }    #T_0f087a26_a877_11ea_87de_0242ac110002row13_col10 {\n            background-color:  #e2e2e2;\n            color:  #000000;\n        }    #T_0f087a26_a877_11ea_87de_0242ac110002row13_col11 {\n            background-color:  #e4e4e4;\n            color:  #000000;\n        }    #T_0f087a26_a877_11ea_87de_0242ac110002row13_col12 {\n            background-color:  #f5f5f5;\n            color:  #000000;\n        }    #T_0f087a26_a877_11ea_87de_0242ac110002row13_col13 {\n            background-color:  #000000;\n            color:  #f1f1f1;\n        }    #T_0f087a26_a877_11ea_87de_0242ac110002row13_col14 {\n            background-color:  #f1f1f1;\n            color:  #000000;\n        }    #T_0f087a26_a877_11ea_87de_0242ac110002row13_col15 {\n            background-color:  #f8f8f8;\n            color:  #000000;\n        }    #T_0f087a26_a877_11ea_87de_0242ac110002row13_col16 {\n            background-color:  #fafafa;\n            color:  #000000;\n        }    #T_0f087a26_a877_11ea_87de_0242ac110002row13_col17 {\n            background-color:  #fafafa;\n            color:  #000000;\n        }    #T_0f087a26_a877_11ea_87de_0242ac110002row14_col0 {\n            background-color:  #e6e6e6;\n            color:  #000000;\n        }    #T_0f087a26_a877_11ea_87de_0242ac110002row14_col1 {\n            background-color:  #f9f9f9;\n            color:  #000000;\n        }    #T_0f087a26_a877_11ea_87de_0242ac110002row14_col2 {\n            background-color:  #eeeeee;\n            color:  #000000;\n        }    #T_0f087a26_a877_11ea_87de_0242ac110002row14_col3 {\n            background-color:  #f2f2f2;\n            color:  #000000;\n        }    #T_0f087a26_a877_11ea_87de_0242ac110002row14_col4 {\n            background-color:  #f8f8f8;\n            color:  #000000;\n        }    #T_0f087a26_a877_11ea_87de_0242ac110002row14_col5 {\n            background-color:  #f4f4f4;\n            color:  #000000;\n        }    #T_0f087a26_a877_11ea_87de_0242ac110002row14_col6 {\n            background-color:  #f6f6f6;\n            color:  #000000;\n        }    #T_0f087a26_a877_11ea_87de_0242ac110002row14_col7 {\n            background-color:  #f8f8f8;\n            color:  #000000;\n        }    #T_0f087a26_a877_11ea_87de_0242ac110002row14_col8 {\n            background-color:  #f5f5f5;\n            color:  #000000;\n        }    #T_0f087a26_a877_11ea_87de_0242ac110002row14_col9 {\n            background-color:  #e2e2e2;\n            color:  #000000;\n        }    #T_0f087a26_a877_11ea_87de_0242ac110002row14_col10 {\n            background-color:  #d7d7d7;\n            color:  #000000;\n        }    #T_0f087a26_a877_11ea_87de_0242ac110002row14_col11 {\n            background-color:  #dcdcdc;\n            color:  #000000;\n        }    #T_0f087a26_a877_11ea_87de_0242ac110002row14_col12 {\n            background-color:  #f5f5f5;\n            color:  #000000;\n        }    #T_0f087a26_a877_11ea_87de_0242ac110002row14_col13 {\n            background-color:  #ebebeb;\n            color:  #000000;\n        }    #T_0f087a26_a877_11ea_87de_0242ac110002row14_col14 {\n            background-color:  #000000;\n            color:  #f1f1f1;\n        }    #T_0f087a26_a877_11ea_87de_0242ac110002row14_col15 {\n            background-color:  #f8f8f8;\n            color:  #000000;\n        }    #T_0f087a26_a877_11ea_87de_0242ac110002row14_col16 {\n            background-color:  #f9f9f9;\n            color:  #000000;\n        }    #T_0f087a26_a877_11ea_87de_0242ac110002row14_col17 {\n            background-color:  #f9f9f9;\n            color:  #000000;\n        }    #T_0f087a26_a877_11ea_87de_0242ac110002row15_col0 {\n            background-color:  #f7f7f7;\n            color:  #000000;\n        }    #T_0f087a26_a877_11ea_87de_0242ac110002row15_col1 {\n            background-color:  #fafafa;\n            color:  #000000;\n        }    #T_0f087a26_a877_11ea_87de_0242ac110002row15_col2 {\n            background-color:  #f9f9f9;\n            color:  #000000;\n        }    #T_0f087a26_a877_11ea_87de_0242ac110002row15_col3 {\n            background-color:  #fbfbfb;\n            color:  #000000;\n        }    #T_0f087a26_a877_11ea_87de_0242ac110002row15_col4 {\n            background-color:  #f9f9f9;\n            color:  #000000;\n        }    #T_0f087a26_a877_11ea_87de_0242ac110002row15_col5 {\n            background-color:  #f6f6f6;\n            color:  #000000;\n        }    #T_0f087a26_a877_11ea_87de_0242ac110002row15_col6 {\n            background-color:  #ededed;\n            color:  #000000;\n        }    #T_0f087a26_a877_11ea_87de_0242ac110002row15_col7 {\n            background-color:  #f5f5f5;\n            color:  #000000;\n        }    #T_0f087a26_a877_11ea_87de_0242ac110002row15_col8 {\n            background-color:  #f6f6f6;\n            color:  #000000;\n        }    #T_0f087a26_a877_11ea_87de_0242ac110002row15_col9 {\n            background-color:  #e7e7e7;\n            color:  #000000;\n        }    #T_0f087a26_a877_11ea_87de_0242ac110002row15_col10 {\n            background-color:  #e5e5e5;\n            color:  #000000;\n        }    #T_0f087a26_a877_11ea_87de_0242ac110002row15_col11 {\n            background-color:  #dcdcdc;\n            color:  #000000;\n        }    #T_0f087a26_a877_11ea_87de_0242ac110002row15_col12 {\n            background-color:  #f6f6f6;\n            color:  #000000;\n        }    #T_0f087a26_a877_11ea_87de_0242ac110002row15_col13 {\n            background-color:  #f9f9f9;\n            color:  #000000;\n        }    #T_0f087a26_a877_11ea_87de_0242ac110002row15_col14 {\n            background-color:  #fefefe;\n            color:  #000000;\n        }    #T_0f087a26_a877_11ea_87de_0242ac110002row15_col15 {\n            background-color:  #000000;\n            color:  #f1f1f1;\n        }    #T_0f087a26_a877_11ea_87de_0242ac110002row15_col16 {\n            background-color:  #fafafa;\n            color:  #000000;\n        }    #T_0f087a26_a877_11ea_87de_0242ac110002row15_col17 {\n            background-color:  #fafafa;\n            color:  #000000;\n        }    #T_0f087a26_a877_11ea_87de_0242ac110002row16_col0 {\n            background-color:  #f7f7f7;\n            color:  #000000;\n        }    #T_0f087a26_a877_11ea_87de_0242ac110002row16_col1 {\n            background-color:  #ececec;\n            color:  #000000;\n        }    #T_0f087a26_a877_11ea_87de_0242ac110002row16_col2 {\n            background-color:  #f8f8f8;\n            color:  #000000;\n        }    #T_0f087a26_a877_11ea_87de_0242ac110002row16_col3 {\n            background-color:  #f4f4f4;\n            color:  #000000;\n        }    #T_0f087a26_a877_11ea_87de_0242ac110002row16_col4 {\n            background-color:  #f8f8f8;\n            color:  #000000;\n        }    #T_0f087a26_a877_11ea_87de_0242ac110002row16_col5 {\n            background-color:  #eaeaea;\n            color:  #000000;\n        }    #T_0f087a26_a877_11ea_87de_0242ac110002row16_col6 {\n            background-color:  #f6f6f6;\n            color:  #000000;\n        }    #T_0f087a26_a877_11ea_87de_0242ac110002row16_col7 {\n            background-color:  #f9f9f9;\n            color:  #000000;\n        }    #T_0f087a26_a877_11ea_87de_0242ac110002row16_col8 {\n            background-color:  #f6f6f6;\n            color:  #000000;\n        }    #T_0f087a26_a877_11ea_87de_0242ac110002row16_col9 {\n            background-color:  #ececec;\n            color:  #000000;\n        }    #T_0f087a26_a877_11ea_87de_0242ac110002row16_col10 {\n            background-color:  #d3d3d3;\n            color:  #000000;\n        }    #T_0f087a26_a877_11ea_87de_0242ac110002row16_col11 {\n            background-color:  #d9d9d9;\n            color:  #000000;\n        }    #T_0f087a26_a877_11ea_87de_0242ac110002row16_col12 {\n            background-color:  #f5f5f5;\n            color:  #000000;\n        }    #T_0f087a26_a877_11ea_87de_0242ac110002row16_col13 {\n            background-color:  #f9f9f9;\n            color:  #000000;\n        }    #T_0f087a26_a877_11ea_87de_0242ac110002row16_col14 {\n            background-color:  #fdfdfd;\n            color:  #000000;\n        }    #T_0f087a26_a877_11ea_87de_0242ac110002row16_col15 {\n            background-color:  #f8f8f8;\n            color:  #000000;\n        }    #T_0f087a26_a877_11ea_87de_0242ac110002row16_col16 {\n            background-color:  #000000;\n            color:  #f1f1f1;\n        }    #T_0f087a26_a877_11ea_87de_0242ac110002row16_col17 {\n            background-color:  #fafafa;\n            color:  #000000;\n        }    #T_0f087a26_a877_11ea_87de_0242ac110002row17_col0 {\n            background-color:  #f7f7f7;\n            color:  #000000;\n        }    #T_0f087a26_a877_11ea_87de_0242ac110002row17_col1 {\n            background-color:  #f9f9f9;\n            color:  #000000;\n        }    #T_0f087a26_a877_11ea_87de_0242ac110002row17_col2 {\n            background-color:  #f7f7f7;\n            color:  #000000;\n        }    #T_0f087a26_a877_11ea_87de_0242ac110002row17_col3 {\n            background-color:  #f9f9f9;\n            color:  #000000;\n        }    #T_0f087a26_a877_11ea_87de_0242ac110002row17_col4 {\n            background-color:  #f8f8f8;\n            color:  #000000;\n        }    #T_0f087a26_a877_11ea_87de_0242ac110002row17_col5 {\n            background-color:  #f4f4f4;\n            color:  #000000;\n        }    #T_0f087a26_a877_11ea_87de_0242ac110002row17_col6 {\n            background-color:  #e7e7e7;\n            color:  #000000;\n        }    #T_0f087a26_a877_11ea_87de_0242ac110002row17_col7 {\n            background-color:  #f8f8f8;\n            color:  #000000;\n        }    #T_0f087a26_a877_11ea_87de_0242ac110002row17_col8 {\n            background-color:  #f5f5f5;\n            color:  #000000;\n        }    #T_0f087a26_a877_11ea_87de_0242ac110002row17_col9 {\n            background-color:  #e2e2e2;\n            color:  #000000;\n        }    #T_0f087a26_a877_11ea_87de_0242ac110002row17_col10 {\n            background-color:  #d7d7d7;\n            color:  #000000;\n        }    #T_0f087a26_a877_11ea_87de_0242ac110002row17_col11 {\n            background-color:  #e2e2e2;\n            color:  #000000;\n        }    #T_0f087a26_a877_11ea_87de_0242ac110002row17_col12 {\n            background-color:  #f5f5f5;\n            color:  #000000;\n        }    #T_0f087a26_a877_11ea_87de_0242ac110002row17_col13 {\n            background-color:  #f8f8f8;\n            color:  #000000;\n        }    #T_0f087a26_a877_11ea_87de_0242ac110002row17_col14 {\n            background-color:  #fdfdfd;\n            color:  #000000;\n        }    #T_0f087a26_a877_11ea_87de_0242ac110002row17_col15 {\n            background-color:  #f8f8f8;\n            color:  #000000;\n        }    #T_0f087a26_a877_11ea_87de_0242ac110002row17_col16 {\n            background-color:  #f9f9f9;\n            color:  #000000;\n        }    #T_0f087a26_a877_11ea_87de_0242ac110002row17_col17 {\n            background-color:  #000000;\n            color:  #f1f1f1;\n        }</style><table id=\"T_0f087a26_a877_11ea_87de_0242ac110002\" ><thead>    <tr>        <th class=\"blank level0\" ></th>        <th class=\"col_heading level0 col0\" >agriculture [9]</th>        <th class=\"col_heading level0 col1\" >climate change [8]</th>        <th class=\"col_heading level0 col2\" >community gardens [20]</th>        <th class=\"col_heading level0 col3\" >food security [32]</th>        <th class=\"col_heading level0 col4\" >gardening [10]</th>        <th class=\"col_heading level0 col5\" >hydroponics [15]</th>        <th class=\"col_heading level0 col6\" >peri-urban farming [12]</th>        <th class=\"col_heading level0 col7\" >sustainability [30]</th>        <th class=\"col_heading level0 col8\" >urban [9]</th>        <th class=\"col_heading level0 col9\" >urban agriculture [115]</th>        <th class=\"col_heading level0 col10\" >urban farming [139]</th>        <th class=\"col_heading level0 col11\" >urban gardening [75]</th>        <th class=\"col_heading level0 col12\" >urban gardens [10]</th>        <th class=\"col_heading level0 col13\" >urban planning [12]</th>        <th class=\"col_heading level0 col14\" >urbanization [8]</th>        <th class=\"col_heading level0 col15\" >vegetables [15]</th>        <th class=\"col_heading level0 col16\" >vertical farming [11]</th>        <th class=\"col_heading level0 col17\" >wastewater [8]</th>    </tr></thead><tbody>\n                <tr>\n                        <th id=\"T_0f087a26_a877_11ea_87de_0242ac110002level0_row0\" class=\"row_heading level0 row0\" >agriculture [9]</th>\n                        <td id=\"T_0f087a26_a877_11ea_87de_0242ac110002row0_col0\" class=\"data row0 col0\" >+1.000</td>\n                        <td id=\"T_0f087a26_a877_11ea_87de_0242ac110002row0_col1\" class=\"data row0 col1\" >-0.023</td>\n                        <td id=\"T_0f087a26_a877_11ea_87de_0242ac110002row0_col2\" class=\"data row0 col2\" >-0.036</td>\n                        <td id=\"T_0f087a26_a877_11ea_87de_0242ac110002row0_col3\" class=\"data row0 col3\" >+0.078</td>\n                        <td id=\"T_0f087a26_a877_11ea_87de_0242ac110002row0_col4\" class=\"data row0 col4\" >+0.083</td>\n                        <td id=\"T_0f087a26_a877_11ea_87de_0242ac110002row0_col5\" class=\"data row0 col5\" >+0.058</td>\n                        <td id=\"T_0f087a26_a877_11ea_87de_0242ac110002row0_col6\" class=\"data row0 col6\" >-0.028</td>\n                        <td id=\"T_0f087a26_a877_11ea_87de_0242ac110002row0_col7\" class=\"data row0 col7\" >+0.083</td>\n                        <td id=\"T_0f087a26_a877_11ea_87de_0242ac110002row0_col8\" class=\"data row0 col8\" >+0.090</td>\n                        <td id=\"T_0f087a26_a877_11ea_87de_0242ac110002row0_col9\" class=\"data row0 col9\" >-0.102</td>\n                        <td id=\"T_0f087a26_a877_11ea_87de_0242ac110002row0_col10\" class=\"data row0 col10\" >-0.045</td>\n                        <td id=\"T_0f087a26_a877_11ea_87de_0242ac110002row0_col11\" class=\"data row0 col11\" >-0.077</td>\n                        <td id=\"T_0f087a26_a877_11ea_87de_0242ac110002row0_col12\" class=\"data row0 col12\" >-0.025</td>\n                        <td id=\"T_0f087a26_a877_11ea_87de_0242ac110002row0_col13\" class=\"data row0 col13\" >+0.071</td>\n                        <td id=\"T_0f087a26_a877_11ea_87de_0242ac110002row0_col14\" class=\"data row0 col14\" >+0.098</td>\n                        <td id=\"T_0f087a26_a877_11ea_87de_0242ac110002row0_col15\" class=\"data row0 col15\" >-0.031</td>\n                        <td id=\"T_0f087a26_a877_11ea_87de_0242ac110002row0_col16\" class=\"data row0 col16\" >-0.027</td>\n                        <td id=\"T_0f087a26_a877_11ea_87de_0242ac110002row0_col17\" class=\"data row0 col17\" >-0.023</td>\n            </tr>\n            <tr>\n                        <th id=\"T_0f087a26_a877_11ea_87de_0242ac110002level0_row1\" class=\"row_heading level0 row1\" >climate change [8]</th>\n                        <td id=\"T_0f087a26_a877_11ea_87de_0242ac110002row1_col0\" class=\"data row1 col0\" >-0.023</td>\n                        <td id=\"T_0f087a26_a877_11ea_87de_0242ac110002row1_col1\" class=\"data row1 col1\" >+1.000</td>\n                        <td id=\"T_0f087a26_a877_11ea_87de_0242ac110002row1_col2\" class=\"data row1 col2\" >-0.034</td>\n                        <td id=\"T_0f087a26_a877_11ea_87de_0242ac110002row1_col3\" class=\"data row1 col3\" >+0.088</td>\n                        <td id=\"T_0f087a26_a877_11ea_87de_0242ac110002row1_col4\" class=\"data row1 col4\" >-0.024</td>\n                        <td id=\"T_0f087a26_a877_11ea_87de_0242ac110002row1_col5\" class=\"data row1 col5\" >-0.029</td>\n                        <td id=\"T_0f087a26_a877_11ea_87de_0242ac110002row1_col6\" class=\"data row1 col6\" >-0.026</td>\n                        <td id=\"T_0f087a26_a877_11ea_87de_0242ac110002row1_col7\" class=\"data row1 col7\" >+0.025</td>\n                        <td id=\"T_0f087a26_a877_11ea_87de_0242ac110002row1_col8\" class=\"data row1 col8\" >-0.023</td>\n                        <td id=\"T_0f087a26_a877_11ea_87de_0242ac110002row1_col9\" class=\"data row1 col9\" >+0.024</td>\n                        <td id=\"T_0f087a26_a877_11ea_87de_0242ac110002row1_col10\" class=\"data row1 col10\" >-0.072</td>\n                        <td id=\"T_0f087a26_a877_11ea_87de_0242ac110002row1_col11\" class=\"data row1 col11\" >+0.020</td>\n                        <td id=\"T_0f087a26_a877_11ea_87de_0242ac110002row1_col12\" class=\"data row1 col12\" >-0.024</td>\n                        <td id=\"T_0f087a26_a877_11ea_87de_0242ac110002row1_col13\" class=\"data row1 col13\" >-0.026</td>\n                        <td id=\"T_0f087a26_a877_11ea_87de_0242ac110002row1_col14\" class=\"data row1 col14\" >-0.021</td>\n                        <td id=\"T_0f087a26_a877_11ea_87de_0242ac110002row1_col15\" class=\"data row1 col15\" >-0.029</td>\n                        <td id=\"T_0f087a26_a877_11ea_87de_0242ac110002row1_col16\" class=\"data row1 col16\" >+0.084</td>\n                        <td id=\"T_0f087a26_a877_11ea_87de_0242ac110002row1_col17\" class=\"data row1 col17\" >-0.021</td>\n            </tr>\n            <tr>\n                        <th id=\"T_0f087a26_a877_11ea_87de_0242ac110002level0_row2\" class=\"row_heading level0 row2\" >community gardens [20]</th>\n                        <td id=\"T_0f087a26_a877_11ea_87de_0242ac110002row2_col0\" class=\"data row2 col0\" >-0.036</td>\n                        <td id=\"T_0f087a26_a877_11ea_87de_0242ac110002row2_col1\" class=\"data row2 col1\" >-0.034</td>\n                        <td id=\"T_0f087a26_a877_11ea_87de_0242ac110002row2_col2\" class=\"data row2 col2\" >+1.000</td>\n                        <td id=\"T_0f087a26_a877_11ea_87de_0242ac110002row2_col3\" class=\"data row2 col3\" >-0.028</td>\n                        <td id=\"T_0f087a26_a877_11ea_87de_0242ac110002row2_col4\" class=\"data row2 col4\" >-0.038</td>\n                        <td id=\"T_0f087a26_a877_11ea_87de_0242ac110002row2_col5\" class=\"data row2 col5\" >-0.047</td>\n                        <td id=\"T_0f087a26_a877_11ea_87de_0242ac110002row2_col6\" class=\"data row2 col6\" >-0.042</td>\n                        <td id=\"T_0f087a26_a877_11ea_87de_0242ac110002row2_col7\" class=\"data row2 col7\" >-0.068</td>\n                        <td id=\"T_0f087a26_a877_11ea_87de_0242ac110002row2_col8\" class=\"data row2 col8\" >-0.036</td>\n                        <td id=\"T_0f087a26_a877_11ea_87de_0242ac110002row2_col9\" class=\"data row2 col9\" >+0.077</td>\n                        <td id=\"T_0f087a26_a877_11ea_87de_0242ac110002row2_col10\" class=\"data row2 col10\" >-0.104</td>\n                        <td id=\"T_0f087a26_a877_11ea_87de_0242ac110002row2_col11\" class=\"data row2 col11\" >+0.032</td>\n                        <td id=\"T_0f087a26_a877_11ea_87de_0242ac110002row2_col12\" class=\"data row2 col12\" >+0.035</td>\n                        <td id=\"T_0f087a26_a877_11ea_87de_0242ac110002row2_col13\" class=\"data row2 col13\" >+0.025</td>\n                        <td id=\"T_0f087a26_a877_11ea_87de_0242ac110002row2_col14\" class=\"data row2 col14\" >+0.048</td>\n                        <td id=\"T_0f087a26_a877_11ea_87de_0242ac110002row2_col15\" class=\"data row2 col15\" >-0.047</td>\n                        <td id=\"T_0f087a26_a877_11ea_87de_0242ac110002row2_col16\" class=\"data row2 col16\" >-0.040</td>\n                        <td id=\"T_0f087a26_a877_11ea_87de_0242ac110002row2_col17\" class=\"data row2 col17\" >-0.034</td>\n            </tr>\n            <tr>\n                        <th id=\"T_0f087a26_a877_11ea_87de_0242ac110002level0_row3\" class=\"row_heading level0 row3\" >food security [32]</th>\n                        <td id=\"T_0f087a26_a877_11ea_87de_0242ac110002row3_col0\" class=\"data row3 col0\" >+0.078</td>\n                        <td id=\"T_0f087a26_a877_11ea_87de_0242ac110002row3_col1\" class=\"data row3 col1\" >+0.088</td>\n                        <td id=\"T_0f087a26_a877_11ea_87de_0242ac110002row3_col2\" class=\"data row3 col2\" >-0.028</td>\n                        <td id=\"T_0f087a26_a877_11ea_87de_0242ac110002row3_col3\" class=\"data row3 col3\" >+1.000</td>\n                        <td id=\"T_0f087a26_a877_11ea_87de_0242ac110002row3_col4\" class=\"data row3 col4\" >-0.049</td>\n                        <td id=\"T_0f087a26_a877_11ea_87de_0242ac110002row3_col5\" class=\"data row3 col5\" >-0.061</td>\n                        <td id=\"T_0f087a26_a877_11ea_87de_0242ac110002row3_col6\" class=\"data row3 col6\" >-0.054</td>\n                        <td id=\"T_0f087a26_a877_11ea_87de_0242ac110002row3_col7\" class=\"data row3 col7\" >+0.017</td>\n                        <td id=\"T_0f087a26_a877_11ea_87de_0242ac110002row3_col8\" class=\"data row3 col8\" >-0.047</td>\n                        <td id=\"T_0f087a26_a877_11ea_87de_0242ac110002row3_col9\" class=\"data row3 col9\" >+0.008</td>\n                        <td id=\"T_0f087a26_a877_11ea_87de_0242ac110002row3_col10\" class=\"data row3 col10\" >-0.032</td>\n                        <td id=\"T_0f087a26_a877_11ea_87de_0242ac110002row3_col11\" class=\"data row3 col11\" >-0.101</td>\n                        <td id=\"T_0f087a26_a877_11ea_87de_0242ac110002row3_col12\" class=\"data row3 col12\" >-0.049</td>\n                        <td id=\"T_0f087a26_a877_11ea_87de_0242ac110002row3_col13\" class=\"data row3 col13\" >+0.054</td>\n                        <td id=\"T_0f087a26_a877_11ea_87de_0242ac110002row3_col14\" class=\"data row3 col14\" >+0.022</td>\n                        <td id=\"T_0f087a26_a877_11ea_87de_0242ac110002row3_col15\" class=\"data row3 col15\" >-0.061</td>\n                        <td id=\"T_0f087a26_a877_11ea_87de_0242ac110002row3_col16\" class=\"data row3 col16\" >+0.005</td>\n                        <td id=\"T_0f087a26_a877_11ea_87de_0242ac110002row3_col17\" class=\"data row3 col17\" >-0.044</td>\n            </tr>\n            <tr>\n                        <th id=\"T_0f087a26_a877_11ea_87de_0242ac110002level0_row4\" class=\"row_heading level0 row4\" >gardening [10]</th>\n                        <td id=\"T_0f087a26_a877_11ea_87de_0242ac110002row4_col0\" class=\"data row4 col0\" >+0.083</td>\n                        <td id=\"T_0f087a26_a877_11ea_87de_0242ac110002row4_col1\" class=\"data row4 col1\" >-0.024</td>\n                        <td id=\"T_0f087a26_a877_11ea_87de_0242ac110002row4_col2\" class=\"data row4 col2\" >-0.038</td>\n                        <td id=\"T_0f087a26_a877_11ea_87de_0242ac110002row4_col3\" class=\"data row4 col3\" >-0.049</td>\n                        <td id=\"T_0f087a26_a877_11ea_87de_0242ac110002row4_col4\" class=\"data row4 col4\" >+1.000</td>\n                        <td id=\"T_0f087a26_a877_11ea_87de_0242ac110002row4_col5\" class=\"data row4 col5\" >-0.033</td>\n                        <td id=\"T_0f087a26_a877_11ea_87de_0242ac110002row4_col6\" class=\"data row4 col6\" >-0.029</td>\n                        <td id=\"T_0f087a26_a877_11ea_87de_0242ac110002row4_col7\" class=\"data row4 col7\" >+0.013</td>\n                        <td id=\"T_0f087a26_a877_11ea_87de_0242ac110002row4_col8\" class=\"data row4 col8\" >+0.083</td>\n                        <td id=\"T_0f087a26_a877_11ea_87de_0242ac110002row4_col9\" class=\"data row4 col9\" >+0.036</td>\n                        <td id=\"T_0f087a26_a877_11ea_87de_0242ac110002row4_col10\" class=\"data row4 col10\" >-0.090</td>\n                        <td id=\"T_0f087a26_a877_11ea_87de_0242ac110002row4_col11\" class=\"data row4 col11\" >-0.081</td>\n                        <td id=\"T_0f087a26_a877_11ea_87de_0242ac110002row4_col12\" class=\"data row4 col12\" >-0.027</td>\n                        <td id=\"T_0f087a26_a877_11ea_87de_0242ac110002row4_col13\" class=\"data row4 col13\" >-0.029</td>\n                        <td id=\"T_0f087a26_a877_11ea_87de_0242ac110002row4_col14\" class=\"data row4 col14\" >-0.024</td>\n                        <td id=\"T_0f087a26_a877_11ea_87de_0242ac110002row4_col15\" class=\"data row4 col15\" >-0.033</td>\n                        <td id=\"T_0f087a26_a877_11ea_87de_0242ac110002row4_col16\" class=\"data row4 col16\" >-0.028</td>\n                        <td id=\"T_0f087a26_a877_11ea_87de_0242ac110002row4_col17\" class=\"data row4 col17\" >-0.024</td>\n            </tr>\n            <tr>\n                        <th id=\"T_0f087a26_a877_11ea_87de_0242ac110002level0_row5\" class=\"row_heading level0 row5\" >hydroponics [15]</th>\n                        <td id=\"T_0f087a26_a877_11ea_87de_0242ac110002row5_col0\" class=\"data row5 col0\" >+0.058</td>\n                        <td id=\"T_0f087a26_a877_11ea_87de_0242ac110002row5_col1\" class=\"data row5 col1\" >-0.029</td>\n                        <td id=\"T_0f087a26_a877_11ea_87de_0242ac110002row5_col2\" class=\"data row5 col2\" >-0.047</td>\n                        <td id=\"T_0f087a26_a877_11ea_87de_0242ac110002row5_col3\" class=\"data row5 col3\" >-0.061</td>\n                        <td id=\"T_0f087a26_a877_11ea_87de_0242ac110002row5_col4\" class=\"data row5 col4\" >-0.033</td>\n                        <td id=\"T_0f087a26_a877_11ea_87de_0242ac110002row5_col5\" class=\"data row5 col5\" >+1.000</td>\n                        <td id=\"T_0f087a26_a877_11ea_87de_0242ac110002row5_col6\" class=\"data row5 col6\" >-0.036</td>\n                        <td id=\"T_0f087a26_a877_11ea_87de_0242ac110002row5_col7\" class=\"data row5 col7\" >+0.142</td>\n                        <td id=\"T_0f087a26_a877_11ea_87de_0242ac110002row5_col8\" class=\"data row5 col8\" >-0.031</td>\n                        <td id=\"T_0f087a26_a877_11ea_87de_0242ac110002row5_col9\" class=\"data row5 col9\" >-0.132</td>\n                        <td id=\"T_0f087a26_a877_11ea_87de_0242ac110002row5_col10\" class=\"data row5 col10\" >+0.156</td>\n                        <td id=\"T_0f087a26_a877_11ea_87de_0242ac110002row5_col11\" class=\"data row5 col11\" >-0.100</td>\n                        <td id=\"T_0f087a26_a877_11ea_87de_0242ac110002row5_col12\" class=\"data row5 col12\" >-0.033</td>\n                        <td id=\"T_0f087a26_a877_11ea_87de_0242ac110002row5_col13\" class=\"data row5 col13\" >-0.036</td>\n                        <td id=\"T_0f087a26_a877_11ea_87de_0242ac110002row5_col14\" class=\"data row5 col14\" >-0.029</td>\n                        <td id=\"T_0f087a26_a877_11ea_87de_0242ac110002row5_col15\" class=\"data row5 col15\" >-0.041</td>\n                        <td id=\"T_0f087a26_a877_11ea_87de_0242ac110002row5_col16\" class=\"data row5 col16\" >+0.046</td>\n                        <td id=\"T_0f087a26_a877_11ea_87de_0242ac110002row5_col17\" class=\"data row5 col17\" >-0.029</td>\n            </tr>\n            <tr>\n                        <th id=\"T_0f087a26_a877_11ea_87de_0242ac110002level0_row6\" class=\"row_heading level0 row6\" >peri-urban farming [12]</th>\n                        <td id=\"T_0f087a26_a877_11ea_87de_0242ac110002row6_col0\" class=\"data row6 col0\" >-0.028</td>\n                        <td id=\"T_0f087a26_a877_11ea_87de_0242ac110002row6_col1\" class=\"data row6 col1\" >-0.026</td>\n                        <td id=\"T_0f087a26_a877_11ea_87de_0242ac110002row6_col2\" class=\"data row6 col2\" >-0.042</td>\n                        <td id=\"T_0f087a26_a877_11ea_87de_0242ac110002row6_col3\" class=\"data row6 col3\" >-0.054</td>\n                        <td id=\"T_0f087a26_a877_11ea_87de_0242ac110002row6_col4\" class=\"data row6 col4\" >-0.029</td>\n                        <td id=\"T_0f087a26_a877_11ea_87de_0242ac110002row6_col5\" class=\"data row6 col5\" >-0.036</td>\n                        <td id=\"T_0f087a26_a877_11ea_87de_0242ac110002row6_col6\" class=\"data row6 col6\" >+1.000</td>\n                        <td id=\"T_0f087a26_a877_11ea_87de_0242ac110002row6_col7\" class=\"data row6 col7\" >-0.052</td>\n                        <td id=\"T_0f087a26_a877_11ea_87de_0242ac110002row6_col8\" class=\"data row6 col8\" >-0.028</td>\n                        <td id=\"T_0f087a26_a877_11ea_87de_0242ac110002row6_col9\" class=\"data row6 col9\" >-0.118</td>\n                        <td id=\"T_0f087a26_a877_11ea_87de_0242ac110002row6_col10\" class=\"data row6 col10\" >-0.105</td>\n                        <td id=\"T_0f087a26_a877_11ea_87de_0242ac110002row6_col11\" class=\"data row6 col11\" >-0.089</td>\n                        <td id=\"T_0f087a26_a877_11ea_87de_0242ac110002row6_col12\" class=\"data row6 col12\" >-0.029</td>\n                        <td id=\"T_0f087a26_a877_11ea_87de_0242ac110002row6_col13\" class=\"data row6 col13\" >-0.032</td>\n                        <td id=\"T_0f087a26_a877_11ea_87de_0242ac110002row6_col14\" class=\"data row6 col14\" >-0.026</td>\n                        <td id=\"T_0f087a26_a877_11ea_87de_0242ac110002row6_col15\" class=\"data row6 col15\" >+0.041</td>\n                        <td id=\"T_0f087a26_a877_11ea_87de_0242ac110002row6_col16\" class=\"data row6 col16\" >-0.031</td>\n                        <td id=\"T_0f087a26_a877_11ea_87de_0242ac110002row6_col17\" class=\"data row6 col17\" >+0.079</td>\n            </tr>\n            <tr>\n                        <th id=\"T_0f087a26_a877_11ea_87de_0242ac110002level0_row7\" class=\"row_heading level0 row7\" >sustainability [30]</th>\n                        <td id=\"T_0f087a26_a877_11ea_87de_0242ac110002row7_col0\" class=\"data row7 col0\" >+0.083</td>\n                        <td id=\"T_0f087a26_a877_11ea_87de_0242ac110002row7_col1\" class=\"data row7 col1\" >+0.025</td>\n                        <td id=\"T_0f087a26_a877_11ea_87de_0242ac110002row7_col2\" class=\"data row7 col2\" >-0.068</td>\n                        <td id=\"T_0f087a26_a877_11ea_87de_0242ac110002row7_col3\" class=\"data row7 col3\" >+0.017</td>\n                        <td id=\"T_0f087a26_a877_11ea_87de_0242ac110002row7_col4\" class=\"data row7 col4\" >+0.013</td>\n                        <td id=\"T_0f087a26_a877_11ea_87de_0242ac110002row7_col5\" class=\"data row7 col5\" >+0.142</td>\n                        <td id=\"T_0f087a26_a877_11ea_87de_0242ac110002row7_col6\" class=\"data row7 col6\" >-0.052</td>\n                        <td id=\"T_0f087a26_a877_11ea_87de_0242ac110002row7_col7\" class=\"data row7 col7\" >+1.000</td>\n                        <td id=\"T_0f087a26_a877_11ea_87de_0242ac110002row7_col8\" class=\"data row7 col8\" >+0.019</td>\n                        <td id=\"T_0f087a26_a877_11ea_87de_0242ac110002row7_col9\" class=\"data row7 col9\" >-0.106</td>\n                        <td id=\"T_0f087a26_a877_11ea_87de_0242ac110002row7_col10\" class=\"data row7 col10\" >+0.002</td>\n                        <td id=\"T_0f087a26_a877_11ea_87de_0242ac110002row7_col11\" class=\"data row7 col11\" >-0.070</td>\n                        <td id=\"T_0f087a26_a877_11ea_87de_0242ac110002row7_col12\" class=\"data row7 col12\" >+0.074</td>\n                        <td id=\"T_0f087a26_a877_11ea_87de_0242ac110002row7_col13\" class=\"data row7 col13\" >+0.003</td>\n                        <td id=\"T_0f087a26_a877_11ea_87de_0242ac110002row7_col14\" class=\"data row7 col14\" >-0.043</td>\n                        <td id=\"T_0f087a26_a877_11ea_87de_0242ac110002row7_col15\" class=\"data row7 col15\" >-0.009</td>\n                        <td id=\"T_0f087a26_a877_11ea_87de_0242ac110002row7_col16\" class=\"data row7 col16\" >-0.050</td>\n                        <td id=\"T_0f087a26_a877_11ea_87de_0242ac110002row7_col17\" class=\"data row7 col17\" >-0.043</td>\n            </tr>\n            <tr>\n                        <th id=\"T_0f087a26_a877_11ea_87de_0242ac110002level0_row8\" class=\"row_heading level0 row8\" >urban [9]</th>\n                        <td id=\"T_0f087a26_a877_11ea_87de_0242ac110002row8_col0\" class=\"data row8 col0\" >+0.090</td>\n                        <td id=\"T_0f087a26_a877_11ea_87de_0242ac110002row8_col1\" class=\"data row8 col1\" >-0.023</td>\n                        <td id=\"T_0f087a26_a877_11ea_87de_0242ac110002row8_col2\" class=\"data row8 col2\" >-0.036</td>\n                        <td id=\"T_0f087a26_a877_11ea_87de_0242ac110002row8_col3\" class=\"data row8 col3\" >-0.047</td>\n                        <td id=\"T_0f087a26_a877_11ea_87de_0242ac110002row8_col4\" class=\"data row8 col4\" >+0.083</td>\n                        <td id=\"T_0f087a26_a877_11ea_87de_0242ac110002row8_col5\" class=\"data row8 col5\" >-0.031</td>\n                        <td id=\"T_0f087a26_a877_11ea_87de_0242ac110002row8_col6\" class=\"data row8 col6\" >-0.028</td>\n                        <td id=\"T_0f087a26_a877_11ea_87de_0242ac110002row8_col7\" class=\"data row8 col7\" >+0.019</td>\n                        <td id=\"T_0f087a26_a877_11ea_87de_0242ac110002row8_col8\" class=\"data row8 col8\" >+1.000</td>\n                        <td id=\"T_0f087a26_a877_11ea_87de_0242ac110002row8_col9\" class=\"data row8 col9\" >-0.102</td>\n                        <td id=\"T_0f087a26_a877_11ea_87de_0242ac110002row8_col10\" class=\"data row8 col10\" >-0.117</td>\n                        <td id=\"T_0f087a26_a877_11ea_87de_0242ac110002row8_col11\" class=\"data row8 col11\" >-0.077</td>\n                        <td id=\"T_0f087a26_a877_11ea_87de_0242ac110002row8_col12\" class=\"data row8 col12\" >-0.025</td>\n                        <td id=\"T_0f087a26_a877_11ea_87de_0242ac110002row8_col13\" class=\"data row8 col13\" >-0.028</td>\n                        <td id=\"T_0f087a26_a877_11ea_87de_0242ac110002row8_col14\" class=\"data row8 col14\" >-0.023</td>\n                        <td id=\"T_0f087a26_a877_11ea_87de_0242ac110002row8_col15\" class=\"data row8 col15\" >-0.031</td>\n                        <td id=\"T_0f087a26_a877_11ea_87de_0242ac110002row8_col16\" class=\"data row8 col16\" >-0.027</td>\n                        <td id=\"T_0f087a26_a877_11ea_87de_0242ac110002row8_col17\" class=\"data row8 col17\" >-0.023</td>\n            </tr>\n            <tr>\n                        <th id=\"T_0f087a26_a877_11ea_87de_0242ac110002level0_row9\" class=\"row_heading level0 row9\" >urban agriculture [115]</th>\n                        <td id=\"T_0f087a26_a877_11ea_87de_0242ac110002row9_col0\" class=\"data row9 col0\" >-0.102</td>\n                        <td id=\"T_0f087a26_a877_11ea_87de_0242ac110002row9_col1\" class=\"data row9 col1\" >+0.024</td>\n                        <td id=\"T_0f087a26_a877_11ea_87de_0242ac110002row9_col2\" class=\"data row9 col2\" >+0.077</td>\n                        <td id=\"T_0f087a26_a877_11ea_87de_0242ac110002row9_col3\" class=\"data row9 col3\" >+0.008</td>\n                        <td id=\"T_0f087a26_a877_11ea_87de_0242ac110002row9_col4\" class=\"data row9 col4\" >+0.036</td>\n                        <td id=\"T_0f087a26_a877_11ea_87de_0242ac110002row9_col5\" class=\"data row9 col5\" >-0.132</td>\n                        <td id=\"T_0f087a26_a877_11ea_87de_0242ac110002row9_col6\" class=\"data row9 col6\" >-0.118</td>\n                        <td id=\"T_0f087a26_a877_11ea_87de_0242ac110002row9_col7\" class=\"data row9 col7\" >-0.106</td>\n                        <td id=\"T_0f087a26_a877_11ea_87de_0242ac110002row9_col8\" class=\"data row9 col8\" >-0.102</td>\n                        <td id=\"T_0f087a26_a877_11ea_87de_0242ac110002row9_col9\" class=\"data row9 col9\" >+1.000</td>\n                        <td id=\"T_0f087a26_a877_11ea_87de_0242ac110002row9_col10\" class=\"data row9 col10\" >-0.269</td>\n                        <td id=\"T_0f087a26_a877_11ea_87de_0242ac110002row9_col11\" class=\"data row9 col11\" >-0.137</td>\n                        <td id=\"T_0f087a26_a877_11ea_87de_0242ac110002row9_col12\" class=\"data row9 col12\" >-0.072</td>\n                        <td id=\"T_0f087a26_a877_11ea_87de_0242ac110002row9_col13\" class=\"data row9 col13\" >+0.046</td>\n                        <td id=\"T_0f087a26_a877_11ea_87de_0242ac110002row9_col14\" class=\"data row9 col14\" >-0.016</td>\n                        <td id=\"T_0f087a26_a877_11ea_87de_0242ac110002row9_col15\" class=\"data row9 col15\" >-0.044</td>\n                        <td id=\"T_0f087a26_a877_11ea_87de_0242ac110002row9_col16\" class=\"data row9 col16\" >-0.079</td>\n                        <td id=\"T_0f087a26_a877_11ea_87de_0242ac110002row9_col17\" class=\"data row9 col17\" >-0.016</td>\n            </tr>\n            <tr>\n                        <th id=\"T_0f087a26_a877_11ea_87de_0242ac110002level0_row10\" class=\"row_heading level0 row10\" >urban farming [139]</th>\n                        <td id=\"T_0f087a26_a877_11ea_87de_0242ac110002row10_col0\" class=\"data row10 col0\" >-0.045</td>\n                        <td id=\"T_0f087a26_a877_11ea_87de_0242ac110002row10_col1\" class=\"data row10 col1\" >-0.072</td>\n                        <td id=\"T_0f087a26_a877_11ea_87de_0242ac110002row10_col2\" class=\"data row10 col2\" >-0.104</td>\n                        <td id=\"T_0f087a26_a877_11ea_87de_0242ac110002row10_col3\" class=\"data row10 col3\" >-0.032</td>\n                        <td id=\"T_0f087a26_a877_11ea_87de_0242ac110002row10_col4\" class=\"data row10 col4\" >-0.090</td>\n                        <td id=\"T_0f087a26_a877_11ea_87de_0242ac110002row10_col5\" class=\"data row10 col5\" >+0.156</td>\n                        <td id=\"T_0f087a26_a877_11ea_87de_0242ac110002row10_col6\" class=\"data row10 col6\" >-0.105</td>\n                        <td id=\"T_0f087a26_a877_11ea_87de_0242ac110002row10_col7\" class=\"data row10 col7\" >+0.002</td>\n                        <td id=\"T_0f087a26_a877_11ea_87de_0242ac110002row10_col8\" class=\"data row10 col8\" >-0.117</td>\n                        <td id=\"T_0f087a26_a877_11ea_87de_0242ac110002row10_col9\" class=\"data row10 col9\" >-0.269</td>\n                        <td id=\"T_0f087a26_a877_11ea_87de_0242ac110002row10_col10\" class=\"data row10 col10\" >+1.000</td>\n                        <td id=\"T_0f087a26_a877_11ea_87de_0242ac110002row10_col11\" class=\"data row10 col11\" >-0.345</td>\n                        <td id=\"T_0f087a26_a877_11ea_87de_0242ac110002row10_col12\" class=\"data row10 col12\" >-0.124</td>\n                        <td id=\"T_0f087a26_a877_11ea_87de_0242ac110002row10_col13\" class=\"data row10 col13\" >-0.073</td>\n                        <td id=\"T_0f087a26_a877_11ea_87de_0242ac110002row10_col14\" class=\"data row10 col14\" >+0.004</td>\n                        <td id=\"T_0f087a26_a877_11ea_87de_0242ac110002row10_col15\" class=\"data row10 col15\" >-0.096</td>\n                        <td id=\"T_0f087a26_a877_11ea_87de_0242ac110002row10_col16\" class=\"data row10 col16\" >+0.033</td>\n                        <td id=\"T_0f087a26_a877_11ea_87de_0242ac110002row10_col17\" class=\"data row10 col17\" >+0.004</td>\n            </tr>\n            <tr>\n                        <th id=\"T_0f087a26_a877_11ea_87de_0242ac110002level0_row11\" class=\"row_heading level0 row11\" >urban gardening [75]</th>\n                        <td id=\"T_0f087a26_a877_11ea_87de_0242ac110002row11_col0\" class=\"data row11 col0\" >-0.077</td>\n                        <td id=\"T_0f087a26_a877_11ea_87de_0242ac110002row11_col1\" class=\"data row11 col1\" >+0.020</td>\n                        <td id=\"T_0f087a26_a877_11ea_87de_0242ac110002row11_col2\" class=\"data row11 col2\" >+0.032</td>\n                        <td id=\"T_0f087a26_a877_11ea_87de_0242ac110002row11_col3\" class=\"data row11 col3\" >-0.101</td>\n                        <td id=\"T_0f087a26_a877_11ea_87de_0242ac110002row11_col4\" class=\"data row11 col4\" >-0.081</td>\n                        <td id=\"T_0f087a26_a877_11ea_87de_0242ac110002row11_col5\" class=\"data row11 col5\" >-0.100</td>\n                        <td id=\"T_0f087a26_a877_11ea_87de_0242ac110002row11_col6\" class=\"data row11 col6\" >-0.089</td>\n                        <td id=\"T_0f087a26_a877_11ea_87de_0242ac110002row11_col7\" class=\"data row11 col7\" >-0.070</td>\n                        <td id=\"T_0f087a26_a877_11ea_87de_0242ac110002row11_col8\" class=\"data row11 col8\" >-0.077</td>\n                        <td id=\"T_0f087a26_a877_11ea_87de_0242ac110002row11_col9\" class=\"data row11 col9\" >-0.137</td>\n                        <td id=\"T_0f087a26_a877_11ea_87de_0242ac110002row11_col10\" class=\"data row11 col10\" >-0.345</td>\n                        <td id=\"T_0f087a26_a877_11ea_87de_0242ac110002row11_col11\" class=\"data row11 col11\" >+1.000</td>\n                        <td id=\"T_0f087a26_a877_11ea_87de_0242ac110002row11_col12\" class=\"data row11 col12\" >-0.081</td>\n                        <td id=\"T_0f087a26_a877_11ea_87de_0242ac110002row11_col13\" class=\"data row11 col13\" >-0.089</td>\n                        <td id=\"T_0f087a26_a877_11ea_87de_0242ac110002row11_col14\" class=\"data row11 col14\" >-0.026</td>\n                        <td id=\"T_0f087a26_a877_11ea_87de_0242ac110002row11_col15\" class=\"data row11 col15\" >-0.032</td>\n                        <td id=\"T_0f087a26_a877_11ea_87de_0242ac110002row11_col16\" class=\"data row11 col16\" >-0.006</td>\n                        <td id=\"T_0f087a26_a877_11ea_87de_0242ac110002row11_col17\" class=\"data row11 col17\" >-0.072</td>\n            </tr>\n            <tr>\n                        <th id=\"T_0f087a26_a877_11ea_87de_0242ac110002level0_row12\" class=\"row_heading level0 row12\" >urban gardens [10]</th>\n                        <td id=\"T_0f087a26_a877_11ea_87de_0242ac110002row12_col0\" class=\"data row12 col0\" >-0.025</td>\n                        <td id=\"T_0f087a26_a877_11ea_87de_0242ac110002row12_col1\" class=\"data row12 col1\" >-0.024</td>\n                        <td id=\"T_0f087a26_a877_11ea_87de_0242ac110002row12_col2\" class=\"data row12 col2\" >+0.035</td>\n                        <td id=\"T_0f087a26_a877_11ea_87de_0242ac110002row12_col3\" class=\"data row12 col3\" >-0.049</td>\n                        <td id=\"T_0f087a26_a877_11ea_87de_0242ac110002row12_col4\" class=\"data row12 col4\" >-0.027</td>\n                        <td id=\"T_0f087a26_a877_11ea_87de_0242ac110002row12_col5\" class=\"data row12 col5\" >-0.033</td>\n                        <td id=\"T_0f087a26_a877_11ea_87de_0242ac110002row12_col6\" class=\"data row12 col6\" >-0.029</td>\n                        <td id=\"T_0f087a26_a877_11ea_87de_0242ac110002row12_col7\" class=\"data row12 col7\" >+0.074</td>\n                        <td id=\"T_0f087a26_a877_11ea_87de_0242ac110002row12_col8\" class=\"data row12 col8\" >-0.025</td>\n                        <td id=\"T_0f087a26_a877_11ea_87de_0242ac110002row12_col9\" class=\"data row12 col9\" >-0.072</td>\n                        <td id=\"T_0f087a26_a877_11ea_87de_0242ac110002row12_col10\" class=\"data row12 col10\" >-0.124</td>\n                        <td id=\"T_0f087a26_a877_11ea_87de_0242ac110002row12_col11\" class=\"data row12 col11\" >-0.081</td>\n                        <td id=\"T_0f087a26_a877_11ea_87de_0242ac110002row12_col12\" class=\"data row12 col12\" >+1.000</td>\n                        <td id=\"T_0f087a26_a877_11ea_87de_0242ac110002row12_col13\" class=\"data row12 col13\" >-0.029</td>\n                        <td id=\"T_0f087a26_a877_11ea_87de_0242ac110002row12_col14\" class=\"data row12 col14\" >-0.024</td>\n                        <td id=\"T_0f087a26_a877_11ea_87de_0242ac110002row12_col15\" class=\"data row12 col15\" >-0.033</td>\n                        <td id=\"T_0f087a26_a877_11ea_87de_0242ac110002row12_col16\" class=\"data row12 col16\" >-0.028</td>\n                        <td id=\"T_0f087a26_a877_11ea_87de_0242ac110002row12_col17\" class=\"data row12 col17\" >-0.024</td>\n            </tr>\n            <tr>\n                        <th id=\"T_0f087a26_a877_11ea_87de_0242ac110002level0_row13\" class=\"row_heading level0 row13\" >urban planning [12]</th>\n                        <td id=\"T_0f087a26_a877_11ea_87de_0242ac110002row13_col0\" class=\"data row13 col0\" >+0.071</td>\n                        <td id=\"T_0f087a26_a877_11ea_87de_0242ac110002row13_col1\" class=\"data row13 col1\" >-0.026</td>\n                        <td id=\"T_0f087a26_a877_11ea_87de_0242ac110002row13_col2\" class=\"data row13 col2\" >+0.025</td>\n                        <td id=\"T_0f087a26_a877_11ea_87de_0242ac110002row13_col3\" class=\"data row13 col3\" >+0.054</td>\n                        <td id=\"T_0f087a26_a877_11ea_87de_0242ac110002row13_col4\" class=\"data row13 col4\" >-0.029</td>\n                        <td id=\"T_0f087a26_a877_11ea_87de_0242ac110002row13_col5\" class=\"data row13 col5\" >-0.036</td>\n                        <td id=\"T_0f087a26_a877_11ea_87de_0242ac110002row13_col6\" class=\"data row13 col6\" >-0.032</td>\n                        <td id=\"T_0f087a26_a877_11ea_87de_0242ac110002row13_col7\" class=\"data row13 col7\" >+0.003</td>\n                        <td id=\"T_0f087a26_a877_11ea_87de_0242ac110002row13_col8\" class=\"data row13 col8\" >-0.028</td>\n                        <td id=\"T_0f087a26_a877_11ea_87de_0242ac110002row13_col9\" class=\"data row13 col9\" >+0.046</td>\n                        <td id=\"T_0f087a26_a877_11ea_87de_0242ac110002row13_col10\" class=\"data row13 col10\" >-0.073</td>\n                        <td id=\"T_0f087a26_a877_11ea_87de_0242ac110002row13_col11\" class=\"data row13 col11\" >-0.089</td>\n                        <td id=\"T_0f087a26_a877_11ea_87de_0242ac110002row13_col12\" class=\"data row13 col12\" >-0.029</td>\n                        <td id=\"T_0f087a26_a877_11ea_87de_0242ac110002row13_col13\" class=\"data row13 col13\" >+1.000</td>\n                        <td id=\"T_0f087a26_a877_11ea_87de_0242ac110002row13_col14\" class=\"data row13 col14\" >+0.079</td>\n                        <td id=\"T_0f087a26_a877_11ea_87de_0242ac110002row13_col15\" class=\"data row13 col15\" >-0.036</td>\n                        <td id=\"T_0f087a26_a877_11ea_87de_0242ac110002row13_col16\" class=\"data row13 col16\" >-0.031</td>\n                        <td id=\"T_0f087a26_a877_11ea_87de_0242ac110002row13_col17\" class=\"data row13 col17\" >-0.026</td>\n            </tr>\n            <tr>\n                        <th id=\"T_0f087a26_a877_11ea_87de_0242ac110002level0_row14\" class=\"row_heading level0 row14\" >urbanization [8]</th>\n                        <td id=\"T_0f087a26_a877_11ea_87de_0242ac110002row14_col0\" class=\"data row14 col0\" >+0.098</td>\n                        <td id=\"T_0f087a26_a877_11ea_87de_0242ac110002row14_col1\" class=\"data row14 col1\" >-0.021</td>\n                        <td id=\"T_0f087a26_a877_11ea_87de_0242ac110002row14_col2\" class=\"data row14 col2\" >+0.048</td>\n                        <td id=\"T_0f087a26_a877_11ea_87de_0242ac110002row14_col3\" class=\"data row14 col3\" >+0.022</td>\n                        <td id=\"T_0f087a26_a877_11ea_87de_0242ac110002row14_col4\" class=\"data row14 col4\" >-0.024</td>\n                        <td id=\"T_0f087a26_a877_11ea_87de_0242ac110002row14_col5\" class=\"data row14 col5\" >-0.029</td>\n                        <td id=\"T_0f087a26_a877_11ea_87de_0242ac110002row14_col6\" class=\"data row14 col6\" >-0.026</td>\n                        <td id=\"T_0f087a26_a877_11ea_87de_0242ac110002row14_col7\" class=\"data row14 col7\" >-0.043</td>\n                        <td id=\"T_0f087a26_a877_11ea_87de_0242ac110002row14_col8\" class=\"data row14 col8\" >-0.023</td>\n                        <td id=\"T_0f087a26_a877_11ea_87de_0242ac110002row14_col9\" class=\"data row14 col9\" >-0.016</td>\n                        <td id=\"T_0f087a26_a877_11ea_87de_0242ac110002row14_col10\" class=\"data row14 col10\" >+0.004</td>\n                        <td id=\"T_0f087a26_a877_11ea_87de_0242ac110002row14_col11\" class=\"data row14 col11\" >-0.026</td>\n                        <td id=\"T_0f087a26_a877_11ea_87de_0242ac110002row14_col12\" class=\"data row14 col12\" >-0.024</td>\n                        <td id=\"T_0f087a26_a877_11ea_87de_0242ac110002row14_col13\" class=\"data row14 col13\" >+0.079</td>\n                        <td id=\"T_0f087a26_a877_11ea_87de_0242ac110002row14_col14\" class=\"data row14 col14\" >+1.000</td>\n                        <td id=\"T_0f087a26_a877_11ea_87de_0242ac110002row14_col15\" class=\"data row14 col15\" >-0.029</td>\n                        <td id=\"T_0f087a26_a877_11ea_87de_0242ac110002row14_col16\" class=\"data row14 col16\" >-0.025</td>\n                        <td id=\"T_0f087a26_a877_11ea_87de_0242ac110002row14_col17\" class=\"data row14 col17\" >-0.021</td>\n            </tr>\n            <tr>\n                        <th id=\"T_0f087a26_a877_11ea_87de_0242ac110002level0_row15\" class=\"row_heading level0 row15\" >vegetables [15]</th>\n                        <td id=\"T_0f087a26_a877_11ea_87de_0242ac110002row15_col0\" class=\"data row15 col0\" >-0.031</td>\n                        <td id=\"T_0f087a26_a877_11ea_87de_0242ac110002row15_col1\" class=\"data row15 col1\" >-0.029</td>\n                        <td id=\"T_0f087a26_a877_11ea_87de_0242ac110002row15_col2\" class=\"data row15 col2\" >-0.047</td>\n                        <td id=\"T_0f087a26_a877_11ea_87de_0242ac110002row15_col3\" class=\"data row15 col3\" >-0.061</td>\n                        <td id=\"T_0f087a26_a877_11ea_87de_0242ac110002row15_col4\" class=\"data row15 col4\" >-0.033</td>\n                        <td id=\"T_0f087a26_a877_11ea_87de_0242ac110002row15_col5\" class=\"data row15 col5\" >-0.041</td>\n                        <td id=\"T_0f087a26_a877_11ea_87de_0242ac110002row15_col6\" class=\"data row15 col6\" >+0.041</td>\n                        <td id=\"T_0f087a26_a877_11ea_87de_0242ac110002row15_col7\" class=\"data row15 col7\" >-0.009</td>\n                        <td id=\"T_0f087a26_a877_11ea_87de_0242ac110002row15_col8\" class=\"data row15 col8\" >-0.031</td>\n                        <td id=\"T_0f087a26_a877_11ea_87de_0242ac110002row15_col9\" class=\"data row15 col9\" >-0.044</td>\n                        <td id=\"T_0f087a26_a877_11ea_87de_0242ac110002row15_col10\" class=\"data row15 col10\" >-0.096</td>\n                        <td id=\"T_0f087a26_a877_11ea_87de_0242ac110002row15_col11\" class=\"data row15 col11\" >-0.032</td>\n                        <td id=\"T_0f087a26_a877_11ea_87de_0242ac110002row15_col12\" class=\"data row15 col12\" >-0.033</td>\n                        <td id=\"T_0f087a26_a877_11ea_87de_0242ac110002row15_col13\" class=\"data row15 col13\" >-0.036</td>\n                        <td id=\"T_0f087a26_a877_11ea_87de_0242ac110002row15_col14\" class=\"data row15 col14\" >-0.029</td>\n                        <td id=\"T_0f087a26_a877_11ea_87de_0242ac110002row15_col15\" class=\"data row15 col15\" >+1.000</td>\n                        <td id=\"T_0f087a26_a877_11ea_87de_0242ac110002row15_col16\" class=\"data row15 col16\" >-0.035</td>\n                        <td id=\"T_0f087a26_a877_11ea_87de_0242ac110002row15_col17\" class=\"data row15 col17\" >-0.029</td>\n            </tr>\n            <tr>\n                        <th id=\"T_0f087a26_a877_11ea_87de_0242ac110002level0_row16\" class=\"row_heading level0 row16\" >vertical farming [11]</th>\n                        <td id=\"T_0f087a26_a877_11ea_87de_0242ac110002row16_col0\" class=\"data row16 col0\" >-0.027</td>\n                        <td id=\"T_0f087a26_a877_11ea_87de_0242ac110002row16_col1\" class=\"data row16 col1\" >+0.084</td>\n                        <td id=\"T_0f087a26_a877_11ea_87de_0242ac110002row16_col2\" class=\"data row16 col2\" >-0.040</td>\n                        <td id=\"T_0f087a26_a877_11ea_87de_0242ac110002row16_col3\" class=\"data row16 col3\" >+0.005</td>\n                        <td id=\"T_0f087a26_a877_11ea_87de_0242ac110002row16_col4\" class=\"data row16 col4\" >-0.028</td>\n                        <td id=\"T_0f087a26_a877_11ea_87de_0242ac110002row16_col5\" class=\"data row16 col5\" >+0.046</td>\n                        <td id=\"T_0f087a26_a877_11ea_87de_0242ac110002row16_col6\" class=\"data row16 col6\" >-0.031</td>\n                        <td id=\"T_0f087a26_a877_11ea_87de_0242ac110002row16_col7\" class=\"data row16 col7\" >-0.050</td>\n                        <td id=\"T_0f087a26_a877_11ea_87de_0242ac110002row16_col8\" class=\"data row16 col8\" >-0.027</td>\n                        <td id=\"T_0f087a26_a877_11ea_87de_0242ac110002row16_col9\" class=\"data row16 col9\" >-0.079</td>\n                        <td id=\"T_0f087a26_a877_11ea_87de_0242ac110002row16_col10\" class=\"data row16 col10\" >+0.033</td>\n                        <td id=\"T_0f087a26_a877_11ea_87de_0242ac110002row16_col11\" class=\"data row16 col11\" >-0.006</td>\n                        <td id=\"T_0f087a26_a877_11ea_87de_0242ac110002row16_col12\" class=\"data row16 col12\" >-0.028</td>\n                        <td id=\"T_0f087a26_a877_11ea_87de_0242ac110002row16_col13\" class=\"data row16 col13\" >-0.031</td>\n                        <td id=\"T_0f087a26_a877_11ea_87de_0242ac110002row16_col14\" class=\"data row16 col14\" >-0.025</td>\n                        <td id=\"T_0f087a26_a877_11ea_87de_0242ac110002row16_col15\" class=\"data row16 col15\" >-0.035</td>\n                        <td id=\"T_0f087a26_a877_11ea_87de_0242ac110002row16_col16\" class=\"data row16 col16\" >+1.000</td>\n                        <td id=\"T_0f087a26_a877_11ea_87de_0242ac110002row16_col17\" class=\"data row16 col17\" >-0.025</td>\n            </tr>\n            <tr>\n                        <th id=\"T_0f087a26_a877_11ea_87de_0242ac110002level0_row17\" class=\"row_heading level0 row17\" >wastewater [8]</th>\n                        <td id=\"T_0f087a26_a877_11ea_87de_0242ac110002row17_col0\" class=\"data row17 col0\" >-0.023</td>\n                        <td id=\"T_0f087a26_a877_11ea_87de_0242ac110002row17_col1\" class=\"data row17 col1\" >-0.021</td>\n                        <td id=\"T_0f087a26_a877_11ea_87de_0242ac110002row17_col2\" class=\"data row17 col2\" >-0.034</td>\n                        <td id=\"T_0f087a26_a877_11ea_87de_0242ac110002row17_col3\" class=\"data row17 col3\" >-0.044</td>\n                        <td id=\"T_0f087a26_a877_11ea_87de_0242ac110002row17_col4\" class=\"data row17 col4\" >-0.024</td>\n                        <td id=\"T_0f087a26_a877_11ea_87de_0242ac110002row17_col5\" class=\"data row17 col5\" >-0.029</td>\n                        <td id=\"T_0f087a26_a877_11ea_87de_0242ac110002row17_col6\" class=\"data row17 col6\" >+0.079</td>\n                        <td id=\"T_0f087a26_a877_11ea_87de_0242ac110002row17_col7\" class=\"data row17 col7\" >-0.043</td>\n                        <td id=\"T_0f087a26_a877_11ea_87de_0242ac110002row17_col8\" class=\"data row17 col8\" >-0.023</td>\n                        <td id=\"T_0f087a26_a877_11ea_87de_0242ac110002row17_col9\" class=\"data row17 col9\" >-0.016</td>\n                        <td id=\"T_0f087a26_a877_11ea_87de_0242ac110002row17_col10\" class=\"data row17 col10\" >+0.004</td>\n                        <td id=\"T_0f087a26_a877_11ea_87de_0242ac110002row17_col11\" class=\"data row17 col11\" >-0.072</td>\n                        <td id=\"T_0f087a26_a877_11ea_87de_0242ac110002row17_col12\" class=\"data row17 col12\" >-0.024</td>\n                        <td id=\"T_0f087a26_a877_11ea_87de_0242ac110002row17_col13\" class=\"data row17 col13\" >-0.026</td>\n                        <td id=\"T_0f087a26_a877_11ea_87de_0242ac110002row17_col14\" class=\"data row17 col14\" >-0.021</td>\n                        <td id=\"T_0f087a26_a877_11ea_87de_0242ac110002row17_col15\" class=\"data row17 col15\" >-0.029</td>\n                        <td id=\"T_0f087a26_a877_11ea_87de_0242ac110002row17_col16\" class=\"data row17 col16\" >-0.025</td>\n                        <td id=\"T_0f087a26_a877_11ea_87de_0242ac110002row17_col17\" class=\"data row17 col17\" >+1.000</td>\n            </tr>\n    </tbody></table>",
          "text/plain": "<pandas.io.formats.style.Styler at 0x7f46fdbebd30>"
         },
         "metadata": {},
         "output_type": "display_data"
        }
       ]
      }
     },
     "04caf74ed0a1422f94d8dc150199983c": {
      "model_module": "@jupyter-widgets/controls",
      "model_module_version": "1.5.0",
      "model_name": "DescriptionStyleModel",
      "state": {
       "description_width": ""
      }
     },
     "06376c19c149416ca199f877b3f3a9f1": {
      "model_module": "@jupyter-widgets/base",
      "model_module_version": "1.2.0",
      "model_name": "LayoutModel",
      "state": {
       "grid_area": "widget003"
      }
     },
     "0639096cc723406fa0053fd5ec1bf5cf": {
      "model_module": "@jupyter-widgets/base",
      "model_module_version": "1.2.0",
      "model_name": "LayoutModel",
      "state": {
       "border": "1px solid gray",
       "height": "588px"
      }
     },
     "067ca09c9f064382bdf561ba6ac49d16": {
      "model_module": "@jupyter-widgets/base",
      "model_module_version": "1.2.0",
      "model_name": "LayoutModel",
      "state": {}
     },
     "06a3dc01f86d4c45a7ccc077cdf056cd": {
      "model_module": "@jupyter-widgets/controls",
      "model_module_version": "1.5.0",
      "model_name": "DescriptionStyleModel",
      "state": {
       "description_width": ""
      }
     },
     "06e097eb7d5249deb34ad64b8eebe6cd": {
      "model_module": "@jupyter-widgets/base",
      "model_module_version": "1.2.0",
      "model_name": "LayoutModel",
      "state": {
       "width": "200px"
      }
     },
     "07072a044818460abebb3749f13e9525": {
      "model_module": "@jupyter-widgets/base",
      "model_module_version": "1.2.0",
      "model_name": "LayoutModel",
      "state": {
       "width": "200px"
      }
     },
     "07782d6e260f44c688001bbe2863a72a": {
      "model_module": "@jupyter-widgets/controls",
      "model_module_version": "1.5.0",
      "model_name": "DescriptionStyleModel",
      "state": {
       "description_width": ""
      }
     },
     "0810a68f0ee445f3952b1e36711d0e13": {
      "model_module": "@jupyter-widgets/base",
      "model_module_version": "1.2.0",
      "model_name": "LayoutModel",
      "state": {}
     },
     "088602be038d4238b83dd48f2b51ef18": {
      "model_module": "@jupyter-widgets/base",
      "model_module_version": "1.2.0",
      "model_name": "LayoutModel",
      "state": {}
     },
     "090300155a4044a88a749b5e049afdba": {
      "model_module": "@jupyter-widgets/controls",
      "model_module_version": "1.5.0",
      "model_name": "HBoxModel",
      "state": {
       "children": [
        "IPY_MODEL_d4ac128defe44378ad662074ce8a5639",
        "IPY_MODEL_f5e90d8d9d39470b805654416988e7d9"
       ],
       "layout": "IPY_MODEL_edc2711b9fac46198af2ca75a5940da3"
      }
     },
     "096be8add2694d9faa278ff3a5bf43a2": {
      "model_module": "@jupyter-widgets/base",
      "model_module_version": "1.2.0",
      "model_name": "LayoutModel",
      "state": {}
     },
     "0b2c4aeddbe949d9bc11ba92db50b2d8": {
      "model_module": "@jupyter-widgets/controls",
      "model_module_version": "1.5.0",
      "model_name": "DescriptionStyleModel",
      "state": {
       "description_width": ""
      }
     },
     "0de0f0f59d954524ac0676e7381d0d24": {
      "model_module": "@jupyter-widgets/controls",
      "model_module_version": "1.5.0",
      "model_name": "TabModel",
      "state": {
       "_titles": {
        "0": "Matrix"
       },
       "children": [
        "IPY_MODEL_23714772d18c4fce832aecf40710029f"
       ],
       "layout": "IPY_MODEL_e2d014442ec24b25b6255d8d109249a2"
      }
     },
     "0e2d200079e54569a80289c970bb80be": {
      "model_module": "@jupyter-widgets/controls",
      "model_module_version": "1.5.0",
      "model_name": "DescriptionStyleModel",
      "state": {
       "description_width": ""
      }
     },
     "0e56004f0dc3479588f2dbf55c41e1f5": {
      "model_module": "@jupyter-widgets/controls",
      "model_module_version": "1.5.0",
      "model_name": "VBoxModel",
      "state": {
       "children": [
        "IPY_MODEL_323dbe8900b24d18b75aa128d20c7c7a",
        "IPY_MODEL_bd21090ed0f8433099afdc462d772e6c"
       ],
       "layout": "IPY_MODEL_25f042bd28644f0b80c04f29c8b05811"
      }
     },
     "0e7a838ae1cd4d27971af850b66bc9cc": {
      "model_module": "@jupyter-widgets/controls",
      "model_module_version": "1.5.0",
      "model_name": "LabelModel",
      "state": {
       "layout": "IPY_MODEL_4721f7fd08b949219ecf0902f964513d",
       "style": "IPY_MODEL_787d4a3f05b94411a04c21384ba7cbac",
       "value": "Plot type:"
      }
     },
     "0f1d861772d749498d32f7e84eaa9f11": {
      "model_module": "@jupyter-widgets/controls",
      "model_module_version": "1.5.0",
      "model_name": "VBoxModel",
      "state": {
       "children": [
        "IPY_MODEL_35ef4f3a6f67410aaef0eefca75f139b",
        "IPY_MODEL_354468f113174bf49abda9c88cd2e8f4"
       ],
       "layout": "IPY_MODEL_6d88c25f2e144a3c88f0d17c22232434"
      }
     },
     "0fc3efaaf6974cbd876303cdc37b751d": {
      "model_module": "@jupyter-widgets/controls",
      "model_module_version": "1.5.0",
      "model_name": "DescriptionStyleModel",
      "state": {
       "description_width": ""
      }
     },
     "106aacc5eb364d00908fbdbc4d6978eb": {
      "model_module": "@jupyter-widgets/controls",
      "model_module_version": "1.5.0",
      "model_name": "DescriptionStyleModel",
      "state": {
       "description_width": ""
      }
     },
     "1104fea594aa4e4487c3ff7dc12698c1": {
      "model_module": "@jupyter-widgets/base",
      "model_module_version": "1.2.0",
      "model_name": "LayoutModel",
      "state": {}
     },
     "1126d8f7ae7d44c48c14c094f10b1a10": {
      "model_module": "@jupyter-widgets/controls",
      "model_module_version": "1.5.0",
      "model_name": "HTMLModel",
      "state": {
       "layout": "IPY_MODEL_28ff90ff77e249fab44656c404c8599a",
       "style": "IPY_MODEL_c4932ef264e04f91ae08cd7582d9bd17",
       "value": "<h1>Column Explorer (Top 50 terms)</h1><hr style='height:2px;border-width:0;color:gray;background-color:gray'>"
      }
     },
     "115d3f659b1c4210af7311364c71d237": {
      "model_module": "@jupyter-widgets/controls",
      "model_module_version": "1.5.0",
      "model_name": "VBoxModel",
      "state": {
       "children": [
        "IPY_MODEL_c316e2afc6fd4d4a8ba24a3d8fba5eee",
        "IPY_MODEL_ec6e39a0f7ff44b49ce395ec4bdd0228"
       ],
       "layout": "IPY_MODEL_7d37dd79eaea46159035f680e95ef754"
      }
     },
     "121591b9ac2647e59bcc26924056f687": {
      "model_module": "@jupyter-widgets/controls",
      "model_module_version": "1.5.0",
      "model_name": "DescriptionStyleModel",
      "state": {
       "description_width": ""
      }
     },
     "1225dc857bcc49cea5db40966f5ade42": {
      "model_module": "@jupyter-widgets/controls",
      "model_module_version": "1.5.0",
      "model_name": "HTMLModel",
      "state": {
       "layout": "IPY_MODEL_77da956213584a7b8cb9d541d3259300",
       "style": "IPY_MODEL_d84be7fc47b942ef88a217a6ad953637",
       "value": "<pre>                    Title: Organo-chlorine pesticide residues in okra and brinjal collected from peri-urban areas of big cities of Punjab-Pakistan<br>                  Authors: Randhawa MA<br>                           Abid QUZ<br>                           Anjum FM<br>                           Chaudhary AS<br>                           Sajid MW<br>                           Khalil AA<br>          Author Keywords: contamination<br>                           insecticides<br>                           risk assessment<br>                           toxicity<br>                           vegetables<br>Author Keywords (Cleaned): contamination<br>                           insecticides<br>                           risk assessment<br>                           toxicity<br>                           vegetable<br>             Source title: Pakistan Journal of Agricultural Sciences<br>                     Year: 2016<br>                Countries: Pakistan<br>                           United Kingdom<br>             Institutions: department of biosciences<br>                           school of agriculture<br>                           national institute of food science and technology<br>                 Keywords: contamination<br>                           insecticides<br>                           risk assessment<br>                           toxicity<br>                           vegetables<br></pre>"
      }
     },
     "1235a981f5004c40af80b75e16ceef6c": {
      "model_module": "@jupyter-widgets/controls",
      "model_module_version": "1.5.0",
      "model_name": "VBoxModel",
      "state": {
       "children": [
        "IPY_MODEL_3fc0fa677d72480fbd9c64aad7fb08a8"
       ],
       "layout": "IPY_MODEL_5125430f7b8c46eb80a045072f19570f"
      }
     },
     "123b3c060419432c9c13cfe8f88235ff": {
      "model_module": "@jupyter-widgets/controls",
      "model_module_version": "1.5.0",
      "model_name": "DescriptionStyleModel",
      "state": {
       "description_width": ""
      }
     },
     "12465d4dd2274b1dab06d1bdb8fd1059": {
      "model_module": "@jupyter-widgets/base",
      "model_module_version": "1.2.0",
      "model_name": "LayoutModel",
      "state": {}
     },
     "129b11dd95ed4882a7e44ee0e6e62756": {
      "model_module": "@jupyter-widgets/controls",
      "model_module_version": "1.5.0",
      "model_name": "DropdownModel",
      "state": {
       "_options_labels": [
        "Anjum FM",
        "Asomani-Boateng R",
        "Aubry C",
        "Barthel S",
        "Bendt P",
        "Berges R",
        "Blair D",
        "Boqvist S",
        "Brown KH",
        "Buerkert A",
        "Cadenasso ML",
        "Cerro C",
        "Certoma C",
        "Chenu C",
        "Cisse G",
        "Colding J",
        "Cutts BB(1)",
        "Delaide B",
        "Dierich A",
        "Drilling M",
        "Eigenbrod C",
        "Ernstson H",
        "Fliessbach A",
        "Foeken DWJ",
        "Freisinger UB",
        "Frey D",
        "Fuhrimann S",
        "Gianquinto G",
        "Giesecke CC",
        "Goddek S",
        "Gosoniu L",
        "Grard BJ-P",
        "Gruda N",
        "Henckel D",
        "Isendahl C",
        "Jameton AL",
        "Jijakli H",
        "Kahane R",
        "Karanja N",
        "Keraita B",
        "Kloti T",
        "Lagerkvist CJ",
        "Lee-Smith D",
        "Lehmann S",
        "London JK",
        "Magnusson U",
        "Mankasingh U",
        "Manouchehri N",
        "Matthys B",
        "Maxwell DG",
        "McClintock N",
        "Mergenthaler M",
        "Moretti M",
        "Mougeot LJ",
        "N'Goran EK",
        "Nasr J",
        "Nono-Womdim R",
        "Opitz I",
        "Orsini F",
        "Parker J",
        "Pham-Duc P",
        "Piorr A",
        "Polling B",
        "Ragnarsdottir KV",
        "Randhawa MA",
        "Raso G",
        "Rosol M",
        "Sajid MW",
        "Sattorov N",
        "Saumel I",
        "Sawicka M",
        "Schwarz K",
        "Sherman S",
        "Siebert R",
        "Smit J",
        "Specht K",
        "Tan HTW",
        "Tanner M",
        "Tappert S",
        "Thomaier S",
        "Thorarinsdottir R",
        "Tornaghi C",
        "Torquati BM",
        "Tresch S",
        "Tschannen AB",
        "Utzinger J",
        "Vounatsou P",
        "Winkler MS"
       ],
       "index": 0,
       "layout": "IPY_MODEL_36f548cbe39a41bb87f81a85fea55669",
       "style": "IPY_MODEL_d42e22baf0cf4dec99b48974f5a70f41"
      }
     },
     "12c7119e8ffa4e53900f519a3ea05f79": {
      "model_module": "@jupyter-widgets/controls",
      "model_module_version": "1.5.0",
      "model_name": "DescriptionStyleModel",
      "state": {
       "description_width": ""
      }
     },
     "13cdab94934343f5b6998423c7edffe5": {
      "model_module": "@jupyter-widgets/controls",
      "model_module_version": "1.5.0",
      "model_name": "HBoxModel",
      "state": {
       "children": [
        "IPY_MODEL_91496ae20f6f4176a37feb0f888b22f2",
        "IPY_MODEL_b0bf96dfa89443e886e85a1ac6dc4457"
       ],
       "layout": "IPY_MODEL_4eee637bea9e483cb403a753ebf11996"
      }
     },
     "15aad3cfeef74805817c1ac08bb95e5c": {
      "model_module": "@jupyter-widgets/base",
      "model_module_version": "1.2.0",
      "model_name": "LayoutModel",
      "state": {}
     },
     "18107283bc5a47ad868b327585dfdd28": {
      "model_module": "@jupyter-widgets/controls",
      "model_module_version": "1.5.0",
      "model_name": "DescriptionStyleModel",
      "state": {
       "description_width": ""
      }
     },
     "1a80ddff1e13459aa61e4890b05f92ce": {
      "model_module": "@jupyter-widgets/base",
      "model_module_version": "1.2.0",
      "model_name": "LayoutModel",
      "state": {
       "grid_area": "widget001"
      }
     },
     "1af5a80a9c874faf8d6bb6aef014c45b": {
      "model_module": "@jupyter-widgets/controls",
      "model_module_version": "1.5.0",
      "model_name": "DropdownModel",
      "state": {
       "_options_labels": [
        "pearson",
        "kendall",
        "spearman"
       ],
       "index": 0,
       "layout": "IPY_MODEL_fc4c3528f1364540abae76867fb0f303",
       "style": "IPY_MODEL_6c622fd68df940fdba177456b08c596b"
      }
     },
     "1b6dd682900f4e36acc257e314fa3429": {
      "model_module": "@jupyter-widgets/controls",
      "model_module_version": "1.5.0",
      "model_name": "VBoxModel",
      "state": {
       "children": [
        "IPY_MODEL_854758b73fe64bd8ab5ae04922aa6b83"
       ],
       "layout": "IPY_MODEL_5920b11e59064d2e8a7a79391b43b8c3"
      }
     },
     "1be8c6eecb424199b3ef785ffd5bce2b": {
      "model_module": "@jupyter-widgets/base",
      "model_module_version": "1.2.0",
      "model_name": "LayoutModel",
      "state": {}
     },
     "1c0ec8e3e3104b169334a817a83edb0d": {
      "model_module": "@jupyter-widgets/base",
      "model_module_version": "1.2.0",
      "model_name": "LayoutModel",
      "state": {}
     },
     "1c1a8597aabb4fa08169244b4e86af1a": {
      "model_module": "@jupyter-widgets/base",
      "model_module_version": "1.2.0",
      "model_name": "LayoutModel",
      "state": {}
     },
     "1c992634296549488722e05a45074947": {
      "model_module": "@jupyter-widgets/controls",
      "model_module_version": "1.5.0",
      "model_name": "DescriptionStyleModel",
      "state": {
       "description_width": ""
      }
     },
     "1d3d0293cb044d41b9f7ea961cf5ceb7": {
      "model_module": "@jupyter-widgets/controls",
      "model_module_version": "1.5.0",
      "model_name": "DescriptionStyleModel",
      "state": {
       "description_width": ""
      }
     },
     "1d98fe640a934f338ecc3d724f89d357": {
      "model_module": "@jupyter-widgets/base",
      "model_module_version": "1.2.0",
      "model_name": "LayoutModel",
      "state": {
       "width": "200px"
      }
     },
     "1daeada6834e4018ae943b936914112b": {
      "model_module": "@jupyter-widgets/base",
      "model_module_version": "1.2.0",
      "model_name": "LayoutModel",
      "state": {}
     },
     "1f7f7b4a218d4fa6a0ce0fa8e09f71e7": {
      "model_module": "@jupyter-widgets/controls",
      "model_module_version": "1.5.0",
      "model_name": "DescriptionStyleModel",
      "state": {
       "description_width": ""
      }
     },
     "1f87001ff2834111bc828a38f14227f6": {
      "model_module": "@jupyter-widgets/controls",
      "model_module_version": "1.5.0",
      "model_name": "DescriptionStyleModel",
      "state": {
       "description_width": ""
      }
     },
     "22906054d9594e6894050c30e68bed80": {
      "model_module": "@jupyter-widgets/controls",
      "model_module_version": "1.5.0",
      "model_name": "VBoxModel",
      "state": {
       "children": [
        "IPY_MODEL_92820ead8d5c4a4a9a6fde6e02a405b5",
        "IPY_MODEL_7e533641a04f439297d2b175bb9545e9"
       ],
       "layout": "IPY_MODEL_d70518fa210f40d1a7effb06a4985804"
      }
     },
     "22b671333882405d99ebe82a42d527ef": {
      "model_module": "@jupyter-widgets/controls",
      "model_module_version": "1.5.0",
      "model_name": "DescriptionStyleModel",
      "state": {
       "description_width": ""
      }
     },
     "232e0e0adf884baf9ffa6c607461703b": {
      "model_module": "@jupyter-widgets/base",
      "model_module_version": "1.2.0",
      "model_name": "LayoutModel",
      "state": {}
     },
     "233f4a0a0a44497399c314686a97668f": {
      "model_module": "@jupyter-widgets/base",
      "model_module_version": "1.2.0",
      "model_name": "LayoutModel",
      "state": {}
     },
     "23714772d18c4fce832aecf40710029f": {
      "model_module": "@jupyter-widgets/controls",
      "model_module_version": "1.5.0",
      "model_name": "HBoxModel",
      "state": {
       "children": [
        "IPY_MODEL_65ac61c4484844e4af8bf8b9bd8f61e9",
        "IPY_MODEL_839b528c520648c9b479643789447f6b"
       ],
       "layout": "IPY_MODEL_83e2c998c7a1477d9933c4291142234b"
      }
     },
     "237e83d8fc7e467f801705507b054f92": {
      "model_module": "@jupyter-widgets/base",
      "model_module_version": "1.2.0",
      "model_name": "LayoutModel",
      "state": {
       "width": "200px"
      }
     },
     "243f1d87b08945af80a6f215cd2a7e12": {
      "model_module": "@jupyter-widgets/base",
      "model_module_version": "1.2.0",
      "model_name": "LayoutModel",
      "state": {
       "grid_area": "center"
      }
     },
     "249507491cec457cb5463e649ab2ed78": {
      "model_module": "@jupyter-widgets/base",
      "model_module_version": "1.2.0",
      "model_name": "LayoutModel",
      "state": {
       "width": "200px"
      }
     },
     "24c1784fb76b4bfb898637a3a45f6f0c": {
      "model_module": "@jupyter-widgets/controls",
      "model_module_version": "1.5.0",
      "model_name": "DescriptionStyleModel",
      "state": {
       "description_width": ""
      }
     },
     "24eb6a5d15aa451abe812523a81d8a9d": {
      "model_module": "@jupyter-widgets/base",
      "model_module_version": "1.2.0",
      "model_name": "LayoutModel",
      "state": {}
     },
     "257bb173ab964351b575c9195c6f1763": {
      "model_module": "@jupyter-widgets/controls",
      "model_module_version": "1.5.0",
      "model_name": "HTMLModel",
      "state": {
       "layout": "IPY_MODEL_58d2ddef651e4051a28d1094e73c0466",
       "style": "IPY_MODEL_439987c0ad434d58b4b8235b72964c02",
       "value": "<h1>Summary by Term per Year</h1><hr style='height:2px;border-width:0;color:gray;background-color:gray'>"
      }
     },
     "25f042bd28644f0b80c04f29c8b05811": {
      "model_module": "@jupyter-widgets/base",
      "model_module_version": "1.2.0",
      "model_name": "LayoutModel",
      "state": {}
     },
     "2608107c45ff439695d2f8b750b26ccc": {
      "model_module": "@jupyter-widgets/base",
      "model_module_version": "1.2.0",
      "model_name": "LayoutModel",
      "state": {}
     },
     "2689fef1a89e46de8860511ad049692d": {
      "model_module": "@jupyter-widgets/base",
      "model_module_version": "1.2.0",
      "model_name": "LayoutModel",
      "state": {
       "grid_area": "center"
      }
     },
     "275671ead87a470ba77b8dc50880a9fe": {
      "model_module": "@jupyter-widgets/base",
      "model_module_version": "1.2.0",
      "model_name": "LayoutModel",
      "state": {
       "grid_area": "header"
      }
     },
     "2776172e95f54b6090d1e8b91eb6e814": {
      "model_module": "@jupyter-widgets/controls",
      "model_module_version": "1.5.0",
      "model_name": "LabelModel",
      "state": {
       "layout": "IPY_MODEL_c0d5c16c2ee14725aae4b7c91866dc99",
       "style": "IPY_MODEL_cbad16c710e34ee1a3c92c9aadf3e8c9",
       "value": "Colormap:"
      }
     },
     "27bd2fbd09024a19b3c66729d991ef0c": {
      "model_module": "@jupyter-widgets/controls",
      "model_module_version": "1.5.0",
      "model_name": "VBoxModel",
      "state": {
       "children": [
        "IPY_MODEL_c3b2db350b8a41fc9795ef1e533b37a9",
        "IPY_MODEL_a6317802b7cf41bf8188ba28e2c11168"
       ],
       "layout": "IPY_MODEL_6bf56a87d2d74b91b0ea20fefe9da35d"
      }
     },
     "28ff90ff77e249fab44656c404c8599a": {
      "model_module": "@jupyter-widgets/base",
      "model_module_version": "1.2.0",
      "model_name": "LayoutModel",
      "state": {
       "grid_area": "header"
      }
     },
     "29979075db5643f1b22ffb4ffd89ebc1": {
      "model_module": "@jupyter-widgets/controls",
      "model_module_version": "1.5.0",
      "model_name": "DropdownModel",
      "state": {
       "_options_labels": [
        "Authors",
        "Author(s) ID",
        "Year",
        "Source title",
        "Affiliations",
        "Author Keywords",
        "Index Keywords",
        "Author Keywords (Cleaned)",
        "Index Keywords (Cleaned)",
        "Keywords",
        "Countries",
        "Country 1st",
        "Institutions",
        "Institution 1st",
        "Num Authors"
       ],
       "index": 0,
       "layout": "IPY_MODEL_f90161a6d5c7460889e6614a45245e0d",
       "style": "IPY_MODEL_e4c07665159d4499ad9a1523bc02777c"
      }
     },
     "29bfab75c3554c13a326ce1d590d346a": {
      "model_module": "@jupyter-widgets/controls",
      "model_module_version": "1.5.0",
      "model_name": "GridBoxModel",
      "state": {
       "children": [
        "IPY_MODEL_ed6c8fb10aca43b3b4a06de2416abe9c",
        "IPY_MODEL_0de0f0f59d954524ac0676e7381d0d24"
       ],
       "layout": "IPY_MODEL_8225e689348f42f8aa1bef6ec919d77a"
      }
     },
     "29c948c3aa5141f7b0a1db16aae7d318": {
      "model_module": "@jupyter-widgets/controls",
      "model_module_version": "1.5.0",
      "model_name": "VBoxModel",
      "state": {
       "children": [
        "IPY_MODEL_58ecb246f6b541998edfeea5a4ff304d",
        "IPY_MODEL_cec73a85089940689a065625542b9d11"
       ],
       "layout": "IPY_MODEL_e0498687e7194475b5147c0bbc052f59"
      }
     },
     "2a1b4d485f1f42bc90a49fc73f5ddae1": {
      "model_module": "@jupyter-widgets/controls",
      "model_module_version": "1.5.0",
      "model_name": "DropdownModel",
      "state": {
       "_options_labels": [
        "Authors",
        "Author(s) ID",
        "Year",
        "Source title",
        "Affiliations",
        "Author Keywords",
        "Index Keywords",
        "Author Keywords (Cleaned)",
        "Index Keywords (Cleaned)",
        "Keywords",
        "Countries",
        "Country 1st",
        "Institutions",
        "Institution 1st",
        "Num Authors"
       ],
       "index": 0,
       "layout": "IPY_MODEL_e82749cce5ac4508a3c338ff0cda1620",
       "style": "IPY_MODEL_bde31d07bab84d9daa560ec70cd7c4ec"
      }
     },
     "2a2467a104dd4392b6eb8a419126d395": {
      "model_module": "@jupyter-widgets/controls",
      "model_module_version": "1.5.0",
      "model_name": "LabelModel",
      "state": {
       "layout": "IPY_MODEL_daebf70de104449d852ace7c0f720ffa",
       "style": "IPY_MODEL_18107283bc5a47ad868b327585dfdd28",
       "value": "Column:"
      }
     },
     "2c38ccf174f64484b6a228b479674fc2": {
      "model_module": "@jupyter-widgets/base",
      "model_module_version": "1.2.0",
      "model_name": "LayoutModel",
      "state": {}
     },
     "2c95f6c3e2fd4c6f98d2197c7922ce98": {
      "model_module": "@jupyter-widgets/controls",
      "model_module_version": "1.5.0",
      "model_name": "DescriptionStyleModel",
      "state": {
       "description_width": ""
      }
     },
     "2cbf114c98984441b2f2d262b7c8c859": {
      "model_module": "@jupyter-widgets/controls",
      "model_module_version": "1.5.0",
      "model_name": "DescriptionStyleModel",
      "state": {
       "description_width": ""
      }
     },
     "2cf5b1cfbf24432a8fc141f92c162184": {
      "model_module": "@jupyter-widgets/controls",
      "model_module_version": "1.5.0",
      "model_name": "DescriptionStyleModel",
      "state": {
       "description_width": ""
      }
     },
     "2dd4d5b953a941b9952edbfb9754260c": {
      "model_module": "@jupyter-widgets/base",
      "model_module_version": "1.2.0",
      "model_name": "LayoutModel",
      "state": {
       "width": "200px"
      }
     },
     "2f661fdecf204f1486133d0dd1c9f482": {
      "model_module": "@jupyter-widgets/base",
      "model_module_version": "1.2.0",
      "model_name": "LayoutModel",
      "state": {}
     },
     "2fc51399d77240eab6404cda7583b03d": {
      "model_module": "@jupyter-widgets/base",
      "model_module_version": "1.2.0",
      "model_name": "LayoutModel",
      "state": {}
     },
     "30e414a965734816a2a0587798e5a7b6": {
      "model_module": "@jupyter-widgets/base",
      "model_module_version": "1.2.0",
      "model_name": "LayoutModel",
      "state": {}
     },
     "322caa674d5a42f09bc78ac3c83b6fd1": {
      "model_module": "@jupyter-widgets/controls",
      "model_module_version": "1.5.0",
      "model_name": "VBoxModel",
      "state": {
       "children": [
        "IPY_MODEL_a06f6df0a8ba497088a8cdade66abd23",
        "IPY_MODEL_636aad1897bb487cb6c30aced4c6e4e4"
       ],
       "layout": "IPY_MODEL_b99d48977b854911ada3f99ee70be7a6"
      }
     },
     "323dbe8900b24d18b75aa128d20c7c7a": {
      "model_module": "@jupyter-widgets/controls",
      "model_module_version": "1.5.0",
      "model_name": "LabelModel",
      "state": {
       "layout": "IPY_MODEL_93825fa35bb2468a83266fbcc621cd0f",
       "style": "IPY_MODEL_e8f6d9b331184668ae03abacc5795639",
       "value": "Colormap:"
      }
     },
     "33249dd2fcd3468c91dbbeeac9500e63": {
      "model_module": "@jupyter-widgets/controls",
      "model_module_version": "1.5.0",
      "model_name": "DescriptionStyleModel",
      "state": {
       "description_width": ""
      }
     },
     "3491108486bc4db2bd6dbde9cde35599": {
      "model_module": "@jupyter-widgets/output",
      "model_module_version": "1.0.0",
      "model_name": "OutputModel",
      "state": {
       "layout": "IPY_MODEL_d64209fc05bc4b078373676b3ea39cae",
       "outputs": [
        {
         "data": {
          "application/vnd.jupyter.widget-view+json": {
           "model_id": "359060b4a0f04837bfdad27fc8892b71",
           "version_major": 2,
           "version_minor": 0
          },
          "text/plain": "HTML(value='<h3>Matrix exceeds the maximum shape</h3>')"
         },
         "metadata": {},
         "output_type": "display_data"
        }
       ]
      }
     },
     "354468f113174bf49abda9c88cd2e8f4": {
      "model_module": "@jupyter-widgets/controls",
      "model_module_version": "1.5.0",
      "model_name": "DropdownModel",
      "state": {
       "_options_labels": [
        "Alphabetic asc.",
        "Alphabetic desc.",
        "Frequency/Cited by asc.",
        "Frequency/Cited by desc."
       ],
       "index": 0,
       "layout": "IPY_MODEL_f922ee3efb6d42eeaf838f3c3c8a26ee",
       "style": "IPY_MODEL_5eb89aa3707b4eb0bba67b219a95ceda"
      }
     },
     "356210f6b6da436788416725bc6cbfe0": {
      "model_module": "@jupyter-widgets/controls",
      "model_module_version": "1.5.0",
      "model_name": "VBoxModel",
      "state": {
       "children": [
        "IPY_MODEL_c199042128c44e5b96a634ed706a7e7b",
        "IPY_MODEL_dd54c7a74f83444a96fc65beef5c118c"
       ],
       "layout": "IPY_MODEL_088602be038d4238b83dd48f2b51ef18"
      }
     },
     "359060b4a0f04837bfdad27fc8892b71": {
      "model_module": "@jupyter-widgets/controls",
      "model_module_version": "1.5.0",
      "model_name": "HTMLModel",
      "state": {
       "layout": "IPY_MODEL_e2dea07c4e964ff9a3cb35993b1c845a",
       "style": "IPY_MODEL_5aaa6b00e0d8498a85f97965f652e9fb",
       "value": "<h3>Matrix exceeds the maximum shape</h3>"
      }
     },
     "35ef4f3a6f67410aaef0eefca75f139b": {
      "model_module": "@jupyter-widgets/controls",
      "model_module_version": "1.5.0",
      "model_name": "LabelModel",
      "state": {
       "layout": "IPY_MODEL_80f5aa7a93bf41ba9d4b5a382a4766f6",
       "style": "IPY_MODEL_0b2c4aeddbe949d9bc11ba92db50b2d8",
       "value": "Sort order:"
      }
     },
     "3604ab55010b4badb4e9347d1579ccba": {
      "model_module": "@jupyter-widgets/controls",
      "model_module_version": "1.5.0",
      "model_name": "DescriptionStyleModel",
      "state": {
       "description_width": ""
      }
     },
     "368c375882a445acb7e6dcd664e0bfeb": {
      "model_module": "@jupyter-widgets/base",
      "model_module_version": "1.2.0",
      "model_name": "LayoutModel",
      "state": {
       "width": "200px"
      }
     },
     "36f548cbe39a41bb87f81a85fea55669": {
      "model_module": "@jupyter-widgets/base",
      "model_module_version": "1.2.0",
      "model_name": "LayoutModel",
      "state": {
       "width": "200px"
      }
     },
     "38299986de834f6a923410ba6f41c40a": {
      "model_module": "@jupyter-widgets/output",
      "model_module_version": "1.0.0",
      "model_name": "OutputModel",
      "state": {
       "layout": "IPY_MODEL_2608107c45ff439695d2f8b750b26ccc",
       "outputs": [
        {
         "data": {
          "application/vnd.jupyter.widget-view+json": {
           "model_id": "c807dc45e2ef467f815a1f483a08b272",
           "version_major": 2,
           "version_minor": 0
          },
          "text/plain": "Output()"
         },
         "metadata": {},
         "output_type": "display_data"
        }
       ]
      }
     },
     "38be8e203ef64c74a19dacae88de6aec": {
      "model_module": "@jupyter-widgets/base",
      "model_module_version": "1.2.0",
      "model_name": "LayoutModel",
      "state": {
       "grid_template_areas": "\"header header header\"\n\"center center center\"",
       "grid_template_columns": "1fr 2fr 1fr",
       "grid_template_rows": "80px 650px"
      }
     },
     "38e4c8eb11664a99ae7c81b0d37bf22c": {
      "model_module": "@jupyter-widgets/output",
      "model_module_version": "1.0.0",
      "model_name": "OutputModel",
      "state": {
       "layout": "IPY_MODEL_a4d19357ed054ba89a54b684073f671a"
      }
     },
     "391e715891fd4400a256fce604b5dfd8": {
      "model_module": "@jupyter-widgets/base",
      "model_module_version": "1.2.0",
      "model_name": "LayoutModel",
      "state": {
       "width": "200px"
      }
     },
     "393f53b84df5402492b4e15bfcbd4781": {
      "model_module": "@jupyter-widgets/controls",
      "model_module_version": "1.5.0",
      "model_name": "DescriptionStyleModel",
      "state": {
       "description_width": ""
      }
     },
     "39e3af731085463f88e58cc68d94ae9d": {
      "model_module": "@jupyter-widgets/controls",
      "model_module_version": "1.5.0",
      "model_name": "TabModel",
      "state": {
       "_titles": {
        "0": "Matrix"
       },
       "children": [
        "IPY_MODEL_edbc733cb52a44f985ee3149b1daa7fe"
       ],
       "layout": "IPY_MODEL_58e27ca93b43476b8630010155aaa609"
      }
     },
     "3a52333ee88949fd8ce7421814272fc8": {
      "model_module": "@jupyter-widgets/controls",
      "model_module_version": "1.5.0",
      "model_name": "DropdownModel",
      "state": {
       "_options_labels": [
        "Authors",
        "Author(s) ID",
        "Year",
        "Source title",
        "Affiliations",
        "Author Keywords",
        "Index Keywords",
        "Author Keywords (Cleaned)",
        "Index Keywords (Cleaned)",
        "Keywords",
        "Countries",
        "Country 1st",
        "Institutions",
        "Institution 1st",
        "Num Authors"
       ],
       "index": 0,
       "layout": "IPY_MODEL_bf44b78a76464a25a2445b119afda087",
       "style": "IPY_MODEL_f0a26fe447e14d4bb0442cce883913a0"
      }
     },
     "3b30eb1eb4bc463087dd5bc70304ef96": {
      "model_module": "@jupyter-widgets/base",
      "model_module_version": "1.2.0",
      "model_name": "LayoutModel",
      "state": {
       "grid_area": "widget004"
      }
     },
     "3b4f6b7728e343c181ed8bdc4e56ce42": {
      "model_module": "@jupyter-widgets/controls",
      "model_module_version": "1.5.0",
      "model_name": "DescriptionStyleModel",
      "state": {
       "description_width": ""
      }
     },
     "3bd86cca40cd4eb4be3cc6ad25588888": {
      "model_module": "@jupyter-widgets/base",
      "model_module_version": "1.2.0",
      "model_name": "LayoutModel",
      "state": {
       "width": "200px"
      }
     },
     "3cd485ef1531467ea0c5d7f0105c9ce0": {
      "model_module": "@jupyter-widgets/base",
      "model_module_version": "1.2.0",
      "model_name": "LayoutModel",
      "state": {}
     },
     "3d857da244d946dfbb1a35eeeec5c7a8": {
      "model_module": "@jupyter-widgets/controls",
      "model_module_version": "1.5.0",
      "model_name": "DescriptionStyleModel",
      "state": {
       "description_width": ""
      }
     },
     "3d9e864682394faba18b3b8f945d9246": {
      "model_module": "@jupyter-widgets/base",
      "model_module_version": "1.2.0",
      "model_name": "LayoutModel",
      "state": {
       "border": "1px solid gray",
       "height": "650px"
      }
     },
     "3de61c84b54d483aaaaa190219c4de92": {
      "model_module": "@jupyter-widgets/controls",
      "model_module_version": "1.5.0",
      "model_name": "VBoxModel",
      "state": {
       "children": [
        "IPY_MODEL_2a2467a104dd4392b6eb8a419126d395",
        "IPY_MODEL_3a52333ee88949fd8ce7421814272fc8",
        "IPY_MODEL_aa1725c9b8d142d6acd81b90ffe7c4b9",
        "IPY_MODEL_129b11dd95ed4882a7e44ee0e6e62756"
       ],
       "layout": "IPY_MODEL_5c9f3bdc55404951ac3b26ba0042def0"
      }
     },
     "3fc0fa677d72480fbd9c64aad7fb08a8": {
      "model_module": "@jupyter-widgets/output",
      "model_module_version": "1.0.0",
      "model_name": "OutputModel",
      "state": {
       "layout": "IPY_MODEL_5365e67a4b674e04aff29ae63682f852",
       "outputs": [
        {
         "data": {
          "image/png": "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\n",
          "text/plain": "<Figure size 1080x676.8 with 1 Axes>"
         },
         "metadata": {},
         "output_type": "display_data"
        }
       ]
      }
     },
     "416ba5eb6133417692294b53d49a9fe1": {
      "model_module": "@jupyter-widgets/controls",
      "model_module_version": "1.5.0",
      "model_name": "LabelModel",
      "state": {
       "layout": "IPY_MODEL_1c0ec8e3e3104b169334a817a83edb0d",
       "style": "IPY_MODEL_b749e860e94a42d393f62c37598693de",
       "value": "Method:"
      }
     },
     "4296797aa36840c78231c929448165d9": {
      "model_module": "@jupyter-widgets/controls",
      "model_module_version": "1.5.0",
      "model_name": "GridBoxModel",
      "state": {
       "children": [
        "IPY_MODEL_9d1c179bf48b48178e4380cc14d6fa9a",
        "IPY_MODEL_39e3af731085463f88e58cc68d94ae9d"
       ],
       "layout": "IPY_MODEL_6086d680be1a472cb6d2f4550ea7522f"
      }
     },
     "42a432e5196f4479b276050d6d21f871": {
      "model_module": "@jupyter-widgets/base",
      "model_module_version": "1.2.0",
      "model_name": "LayoutModel",
      "state": {}
     },
     "43451be6c3434fc0983beea772f144bb": {
      "model_module": "@jupyter-widgets/base",
      "model_module_version": "1.2.0",
      "model_name": "LayoutModel",
      "state": {}
     },
     "439987c0ad434d58b4b8235b72964c02": {
      "model_module": "@jupyter-widgets/controls",
      "model_module_version": "1.5.0",
      "model_name": "DescriptionStyleModel",
      "state": {
       "description_width": ""
      }
     },
     "44206b3464374c6d906c4364f65fe286": {
      "model_module": "@jupyter-widgets/base",
      "model_module_version": "1.2.0",
      "model_name": "LayoutModel",
      "state": {}
     },
     "4532bb0854144a2ea405bd323c9a4aad": {
      "model_module": "@jupyter-widgets/controls",
      "model_module_version": "1.5.0",
      "model_name": "VBoxModel",
      "state": {
       "children": [
        "IPY_MODEL_51e1d2875a8447d1b4b899b6c1d9ac80"
       ],
       "layout": "IPY_MODEL_aa7ac83bbc4e419bbd53ac40eea066d6"
      }
     },
     "459cff00289746e6a9a8bf3c78ab4e40": {
      "model_module": "@jupyter-widgets/controls",
      "model_module_version": "1.5.0",
      "model_name": "DescriptionStyleModel",
      "state": {
       "description_width": ""
      }
     },
     "45d4a7b96b3d432dbab7686456ff6046": {
      "model_module": "@jupyter-widgets/base",
      "model_module_version": "1.2.0",
      "model_name": "LayoutModel",
      "state": {
       "border": "1px solid gray",
       "height": "588px"
      }
     },
     "46f16edf287d48d2adc185c47a58806e": {
      "model_module": "@jupyter-widgets/controls",
      "model_module_version": "1.5.0",
      "model_name": "DescriptionStyleModel",
      "state": {
       "description_width": ""
      }
     },
     "4721f7fd08b949219ecf0902f964513d": {
      "model_module": "@jupyter-widgets/base",
      "model_module_version": "1.2.0",
      "model_name": "LayoutModel",
      "state": {}
     },
     "472cc08a0b764a6aba03f082388d59a5": {
      "model_module": "@jupyter-widgets/base",
      "model_module_version": "1.2.0",
      "model_name": "LayoutModel",
      "state": {}
     },
     "4768d61955de4cd9a65679f58ed3e180": {
      "model_module": "@jupyter-widgets/controls",
      "model_module_version": "1.5.0",
      "model_name": "IntSliderModel",
      "state": {
       "continuous_update": false,
       "layout": "IPY_MODEL_809c513987a847c2a0897f75d1bd5ece",
       "max": 50,
       "min": 10,
       "style": "IPY_MODEL_7ecb52955813464aa791c98017e64e2a",
       "value": 10
      }
     },
     "48271d956a634f759ce9675931b67a24": {
      "model_module": "@jupyter-widgets/base",
      "model_module_version": "1.2.0",
      "model_name": "LayoutModel",
      "state": {}
     },
     "484a0ae5ab0f4c5ebf08e65e9963fcb4": {
      "model_module": "@jupyter-widgets/base",
      "model_module_version": "1.2.0",
      "model_name": "LayoutModel",
      "state": {}
     },
     "48624eece66644fcbc76c821497615c8": {
      "model_module": "@jupyter-widgets/controls",
      "model_module_version": "1.5.0",
      "model_name": "DescriptionStyleModel",
      "state": {
       "description_width": ""
      }
     },
     "493972a6331d4738bfe00a8656d6512b": {
      "model_module": "@jupyter-widgets/controls",
      "model_module_version": "1.5.0",
      "model_name": "VBoxModel",
      "state": {
       "children": [
        "IPY_MODEL_d61a94d6b9d34336924c01ede83a9dfb",
        "IPY_MODEL_4768d61955de4cd9a65679f58ed3e180"
       ],
       "layout": "IPY_MODEL_7f72f0052459452eb7d74b8c01cf9d9c"
      }
     },
     "49c86ac7f3ab4bcc8fbd3a45b69046a5": {
      "model_module": "@jupyter-widgets/controls",
      "model_module_version": "1.5.0",
      "model_name": "LabelModel",
      "state": {
       "layout": "IPY_MODEL_69f6b05ff48e468abf70a19c6247dec9",
       "style": "IPY_MODEL_50525aaa86b846d7963412d87140c6d1",
       "value": "Column:"
      }
     },
     "4a430c59ec5749f89ea90154517a9384": {
      "model_module": "@jupyter-widgets/controls",
      "model_module_version": "1.5.0",
      "model_name": "DescriptionStyleModel",
      "state": {
       "description_width": ""
      }
     },
     "4b718bf764f84ff087596d9c3faf3082": {
      "model_module": "@jupyter-widgets/controls",
      "model_module_version": "1.5.0",
      "model_name": "VBoxModel",
      "state": {
       "children": [
        "IPY_MODEL_f3afdbdcfb18431a971400bf26c57ca1",
        "IPY_MODEL_caee862c1b4b4d1a9d5ec49323784058"
       ],
       "layout": "IPY_MODEL_e4d9f40a78154d59a58303fddb35181c"
      }
     },
     "4c28c15f3b2d4d23b7e5ada9590b120c": {
      "model_module": "@jupyter-widgets/base",
      "model_module_version": "1.2.0",
      "model_name": "LayoutModel",
      "state": {}
     },
     "4d02454827f14503940b979e5587cdd4": {
      "model_module": "@jupyter-widgets/base",
      "model_module_version": "1.2.0",
      "model_name": "LayoutModel",
      "state": {}
     },
     "4d7b360dbc324d0fb2ee591451549055": {
      "model_module": "@jupyter-widgets/controls",
      "model_module_version": "1.5.0",
      "model_name": "HBoxModel",
      "state": {
       "children": [
        "IPY_MODEL_e0f44600798046bc9e3d10c2f5a1112e",
        "IPY_MODEL_1235a981f5004c40af80b75e16ceef6c"
       ],
       "layout": "IPY_MODEL_89564e939a0a48e884db858d0c1fe664"
      }
     },
     "4e66e433bae54e3b80d76a50f6ab07b1": {
      "model_module": "@jupyter-widgets/output",
      "model_module_version": "1.0.0",
      "model_name": "OutputModel",
      "state": {
       "layout": "IPY_MODEL_44206b3464374c6d906c4364f65fe286",
       "outputs": [
        {
         "data": {
          "application/vnd.jupyter.widget-view+json": {
           "model_id": "3491108486bc4db2bd6dbde9cde35599",
           "version_major": 2,
           "version_minor": 0
          },
          "text/plain": "Output()"
         },
         "metadata": {},
         "output_type": "display_data"
        }
       ]
      }
     },
     "4e8ee2eebb374ebb8370d5c3f890be62": {
      "model_module": "@jupyter-widgets/controls",
      "model_module_version": "1.5.0",
      "model_name": "VBoxModel",
      "state": {
       "children": [
        "IPY_MODEL_c59dc5ebabff4171a9e440fd3c2fad75",
        "IPY_MODEL_0110a5f6e4914955ac96152707e523c1"
       ],
       "layout": "IPY_MODEL_66b6288a329d47c18391aafa218551e5"
      }
     },
     "4eee637bea9e483cb403a753ebf11996": {
      "model_module": "@jupyter-widgets/base",
      "model_module_version": "1.2.0",
      "model_name": "LayoutModel",
      "state": {}
     },
     "4f6e7be5478445c3845936b9e9439c8b": {
      "model_module": "@jupyter-widgets/base",
      "model_module_version": "1.2.0",
      "model_name": "LayoutModel",
      "state": {
       "width": "200px"
      }
     },
     "5003ebac70c04e4a9a6d2588e5fda997": {
      "model_module": "@jupyter-widgets/controls",
      "model_module_version": "1.5.0",
      "model_name": "DescriptionStyleModel",
      "state": {
       "description_width": ""
      }
     },
     "50525aaa86b846d7963412d87140c6d1": {
      "model_module": "@jupyter-widgets/controls",
      "model_module_version": "1.5.0",
      "model_name": "DescriptionStyleModel",
      "state": {
       "description_width": ""
      }
     },
     "5059b2201627488eb1bfc44d080856e1": {
      "model_module": "@jupyter-widgets/base",
      "model_module_version": "1.2.0",
      "model_name": "LayoutModel",
      "state": {
       "width": "700px"
      }
     },
     "50ad647303ae4c8dab0dc1efd98a602b": {
      "model_module": "@jupyter-widgets/base",
      "model_module_version": "1.2.0",
      "model_name": "LayoutModel",
      "state": {
       "grid_area": "center"
      }
     },
     "5125430f7b8c46eb80a045072f19570f": {
      "model_module": "@jupyter-widgets/base",
      "model_module_version": "1.2.0",
      "model_name": "LayoutModel",
      "state": {
       "align_items": "baseline",
       "width": "870px"
      }
     },
     "51d8b23120c041ffb041a3bb2613e595": {
      "model_module": "@jupyter-widgets/controls",
      "model_module_version": "1.5.0",
      "model_name": "HTMLModel",
      "state": {
       "layout": "IPY_MODEL_b0a151369e944ba38b57eaebae0cea7b",
       "style": "IPY_MODEL_5003ebac70c04e4a9a6d2588e5fda997",
       "value": "<pre>                    Title: Heavy metal contents and their daily intake in vegetables under peri-urban farming system of Multan, Pakistan<br>                  Authors: Randhawa MA<br>                           Ahmad G<br>                           Anjum FM<br>                           Asghar A<br>                           Sajid MW<br>          Author Keywords: daily intake<br>                           heavy metals<br>                           mrls<br>                           okra<br>Author Keywords (Cleaned): daily intake<br>                           heavy metal<br>                           mrls<br>                           okra<br>             Source title: Pakistan Journal of Agricultural Sciences<br>                     Year: 2014<br>                Countries: Pakistan<br>             Institutions: national institute of food science and technology<br>                 Keywords: daily intake<br>                           heavy metals<br>                           mrls<br>                           okra<br></pre>"
      }
     },
     "51e1d2875a8447d1b4b899b6c1d9ac80": {
      "model_module": "@jupyter-widgets/output",
      "model_module_version": "1.0.0",
      "model_name": "OutputModel",
      "state": {
       "layout": "IPY_MODEL_d1259cb69c6f4daf8428a46097835d3c",
       "outputs": [
        {
         "data": {
          "application/vnd.jupyter.widget-view+json": {
           "model_id": "f534488be4224ae3a6eea034b73a539b",
           "version_major": 2,
           "version_minor": 0
          },
          "text/plain": "HTML(value='<pre>                    Title: Heavy metal contents and their daily intake in vegetables under pe…"
         },
         "metadata": {},
         "output_type": "display_data"
        }
       ]
      }
     },
     "52161a67dc1640dda5ca9673e8439255": {
      "model_module": "@jupyter-widgets/controls",
      "model_module_version": "1.5.0",
      "model_name": "DescriptionStyleModel",
      "state": {
       "description_width": ""
      }
     },
     "52bd36810dae4b63adde353f799f7747": {
      "model_module": "@jupyter-widgets/controls",
      "model_module_version": "1.5.0",
      "model_name": "DescriptionStyleModel",
      "state": {
       "description_width": ""
      }
     },
     "53396936c76f46ada1abc5d9ed655c77": {
      "model_module": "@jupyter-widgets/controls",
      "model_module_version": "1.5.0",
      "model_name": "HTMLModel",
      "state": {
       "layout": "IPY_MODEL_42a432e5196f4479b276050d6d21f871",
       "style": "IPY_MODEL_121591b9ac2647e59bcc26924056f687",
       "value": "<pre>                    Title: Organo-chlorine pesticide residues in okra and brinjal collected from peri-urban areas of big cities of Punjab-Pakistan<br>                  Authors: Randhawa MA<br>                           Abid QUZ<br>                           Anjum FM<br>                           Chaudhary AS<br>                           Sajid MW<br>                           Khalil AA<br>          Author Keywords: contamination<br>                           insecticides<br>                           risk assessment<br>                           toxicity<br>                           vegetables<br>Author Keywords (Cleaned): contamination<br>                           insecticides<br>                           risk assessment<br>                           toxicity<br>                           vegetable<br>             Source title: Pakistan Journal of Agricultural Sciences<br>                     Year: 2016<br>                Countries: Pakistan<br>                           United Kingdom<br>             Institutions: department of biosciences<br>                           school of agriculture<br>                           national institute of food science and technology<br>                 Keywords: contamination<br>                           insecticides<br>                           risk assessment<br>                           toxicity<br>                           vegetables<br></pre>"
      }
     },
     "5365e67a4b674e04aff29ae63682f852": {
      "model_module": "@jupyter-widgets/base",
      "model_module_version": "1.2.0",
      "model_name": "LayoutModel",
      "state": {}
     },
     "53b635a6898548e9abc2d942b5e70cde": {
      "model_module": "@jupyter-widgets/controls",
      "model_module_version": "1.5.0",
      "model_name": "VBoxModel",
      "state": {
       "children": [
        "IPY_MODEL_92ba1702547d42b683361717cf4517af",
        "IPY_MODEL_8e4fa8ed8cec4865bf8a3dc2aac928ca"
       ],
       "layout": "IPY_MODEL_b331e6d11c454f388a175114524a3b3b"
      }
     },
     "542a5ddb8e224307bb8b5783415b97e8": {
      "model_module": "@jupyter-widgets/base",
      "model_module_version": "1.2.0",
      "model_name": "LayoutModel",
      "state": {}
     },
     "543652b63f974c9dbe97b9bcceb61dde": {
      "model_module": "@jupyter-widgets/controls",
      "model_module_version": "1.5.0",
      "model_name": "HTMLModel",
      "state": {
       "layout": "IPY_MODEL_3cd485ef1531467ea0c5d7f0105c9ce0",
       "style": "IPY_MODEL_2c95f6c3e2fd4c6f98d2197c7922ce98",
       "value": "<pre>                    Title: Heavy metal contents and their daily intake in vegetables under peri-urban farming system of Multan, Pakistan<br>                  Authors: Randhawa MA<br>                           Ahmad G<br>                           Anjum FM<br>                           Asghar A<br>                           Sajid MW<br>          Author Keywords: daily intake<br>                           heavy metals<br>                           mrls<br>                           okra<br>Author Keywords (Cleaned): daily intake<br>                           heavy metal<br>                           mrls<br>                           okra<br>             Source title: Pakistan Journal of Agricultural Sciences<br>                     Year: 2014<br>                Countries: Pakistan<br>             Institutions: national institute of food science and technology<br>                 Keywords: daily intake<br>                           heavy metals<br>                           mrls<br>                           okra<br></pre>"
      }
     },
     "5469227cab0d492e8e90564e03c5e18b": {
      "model_module": "@jupyter-widgets/controls",
      "model_module_version": "1.5.0",
      "model_name": "VBoxModel",
      "state": {
       "children": [
        "IPY_MODEL_5df96eb7d0ca4296b67b2470b01a1fd7",
        "IPY_MODEL_cbd6258a6e97433fb3723db55e1ad5b1"
       ],
       "layout": "IPY_MODEL_cb2b9c019e0a488d8b0d05a5433e2050"
      }
     },
     "552a737cfe174a6bb3a0d1978ebb7214": {
      "model_module": "@jupyter-widgets/controls",
      "model_module_version": "1.5.0",
      "model_name": "DropdownModel",
      "state": {
       "_options_labels": [
        "1 [2022]",
        "2 [324]",
        "3 [139]",
        "4 [81]",
        "5 [52]",
        "6 [35]",
        "7 [26]",
        "8 [18]",
        "9 [15]",
        "10 [13]",
        "11 [11]",
        "12 [10]",
        "15 [8]",
        "20 [6]",
        "30 [5]",
        "32 [4]",
        "75 [3]",
        "115 [2]",
        "139 [1]"
       ],
       "index": 7,
       "layout": "IPY_MODEL_07072a044818460abebb3749f13e9525",
       "style": "IPY_MODEL_cc97c58199b74f02a990065c41cb929a"
      }
     },
     "555a8892491d48639b663b51b48cd047": {
      "model_module": "@jupyter-widgets/controls",
      "model_module_version": "1.5.0",
      "model_name": "LabelModel",
      "state": {
       "layout": "IPY_MODEL_ba1bd126e36942ca9509d08b730e0517",
       "style": "IPY_MODEL_3b4f6b7728e343c181ed8bdc4e56ce42",
       "value": "Analysis type:"
      }
     },
     "5594877c2aff4e5cbd3251c904840b87": {
      "model_module": "@jupyter-widgets/base",
      "model_module_version": "1.2.0",
      "model_name": "LayoutModel",
      "state": {
       "align_items": "baseline",
       "width": "870px"
      }
     },
     "55fc4e216463494f8d3763a07927ab45": {
      "model_module": "@jupyter-widgets/base",
      "model_module_version": "1.2.0",
      "model_name": "LayoutModel",
      "state": {}
     },
     "57d7cdccdcdb46c7941212d82669c430": {
      "model_module": "@jupyter-widgets/controls",
      "model_module_version": "1.5.0",
      "model_name": "VBoxModel",
      "state": {
       "children": [
        "IPY_MODEL_71f5dea3a67b42be828c654c671ae7fa",
        "IPY_MODEL_f18cb5e78c54437fac960d48bbd33d54"
       ],
       "layout": "IPY_MODEL_718ed3ec2f71432aabd36e769101bbf8"
      }
     },
     "58d2ddef651e4051a28d1094e73c0466": {
      "model_module": "@jupyter-widgets/base",
      "model_module_version": "1.2.0",
      "model_name": "LayoutModel",
      "state": {
       "grid_area": "header"
      }
     },
     "58e27ca93b43476b8630010155aaa609": {
      "model_module": "@jupyter-widgets/base",
      "model_module_version": "1.2.0",
      "model_name": "LayoutModel",
      "state": {
       "grid_area": "center"
      }
     },
     "58ecb246f6b541998edfeea5a4ff304d": {
      "model_module": "@jupyter-widgets/controls",
      "model_module_version": "1.5.0",
      "model_name": "LabelModel",
      "state": {
       "layout": "IPY_MODEL_55fc4e216463494f8d3763a07927ab45",
       "style": "IPY_MODEL_7b9563858e4a4fa9b76bddc9b98e8b15",
       "value": "View:"
      }
     },
     "5920b11e59064d2e8a7a79391b43b8c3": {
      "model_module": "@jupyter-widgets/base",
      "model_module_version": "1.2.0",
      "model_name": "LayoutModel",
      "state": {
       "grid_area": "widget007"
      }
     },
     "5a5db8fe35694f35af1e5d155e4b836e": {
      "model_module": "@jupyter-widgets/base",
      "model_module_version": "1.2.0",
      "model_name": "LayoutModel",
      "state": {
       "width": "200px"
      }
     },
     "5a776f345afd497cbe16baa4e0d4e7ca": {
      "model_module": "@jupyter-widgets/base",
      "model_module_version": "1.2.0",
      "model_name": "LayoutModel",
      "state": {
       "width": "200px"
      }
     },
     "5a8f6fd11c16444fa4335e1133cfbf87": {
      "model_module": "@jupyter-widgets/controls",
      "model_module_version": "1.5.0",
      "model_name": "VBoxModel",
      "state": {
       "children": [
        "IPY_MODEL_9b94512670614f3a90716b35ce6f82e6",
        "IPY_MODEL_ad619404070d496aa6d25b2495c17953"
       ],
       "layout": "IPY_MODEL_93762818cd144acea3ad871aad334145"
      }
     },
     "5aaa6b00e0d8498a85f97965f652e9fb": {
      "model_module": "@jupyter-widgets/controls",
      "model_module_version": "1.5.0",
      "model_name": "DescriptionStyleModel",
      "state": {
       "description_width": ""
      }
     },
     "5b7a206ea4214bd998a02c77067a0bcc": {
      "model_module": "@jupyter-widgets/base",
      "model_module_version": "1.2.0",
      "model_name": "LayoutModel",
      "state": {}
     },
     "5bd48e9c677f4468ba89eafa47bf1fa7": {
      "model_module": "@jupyter-widgets/controls",
      "model_module_version": "1.5.0",
      "model_name": "DescriptionStyleModel",
      "state": {
       "description_width": ""
      }
     },
     "5bf48170c1a140fc8314fd5e2798bb2b": {
      "model_module": "@jupyter-widgets/base",
      "model_module_version": "1.2.0",
      "model_name": "LayoutModel",
      "state": {}
     },
     "5c2a437df3ec48fe8c606b10bccb4548": {
      "model_module": "@jupyter-widgets/base",
      "model_module_version": "1.2.0",
      "model_name": "LayoutModel",
      "state": {}
     },
     "5c9f3bdc55404951ac3b26ba0042def0": {
      "model_module": "@jupyter-widgets/base",
      "model_module_version": "1.2.0",
      "model_name": "LayoutModel",
      "state": {
       "grid_area": "left-sidebar",
       "width": "200px"
      }
     },
     "5ce03cedcfb74be9b6055b19536f03e7": {
      "model_module": "@jupyter-widgets/controls",
      "model_module_version": "1.5.0",
      "model_name": "DescriptionStyleModel",
      "state": {
       "description_width": ""
      }
     },
     "5df96eb7d0ca4296b67b2470b01a1fd7": {
      "model_module": "@jupyter-widgets/controls",
      "model_module_version": "1.5.0",
      "model_name": "LabelModel",
      "state": {
       "layout": "IPY_MODEL_24eb6a5d15aa451abe812523a81d8a9d",
       "style": "IPY_MODEL_1c992634296549488722e05a45074947",
       "value": "Term to analyze:"
      }
     },
     "5e9868243f8746e3a0e8d78284c04b24": {
      "model_module": "@jupyter-widgets/base",
      "model_module_version": "1.2.0",
      "model_name": "LayoutModel",
      "state": {
       "align_items": "baseline",
       "width": "870px"
      }
     },
     "5eb89aa3707b4eb0bba67b219a95ceda": {
      "model_module": "@jupyter-widgets/controls",
      "model_module_version": "1.5.0",
      "model_name": "DescriptionStyleModel",
      "state": {
       "description_width": ""
      }
     },
     "5ee2d7e1f89c48838318cd32a898e291": {
      "model_module": "@jupyter-widgets/controls",
      "model_module_version": "1.5.0",
      "model_name": "LabelModel",
      "state": {
       "layout": "IPY_MODEL_f006da86a80b4e3bab5bdad8ffc4c7f6",
       "style": "IPY_MODEL_72a4158dd46642fcacd546792a9c58c9",
       "value": "Top N:"
      }
     },
     "5f6bcf6b2a0647aabd8dd8f3a4471481": {
      "model_module": "@jupyter-widgets/controls",
      "model_module_version": "1.5.0",
      "model_name": "VBoxModel",
      "state": {
       "children": [
        "IPY_MODEL_f25fb74e2663450d9ad65827f613727d",
        "IPY_MODEL_9817b4c4ecd2408da99fb41f3f35c00c"
       ],
       "layout": "IPY_MODEL_48271d956a634f759ce9675931b67a24"
      }
     },
     "6086d680be1a472cb6d2f4550ea7522f": {
      "model_module": "@jupyter-widgets/base",
      "model_module_version": "1.2.0",
      "model_name": "LayoutModel",
      "state": {
       "grid_template_areas": "\"header header header\"\n\"center center center\"",
       "grid_template_columns": "1fr 2fr 1fr",
       "grid_template_rows": "80px 750px"
      }
     },
     "6369cd9909c44e5da180e3b12f2bea8a": {
      "model_module": "@jupyter-widgets/base",
      "model_module_version": "1.2.0",
      "model_name": "LayoutModel",
      "state": {
       "align_items": "baseline",
       "width": "870px"
      }
     },
     "636aad1897bb487cb6c30aced4c6e4e4": {
      "model_module": "@jupyter-widgets/controls",
      "model_module_version": "1.5.0",
      "model_name": "DropdownModel",
      "state": {
       "_options_labels": [
        "1",
        "2",
        "3",
        "4",
        "5",
        "6",
        "7",
        "8",
        "10",
        "15",
        "16",
        "22",
        "23",
        "57",
        "86",
        "89"
       ],
       "index": 0,
       "layout": "IPY_MODEL_a8aeba606eac41009c4ead954a55f194",
       "style": "IPY_MODEL_24c1784fb76b4bfb898637a3a45f6f0c"
      }
     },
     "6494430b32e94e179c356f79a150ff2a": {
      "model_module": "@jupyter-widgets/controls",
      "model_module_version": "1.5.0",
      "model_name": "LabelModel",
      "state": {
       "layout": "IPY_MODEL_bb750e4be9bd4a7ab8dd9910b5462620",
       "style": "IPY_MODEL_48624eece66644fcbc76c821497615c8",
       "value": "Plot type:"
      }
     },
     "64cf4060ca8b43ebb4cab17ffff457f2": {
      "model_module": "@jupyter-widgets/controls",
      "model_module_version": "1.5.0",
      "model_name": "LabelModel",
      "state": {
       "layout": "IPY_MODEL_824c0f47ea45422b95ace2b59798eac8",
       "style": "IPY_MODEL_d22b609d10c34f7baca68b7480c00aff",
       "value": "Title:"
      }
     },
     "65ac61c4484844e4af8bf8b9bd8f61e9": {
      "model_module": "@jupyter-widgets/controls",
      "model_module_version": "1.5.0",
      "model_name": "VBoxModel",
      "state": {
       "children": [
        "IPY_MODEL_0326a65c167d4dfa82ab994dd89343f6",
        "IPY_MODEL_356210f6b6da436788416725bc6cbfe0",
        "IPY_MODEL_22906054d9594e6894050c30e68bed80",
        "IPY_MODEL_322caa674d5a42f09bc78ac3c83b6fd1",
        "IPY_MODEL_0f1d861772d749498d32f7e84eaa9f11"
       ],
       "layout": "IPY_MODEL_70fad615af3e4a37a101f98ed1d6aa0b"
      }
     },
     "6665080983294499b8b6ff481b67fc67": {
      "model_module": "@jupyter-widgets/controls",
      "model_module_version": "1.5.0",
      "model_name": "DescriptionStyleModel",
      "state": {
       "description_width": ""
      }
     },
     "66b6288a329d47c18391aafa218551e5": {
      "model_module": "@jupyter-widgets/base",
      "model_module_version": "1.2.0",
      "model_name": "LayoutModel",
      "state": {}
     },
     "66b958de5b0a4102a3dddfdbf61340d4": {
      "model_module": "@jupyter-widgets/controls",
      "model_module_version": "1.5.0",
      "model_name": "VBoxModel",
      "state": {
       "children": [
        "IPY_MODEL_555a8892491d48639b663b51b48cd047",
        "IPY_MODEL_9a22450770a041679873e600788818dd"
       ],
       "layout": "IPY_MODEL_e6970ded102344d297383d3981e5a709"
      }
     },
     "673c09464edd458dbdd0f8cd6d1f5e77": {
      "model_module": "@jupyter-widgets/controls",
      "model_module_version": "1.5.0",
      "model_name": "VBoxModel",
      "state": {
       "children": [
        "IPY_MODEL_0e7a838ae1cd4d27971af850b66bc9cc",
        "IPY_MODEL_c1a45cb1d10a4c41b2d494e82011275a"
       ],
       "layout": "IPY_MODEL_c110c4839b204efb85001ebe4903c251"
      }
     },
     "6760371916224aa28d3f2897986f0c4c": {
      "model_module": "@jupyter-widgets/base",
      "model_module_version": "1.2.0",
      "model_name": "LayoutModel",
      "state": {
       "width": "200px"
      }
     },
     "6854b50ce6224d90aa84b45aa7574ffb": {
      "model_module": "@jupyter-widgets/base",
      "model_module_version": "1.2.0",
      "model_name": "LayoutModel",
      "state": {
       "width": "500px"
      }
     },
     "69f609cc7ef94843adaa50bdf0ac877b": {
      "model_module": "@jupyter-widgets/controls",
      "model_module_version": "1.5.0",
      "model_name": "DescriptionStyleModel",
      "state": {
       "description_width": ""
      }
     },
     "69f6b05ff48e468abf70a19c6247dec9": {
      "model_module": "@jupyter-widgets/base",
      "model_module_version": "1.2.0",
      "model_name": "LayoutModel",
      "state": {}
     },
     "6b78ac30ad7f40db8c065e3b68368c5c": {
      "model_module": "@jupyter-widgets/controls",
      "model_module_version": "1.5.0",
      "model_name": "LabelModel",
      "state": {
       "layout": "IPY_MODEL_30e414a965734816a2a0587798e5a7b6",
       "style": "IPY_MODEL_46f16edf287d48d2adc185c47a58806e",
       "value": "Term in Column:"
      }
     },
     "6bacc19063ec4718b4e5176556f73e22": {
      "model_module": "@jupyter-widgets/base",
      "model_module_version": "1.2.0",
      "model_name": "LayoutModel",
      "state": {
       "border": "1px solid gray",
       "height": "588px"
      }
     },
     "6bc73b448f714fa585ed1e48c8b25535": {
      "model_module": "@jupyter-widgets/base",
      "model_module_version": "1.2.0",
      "model_name": "LayoutModel",
      "state": {}
     },
     "6bf56a87d2d74b91b0ea20fefe9da35d": {
      "model_module": "@jupyter-widgets/base",
      "model_module_version": "1.2.0",
      "model_name": "LayoutModel",
      "state": {
       "grid_area": "widget005"
      }
     },
     "6c576508bb2247bbbbac1b2446e050ce": {
      "model_module": "@jupyter-widgets/controls",
      "model_module_version": "1.5.0",
      "model_name": "DescriptionStyleModel",
      "state": {
       "description_width": ""
      }
     },
     "6c622fd68df940fdba177456b08c596b": {
      "model_module": "@jupyter-widgets/controls",
      "model_module_version": "1.5.0",
      "model_name": "DescriptionStyleModel",
      "state": {
       "description_width": ""
      }
     },
     "6cb6e6580b124cdfb740754e6980839b": {
      "model_module": "@jupyter-widgets/controls",
      "model_module_version": "1.5.0",
      "model_name": "DescriptionStyleModel",
      "state": {
       "description_width": ""
      }
     },
     "6d88c25f2e144a3c88f0d17c22232434": {
      "model_module": "@jupyter-widgets/base",
      "model_module_version": "1.2.0",
      "model_name": "LayoutModel",
      "state": {}
     },
     "6efc925c02514b91886a246ac2157bb1": {
      "model_module": "@jupyter-widgets/controls",
      "model_module_version": "1.5.0",
      "model_name": "DescriptionStyleModel",
      "state": {
       "description_width": ""
      }
     },
     "6f39793256524de18bfd9fb9558775e4": {
      "model_module": "@jupyter-widgets/controls",
      "model_module_version": "1.5.0",
      "model_name": "DropdownModel",
      "state": {
       "_options_labels": [
        "-1.00",
        "-0.25",
        "0.00",
        "0.125",
        "0.250",
        "0.375",
        "0.500",
        "0.625",
        "0.750",
        "0.875"
       ],
       "index": 0,
       "layout": "IPY_MODEL_4f6e7be5478445c3845936b9e9439c8b",
       "style": "IPY_MODEL_123b3c060419432c9c13cfe8f88235ff"
      }
     },
     "6f54b7f74bb546b7ba8a7d27bec404a1": {
      "model_module": "@jupyter-widgets/base",
      "model_module_version": "1.2.0",
      "model_name": "LayoutModel",
      "state": {
       "width": "200px"
      }
     },
     "70283aeea9bd4a3686cd1a733a498d46": {
      "model_module": "@jupyter-widgets/controls",
      "model_module_version": "1.5.0",
      "model_name": "VBoxModel",
      "state": {
       "children": [
        "IPY_MODEL_aa9fc1ab37d14a74b5942ba6b3346f8b",
        "IPY_MODEL_6f39793256524de18bfd9fb9558775e4"
       ],
       "layout": "IPY_MODEL_1daeada6834e4018ae943b936914112b"
      }
     },
     "70fad615af3e4a37a101f98ed1d6aa0b": {
      "model_module": "@jupyter-widgets/base",
      "model_module_version": "1.2.0",
      "model_name": "LayoutModel",
      "state": {
       "border": "1px solid gray",
       "height": "588px"
      }
     },
     "7135df266a1040cba754ae1389b8cd4c": {
      "model_module": "@jupyter-widgets/controls",
      "model_module_version": "1.5.0",
      "model_name": "VBoxModel",
      "state": {
       "children": [
        "IPY_MODEL_8c92de0f925a48c79bed9ec572478047",
        "IPY_MODEL_a7643b5a6b2442c59a0f27c54ed9b53e"
       ],
       "layout": "IPY_MODEL_e80ad118addd4c38a97e5bbbf0970791"
      }
     },
     "718ed3ec2f71432aabd36e769101bbf8": {
      "model_module": "@jupyter-widgets/base",
      "model_module_version": "1.2.0",
      "model_name": "LayoutModel",
      "state": {}
     },
     "71f5dea3a67b42be828c654c671ae7fa": {
      "model_module": "@jupyter-widgets/controls",
      "model_module_version": "1.5.0",
      "model_name": "LabelModel",
      "state": {
       "layout": "IPY_MODEL_542a5ddb8e224307bb8b5783415b97e8",
       "style": "IPY_MODEL_a2b0ddda0bfc4632ae02fdc2a12cfb7f",
       "value": "Colormap:"
      }
     },
     "72a4158dd46642fcacd546792a9c58c9": {
      "model_module": "@jupyter-widgets/controls",
      "model_module_version": "1.5.0",
      "model_name": "DescriptionStyleModel",
      "state": {
       "description_width": ""
      }
     },
     "730ddfd728474430a980c0af7a009b6e": {
      "model_module": "@jupyter-widgets/controls",
      "model_module_version": "1.5.0",
      "model_name": "LabelModel",
      "state": {
       "layout": "IPY_MODEL_dcd0b2323d264003a12207336e804697",
       "style": "IPY_MODEL_76c4316f28af46e9ae05a5b7c6b81b65",
       "value": "Analysis type:"
      }
     },
     "7332adb934744ea79912e16037457bf9": {
      "model_module": "@jupyter-widgets/base",
      "model_module_version": "1.2.0",
      "model_name": "LayoutModel",
      "state": {}
     },
     "73d2e1ba477d42ef936dfd212562e941": {
      "model_module": "@jupyter-widgets/base",
      "model_module_version": "1.2.0",
      "model_name": "LayoutModel",
      "state": {}
     },
     "75d671a75027439582cf2d958d7132ab": {
      "model_module": "@jupyter-widgets/controls",
      "model_module_version": "1.5.0",
      "model_name": "DescriptionStyleModel",
      "state": {
       "description_width": ""
      }
     },
     "76c4316f28af46e9ae05a5b7c6b81b65": {
      "model_module": "@jupyter-widgets/controls",
      "model_module_version": "1.5.0",
      "model_name": "DescriptionStyleModel",
      "state": {
       "description_width": ""
      }
     },
     "77153c1be14340549e19299f0240e252": {
      "model_module": "@jupyter-widgets/base",
      "model_module_version": "1.2.0",
      "model_name": "LayoutModel",
      "state": {
       "width": "200px"
      }
     },
     "777a7ee1f592494594297ae5655c6b80": {
      "model_module": "@jupyter-widgets/controls",
      "model_module_version": "1.5.0",
      "model_name": "HTMLModel",
      "state": {
       "layout": "IPY_MODEL_d7a9cbd61bc044b7ae3f11c9368a35a7",
       "style": "IPY_MODEL_a6b7e09fec96411dbd352c83b6ce647e",
       "value": "<h3>Matrix exceeds the maximum shape</h3>"
      }
     },
     "77c9f5b2f3844cacbb0f826f665345a3": {
      "model_module": "@jupyter-widgets/controls",
      "model_module_version": "1.5.0",
      "model_name": "VBoxModel",
      "state": {
       "children": [
        "IPY_MODEL_9d81036075cd40aeae96c455e0392ed7",
        "IPY_MODEL_bc45ebb33ecf4998906f5a9589990372"
       ],
       "layout": "IPY_MODEL_0810a68f0ee445f3952b1e36711d0e13"
      }
     },
     "77da956213584a7b8cb9d541d3259300": {
      "model_module": "@jupyter-widgets/base",
      "model_module_version": "1.2.0",
      "model_name": "LayoutModel",
      "state": {}
     },
     "787d4a3f05b94411a04c21384ba7cbac": {
      "model_module": "@jupyter-widgets/controls",
      "model_module_version": "1.5.0",
      "model_name": "DescriptionStyleModel",
      "state": {
       "description_width": ""
      }
     },
     "7a2dcaa32e5541a98546006538f3f259": {
      "model_module": "@jupyter-widgets/controls",
      "model_module_version": "1.5.0",
      "model_name": "DescriptionStyleModel",
      "state": {
       "description_width": ""
      }
     },
     "7b9563858e4a4fa9b76bddc9b98e8b15": {
      "model_module": "@jupyter-widgets/controls",
      "model_module_version": "1.5.0",
      "model_name": "DescriptionStyleModel",
      "state": {
       "description_width": ""
      }
     },
     "7d37dd79eaea46159035f680e95ef754": {
      "model_module": "@jupyter-widgets/base",
      "model_module_version": "1.2.0",
      "model_name": "LayoutModel",
      "state": {}
     },
     "7e533641a04f439297d2b175bb9545e9": {
      "model_module": "@jupyter-widgets/controls",
      "model_module_version": "1.5.0",
      "model_name": "DropdownModel",
      "state": {
       "_options_labels": [
        "Greys",
        "Purples",
        "Blues",
        "Greens",
        "Oranges",
        "Reds",
        "YlOrBr",
        "YlOrRd",
        "OrRd",
        "PuRd",
        "RdPu",
        "BuPu",
        "GnBu",
        "PuBu",
        "YlGnBu",
        "PuBuGn",
        "BuGn",
        "YlGn",
        "Pastel1",
        "Pastel2",
        "Paired",
        "Accent",
        "Dark2",
        "Set1",
        "Set2",
        "Set3",
        "tab10",
        "tab20",
        "tab20b",
        "tab20c"
       ],
       "index": 0,
       "layout": "IPY_MODEL_fde5ce1c4dc445909dfa59538c3b809f",
       "style": "IPY_MODEL_8eb90953d4dc4cc2854b6251e78a7a3c"
      }
     },
     "7e9ccff35e9f476b9f1c57295fb02960": {
      "model_module": "@jupyter-widgets/controls",
      "model_module_version": "1.5.0",
      "model_name": "LabelModel",
      "state": {
       "layout": "IPY_MODEL_15aad3cfeef74805817c1ac08bb95e5c",
       "style": "IPY_MODEL_12c7119e8ffa4e53900f519a3ea05f79",
       "value": "By column:"
      }
     },
     "7ecb52955813464aa791c98017e64e2a": {
      "model_module": "@jupyter-widgets/controls",
      "model_module_version": "1.5.0",
      "model_name": "SliderStyleModel",
      "state": {
       "description_width": ""
      }
     },
     "7f5c3fe73e754ce79839360d617bc788": {
      "model_module": "@jupyter-widgets/controls",
      "model_module_version": "1.5.0",
      "model_name": "LabelModel",
      "state": {
       "layout": "IPY_MODEL_9de8ad0ffcdf4c9bbb644cb593c30ea1",
       "style": "IPY_MODEL_75d671a75027439582cf2d958d7132ab",
       "value": "Matrix colormap:"
      }
     },
     "7f72f0052459452eb7d74b8c01cf9d9c": {
      "model_module": "@jupyter-widgets/base",
      "model_module_version": "1.2.0",
      "model_name": "LayoutModel",
      "state": {}
     },
     "809c513987a847c2a0897f75d1bd5ece": {
      "model_module": "@jupyter-widgets/base",
      "model_module_version": "1.2.0",
      "model_name": "LayoutModel",
      "state": {
       "width": "200px"
      }
     },
     "80f5aa7a93bf41ba9d4b5a382a4766f6": {
      "model_module": "@jupyter-widgets/base",
      "model_module_version": "1.2.0",
      "model_name": "LayoutModel",
      "state": {}
     },
     "81a39e2ddee74356b68b50e69cebe654": {
      "model_module": "@jupyter-widgets/base",
      "model_module_version": "1.2.0",
      "model_name": "LayoutModel",
      "state": {}
     },
     "81a40cbd74284b0d9052129fc4ea97e2": {
      "model_module": "@jupyter-widgets/controls",
      "model_module_version": "1.5.0",
      "model_name": "DescriptionStyleModel",
      "state": {
       "description_width": ""
      }
     },
     "8225e689348f42f8aa1bef6ec919d77a": {
      "model_module": "@jupyter-widgets/base",
      "model_module_version": "1.2.0",
      "model_name": "LayoutModel",
      "state": {
       "grid_template_areas": "\"header header header\"\n\"center center center\"",
       "grid_template_columns": "1fr 2fr 1fr",
       "grid_template_rows": "80px 650px"
      }
     },
     "824c0f47ea45422b95ace2b59798eac8": {
      "model_module": "@jupyter-widgets/base",
      "model_module_version": "1.2.0",
      "model_name": "LayoutModel",
      "state": {}
     },
     "82bb38e285c046818c25c4f7b47696cd": {
      "model_module": "@jupyter-widgets/controls",
      "model_module_version": "1.5.0",
      "model_name": "LabelModel",
      "state": {
       "layout": "IPY_MODEL_c3f00da2da8644d98a13549b02f35720",
       "style": "IPY_MODEL_835f85496155412a99607749a2f38cc4",
       "value": "Term to analyze:"
      }
     },
     "835f85496155412a99607749a2f38cc4": {
      "model_module": "@jupyter-widgets/controls",
      "model_module_version": "1.5.0",
      "model_name": "DescriptionStyleModel",
      "state": {
       "description_width": ""
      }
     },
     "839b528c520648c9b479643789447f6b": {
      "model_module": "@jupyter-widgets/controls",
      "model_module_version": "1.5.0",
      "model_name": "VBoxModel",
      "state": {
       "children": [
        "IPY_MODEL_4e66e433bae54e3b80d76a50f6ab07b1"
       ],
       "layout": "IPY_MODEL_881ca64eb14c486e8b6b1628bae8313a"
      }
     },
     "83e2c998c7a1477d9933c4291142234b": {
      "model_module": "@jupyter-widgets/base",
      "model_module_version": "1.2.0",
      "model_name": "LayoutModel",
      "state": {}
     },
     "84ed5c00096043aaa1e965c7467c1c54": {
      "model_module": "@jupyter-widgets/base",
      "model_module_version": "1.2.0",
      "model_name": "LayoutModel",
      "state": {}
     },
     "8514d1abca904e008b5468f396654e4f": {
      "model_module": "@jupyter-widgets/base",
      "model_module_version": "1.2.0",
      "model_name": "LayoutModel",
      "state": {
       "width": "200px"
      }
     },
     "854758b73fe64bd8ab5ae04922aa6b83": {
      "model_module": "@jupyter-widgets/output",
      "model_module_version": "1.0.0",
      "model_name": "OutputModel",
      "state": {
       "layout": "IPY_MODEL_4c28c15f3b2d4d23b7e5ada9590b120c",
       "outputs": [
        {
         "data": {
          "application/vnd.jupyter.widget-view+json": {
           "model_id": "53396936c76f46ada1abc5d9ed655c77",
           "version_major": 2,
           "version_minor": 0
          },
          "text/plain": "HTML(value='<pre>                    Title: Organo-chlorine pesticide residues in okra and brinjal collected f…"
         },
         "metadata": {},
         "output_type": "display_data"
        }
       ]
      }
     },
     "85f25bdb1f41406385c1894a3489f1c9": {
      "model_module": "@jupyter-widgets/base",
      "model_module_version": "1.2.0",
      "model_name": "LayoutModel",
      "state": {
       "width": "200px"
      }
     },
     "874b6ffc622449518b20ca2af6b60814": {
      "model_module": "@jupyter-widgets/controls",
      "model_module_version": "1.5.0",
      "model_name": "GridBoxModel",
      "state": {
       "children": [
        "IPY_MODEL_98bfdf11f0aa4c6fa90e0ccc9cab4e20",
        "IPY_MODEL_c06cba4fc09147f3b8a312cc9b4133f7"
       ],
       "layout": "IPY_MODEL_38be8e203ef64c74a19dacae88de6aec"
      }
     },
     "881ca64eb14c486e8b6b1628bae8313a": {
      "model_module": "@jupyter-widgets/base",
      "model_module_version": "1.2.0",
      "model_name": "LayoutModel",
      "state": {
       "align_items": "baseline",
       "width": "870px"
      }
     },
     "89523ba865f246afaf3942bf11d1e181": {
      "model_module": "@jupyter-widgets/base",
      "model_module_version": "1.2.0",
      "model_name": "LayoutModel",
      "state": {
       "border": "1px solid gray",
       "height": "588px"
      }
     },
     "8954aadf371b4d40a6f81a86e857afa2": {
      "model_module": "@jupyter-widgets/output",
      "model_module_version": "1.0.0",
      "model_name": "OutputModel",
      "state": {
       "layout": "IPY_MODEL_2c38ccf174f64484b6a228b479674fc2",
       "outputs": [
        {
         "data": {
          "image/png": "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\n",
          "text/plain": "<Figure size 1008x590.4 with 1 Axes>"
         },
         "metadata": {},
         "output_type": "display_data"
        }
       ]
      }
     },
     "89564e939a0a48e884db858d0c1fe664": {
      "model_module": "@jupyter-widgets/base",
      "model_module_version": "1.2.0",
      "model_name": "LayoutModel",
      "state": {}
     },
     "8976e15da0b04a70bf1c72d363cb2438": {
      "model_module": "@jupyter-widgets/controls",
      "model_module_version": "1.5.0",
      "model_name": "DescriptionStyleModel",
      "state": {
       "description_width": ""
      }
     },
     "897f356d48f4447a9257596bbc7eac89": {
      "model_module": "@jupyter-widgets/controls",
      "model_module_version": "1.5.0",
      "model_name": "HBoxModel",
      "state": {
       "children": [
        "IPY_MODEL_e8f5e3a02ea24e18a6c382914048a04e",
        "IPY_MODEL_e87eb7fc8c5c48e29e6a4401f6cab0f6"
       ],
       "layout": "IPY_MODEL_1104fea594aa4e4487c3ff7dc12698c1"
      }
     },
     "89ab3f275a224f89ab8808d5633a91e1": {
      "model_module": "@jupyter-widgets/controls",
      "model_module_version": "1.5.0",
      "model_name": "LabelModel",
      "state": {
       "layout": "IPY_MODEL_ebc1892f962945c6a729bfe54fb74b28",
       "style": "IPY_MODEL_06a3dc01f86d4c45a7ccc077cdf056cd",
       "value": "Filter value:"
      }
     },
     "8a7619d882864159b840e3de0924b822": {
      "model_module": "@jupyter-widgets/base",
      "model_module_version": "1.2.0",
      "model_name": "LayoutModel",
      "state": {
       "grid_template_areas": "\"header header header\"\n\"center center center\"",
       "grid_template_columns": "1fr 2fr 1fr",
       "grid_template_rows": "80px 650px"
      }
     },
     "8abfb40d4c7443d4baf2325389bc299d": {
      "model_module": "@jupyter-widgets/controls",
      "model_module_version": "1.5.0",
      "model_name": "VBoxModel",
      "state": {
       "children": [
        "IPY_MODEL_049f55e8d6ad4e58aea781cd7307ef3d"
       ],
       "layout": "IPY_MODEL_6369cd9909c44e5da180e3b12f2bea8a"
      }
     },
     "8ae53ab30e3e48878686fcbd8be3814a": {
      "model_module": "@jupyter-widgets/controls",
      "model_module_version": "1.5.0",
      "model_name": "DescriptionStyleModel",
      "state": {
       "description_width": ""
      }
     },
     "8b79e9f142c444df9960ee149dc0d716": {
      "model_module": "@jupyter-widgets/controls",
      "model_module_version": "1.5.0",
      "model_name": "SliderStyleModel",
      "state": {
       "description_width": ""
      }
     },
     "8c92de0f925a48c79bed9ec572478047": {
      "model_module": "@jupyter-widgets/controls",
      "model_module_version": "1.5.0",
      "model_name": "LabelModel",
      "state": {
       "layout": "IPY_MODEL_84ed5c00096043aaa1e965c7467c1c54",
       "style": "IPY_MODEL_f7084b519ced46e287017caabe54a5eb",
       "value": "Plot type:"
      }
     },
     "8cef2a501e404b75ad5a00c26273c07b": {
      "model_module": "@jupyter-widgets/controls",
      "model_module_version": "1.5.0",
      "model_name": "HTMLModel",
      "state": {
       "layout": "IPY_MODEL_1be8c6eecb424199b3ef785ffd5bce2b",
       "style": "IPY_MODEL_c3ad2615a9eb4ef4ae1b9e02381703f4",
       "value": "<h3>Matrix exceeds the maximum shape</h3>"
      }
     },
     "8d0d611624034c679196fcf6622b02b5": {
      "model_module": "@jupyter-widgets/base",
      "model_module_version": "1.2.0",
      "model_name": "LayoutModel",
      "state": {
       "width": "200px"
      }
     },
     "8d3c571da372479987959e0e247efade": {
      "model_module": "@jupyter-widgets/controls",
      "model_module_version": "1.5.0",
      "model_name": "DescriptionStyleModel",
      "state": {
       "description_width": ""
      }
     },
     "8d7f10cc967c41b9ad4140ac0cc6324c": {
      "model_module": "@jupyter-widgets/controls",
      "model_module_version": "1.5.0",
      "model_name": "VBoxModel",
      "state": {
       "children": [
        "IPY_MODEL_6b78ac30ad7f40db8c065e3b68368c5c",
        "IPY_MODEL_bb12787c9e8f4ae08d64d7824e2dfa16"
       ],
       "layout": "IPY_MODEL_06376c19c149416ca199f877b3f3a9f1"
      }
     },
     "8e2b28e3caa2414fa4e06ec784e734e4": {
      "model_module": "@jupyter-widgets/base",
      "model_module_version": "1.2.0",
      "model_name": "LayoutModel",
      "state": {
       "width": "200px"
      }
     },
     "8e4648afa9a44fc68d30e74c1b08ce51": {
      "model_module": "@jupyter-widgets/base",
      "model_module_version": "1.2.0",
      "model_name": "LayoutModel",
      "state": {
       "width": "200px"
      }
     },
     "8e4fa8ed8cec4865bf8a3dc2aac928ca": {
      "model_module": "@jupyter-widgets/controls",
      "model_module_version": "1.5.0",
      "model_name": "DropdownModel",
      "state": {
       "_options_labels": [
        "Author Keywords",
        "Authors",
        "Countries",
        "Country 1st",
        "Index Keywords",
        "Institution 1st",
        "Institutions",
        "Keywords",
        "Source title"
       ],
       "index": 0,
       "layout": "IPY_MODEL_9f7788bb34ae45f78b941779b26b5759",
       "style": "IPY_MODEL_52bd36810dae4b63adde353f799f7747"
      }
     },
     "8eb90953d4dc4cc2854b6251e78a7a3c": {
      "model_module": "@jupyter-widgets/controls",
      "model_module_version": "1.5.0",
      "model_name": "DescriptionStyleModel",
      "state": {
       "description_width": ""
      }
     },
     "91496ae20f6f4176a37feb0f888b22f2": {
      "model_module": "@jupyter-widgets/controls",
      "model_module_version": "1.5.0",
      "model_name": "VBoxModel",
      "state": {
       "children": [
        "IPY_MODEL_5469227cab0d492e8e90564e03c5e18b",
        "IPY_MODEL_d7fdc5aed2794a739c8aa664186f8ffb",
        "IPY_MODEL_b1d9d7fcb8dd48d0a50ba78f0c7e802b",
        "IPY_MODEL_d0a5a4498fde488bbe964479fba9d311",
        "IPY_MODEL_493972a6331d4738bfe00a8656d6512b"
       ],
       "layout": "IPY_MODEL_89523ba865f246afaf3942bf11d1e181"
      }
     },
     "9235060595a2440f9a28d4093f895ccd": {
      "model_module": "@jupyter-widgets/base",
      "model_module_version": "1.2.0",
      "model_name": "LayoutModel",
      "state": {}
     },
     "92571a4921734327aa64105d5fa80767": {
      "model_module": "@jupyter-widgets/base",
      "model_module_version": "1.2.0",
      "model_name": "LayoutModel",
      "state": {}
     },
     "92820ead8d5c4a4a9a6fde6e02a405b5": {
      "model_module": "@jupyter-widgets/controls",
      "model_module_version": "1.5.0",
      "model_name": "LabelModel",
      "state": {
       "layout": "IPY_MODEL_472cc08a0b764a6aba03f082388d59a5",
       "style": "IPY_MODEL_69f609cc7ef94843adaa50bdf0ac877b",
       "value": "Colormap:"
      }
     },
     "92ba1702547d42b683361717cf4517af": {
      "model_module": "@jupyter-widgets/controls",
      "model_module_version": "1.5.0",
      "model_name": "LabelModel",
      "state": {
       "layout": "IPY_MODEL_233f4a0a0a44497399c314686a97668f",
       "style": "IPY_MODEL_6665080983294499b8b6ff481b67fc67",
       "value": "By Term:"
      }
     },
     "930a99a39a414d50bc1e452c13f96751": {
      "model_module": "@jupyter-widgets/controls",
      "model_module_version": "1.5.0",
      "model_name": "VBoxModel",
      "state": {
       "children": [
        "IPY_MODEL_730ddfd728474430a980c0af7a009b6e",
        "IPY_MODEL_ae54a968ab2e445087824a968dd055d5"
       ],
       "layout": "IPY_MODEL_484a0ae5ab0f4c5ebf08e65e9963fcb4"
      }
     },
     "93762818cd144acea3ad871aad334145": {
      "model_module": "@jupyter-widgets/base",
      "model_module_version": "1.2.0",
      "model_name": "LayoutModel",
      "state": {}
     },
     "93825fa35bb2468a83266fbcc621cd0f": {
      "model_module": "@jupyter-widgets/base",
      "model_module_version": "1.2.0",
      "model_name": "LayoutModel",
      "state": {}
     },
     "94971419d6534a9fa24a52020d518ce5": {
      "model_module": "@jupyter-widgets/controls",
      "model_module_version": "1.5.0",
      "model_name": "DescriptionStyleModel",
      "state": {
       "description_width": ""
      }
     },
     "950b5ceaf9884a22b5b5035fbc2a8122": {
      "model_module": "@jupyter-widgets/base",
      "model_module_version": "1.2.0",
      "model_name": "LayoutModel",
      "state": {
       "grid_template_areas": "\"widget001 widget001 widget001 widget001 widget001\"\n\"widget002 widget004 widget006 widget006 widget006\"\n\"widget003 widget005 widget006 widget006 widget006\"\n\"widget007 widget007 widget007 widget007 widget007\"\n\"widget007 widget007 widget007 widget007 widget007\"\n\"widget007 widget007 widget007 widget007 widget007\"\n\"widget007 widget007 widget007 widget007 widget007\"\n\"widget007 widget007 widget007 widget007 widget007\"\n\"widget007 widget007 widget007 widget007 widget007\"\n\"widget007 widget007 widget007 widget007 widget007\"",
       "grid_template_columns": "repeat(5, 1fr)",
       "grid_template_rows": "repeat(10, 1fr)",
       "height": "800px"
      }
     },
     "952c01d5d3c0426cba4e42a4d4ff8624": {
      "model_module": "@jupyter-widgets/base",
      "model_module_version": "1.2.0",
      "model_name": "LayoutModel",
      "state": {
       "width": "200px"
      }
     },
     "952c040ab8554e17ad0c10515bd787ea": {
      "model_module": "@jupyter-widgets/controls",
      "model_module_version": "1.5.0",
      "model_name": "IntSliderModel",
      "state": {
       "continuous_update": false,
       "layout": "IPY_MODEL_85f25bdb1f41406385c1894a3489f1c9",
       "max": 50,
       "min": 10,
       "style": "IPY_MODEL_8b79e9f142c444df9960ee149dc0d716",
       "value": 10
      }
     },
     "96b4e5a23dec4759ba9d374969b1c248": {
      "model_module": "@jupyter-widgets/controls",
      "model_module_version": "1.5.0",
      "model_name": "HTMLModel",
      "state": {
       "layout": "IPY_MODEL_f2e1bbe972c443069da17635883445c9",
       "style": "IPY_MODEL_8976e15da0b04a70bf1c72d363cb2438",
       "value": "<pre>                    Title: Organo-chlorine pesticide residues in okra and brinjal collected from peri-urban areas of big cities of Punjab-Pakistan<br>                  Authors: Randhawa MA<br>                           Abid QUZ<br>                           Anjum FM<br>                           Chaudhary AS<br>                           Sajid MW<br>                           Khalil AA<br>          Author Keywords: contamination<br>                           insecticides<br>                           risk assessment<br>                           toxicity<br>                           vegetables<br>Author Keywords (Cleaned): contamination<br>                           insecticides<br>                           risk assessment<br>                           toxicity<br>                           vegetable<br>             Source title: Pakistan Journal of Agricultural Sciences<br>                     Year: 2016<br>                Countries: Pakistan<br>                           United Kingdom<br>             Institutions: department of biosciences<br>                           school of agriculture<br>                           national institute of food science and technology<br>                 Keywords: contamination<br>                           insecticides<br>                           risk assessment<br>                           toxicity<br>                           vegetables<br></pre>"
      }
     },
     "9817b4c4ecd2408da99fb41f3f35c00c": {
      "model_module": "@jupyter-widgets/controls",
      "model_module_version": "1.5.0",
      "model_name": "SelectModel",
      "state": {
       "_options_labels": [
        "Countries",
        "Country 1st"
       ],
       "index": 0,
       "layout": "IPY_MODEL_8514d1abca904e008b5468f396654e4f",
       "style": "IPY_MODEL_7a2dcaa32e5541a98546006538f3f259"
      }
     },
     "989e1424000f4a25bc5e8e0a060a372c": {
      "model_module": "@jupyter-widgets/controls",
      "model_module_version": "1.5.0",
      "model_name": "TabModel",
      "state": {
       "_titles": {
        "0": "Time Analysis"
       },
       "children": [
        "IPY_MODEL_13cdab94934343f5b6998423c7edffe5"
       ],
       "layout": "IPY_MODEL_50ad647303ae4c8dab0dc1efd98a602b"
      }
     },
     "98bfdf11f0aa4c6fa90e0ccc9cab4e20": {
      "model_module": "@jupyter-widgets/controls",
      "model_module_version": "1.5.0",
      "model_name": "HTMLModel",
      "state": {
       "layout": "IPY_MODEL_ccd77f0cc63e4ff4b4a55c1c3b5ebf65",
       "style": "IPY_MODEL_0fc3efaaf6974cbd876303cdc37b751d",
       "value": "<h1>Summary by Term</h1><hr style='height:2px;border-width:0;color:gray;background-color:gray'>"
      }
     },
     "999efd9f15334fda84093ce8a9462b41": {
      "model_module": "@jupyter-widgets/base",
      "model_module_version": "1.2.0",
      "model_name": "LayoutModel",
      "state": {}
     },
     "9a22450770a041679873e600788818dd": {
      "model_module": "@jupyter-widgets/controls",
      "model_module_version": "1.5.0",
      "model_name": "DropdownModel",
      "state": {
       "_options_labels": [
        "Frequency",
        "Citation"
       ],
       "index": 0,
       "layout": "IPY_MODEL_a922ff282f4649198cdf7b3fd495e5b1",
       "style": "IPY_MODEL_0105415f114e489d8538b00d76a14f35"
      }
     },
     "9a7deb2be76a43c09d4e4ebb3b988e9b": {
      "model_module": "@jupyter-widgets/controls",
      "model_module_version": "1.5.0",
      "model_name": "DescriptionStyleModel",
      "state": {
       "description_width": ""
      }
     },
     "9b94512670614f3a90716b35ce6f82e6": {
      "model_module": "@jupyter-widgets/controls",
      "model_module_version": "1.5.0",
      "model_name": "LabelModel",
      "state": {
       "layout": "IPY_MODEL_81a39e2ddee74356b68b50e69cebe654",
       "style": "IPY_MODEL_52161a67dc1640dda5ca9673e8439255",
       "value": "Sort order:"
      }
     },
     "9d1c179bf48b48178e4380cc14d6fa9a": {
      "model_module": "@jupyter-widgets/controls",
      "model_module_version": "1.5.0",
      "model_name": "HTMLModel",
      "state": {
       "layout": "IPY_MODEL_c95ddf76892b4cc5ad994396b8c02adf",
       "style": "IPY_MODEL_1f7f7b4a218d4fa6a0ce0fa8e09f71e7",
       "value": "<h1>Correlation Analysis</h1><hr style='height:2px;border-width:0;color:gray;background-color:gray'>"
      }
     },
     "9d81036075cd40aeae96c455e0392ed7": {
      "model_module": "@jupyter-widgets/controls",
      "model_module_version": "1.5.0",
      "model_name": "LabelModel",
      "state": {
       "layout": "IPY_MODEL_43451be6c3434fc0983beea772f144bb",
       "style": "IPY_MODEL_3604ab55010b4badb4e9347d1579ccba",
       "value": "Filter by:"
      }
     },
     "9de8ad0ffcdf4c9bbb644cb593c30ea1": {
      "model_module": "@jupyter-widgets/base",
      "model_module_version": "1.2.0",
      "model_name": "LayoutModel",
      "state": {}
     },
     "9ed4e2fe1adf44fc875accaf4fe8a30d": {
      "model_module": "@jupyter-widgets/controls",
      "model_module_version": "1.5.0",
      "model_name": "VBoxModel",
      "state": {
       "children": [
        "IPY_MODEL_bd7127b965c245b78968ce48582e850b",
        "IPY_MODEL_cd428c51b47a4b7eb2d6614fdc5a8bb5"
       ],
       "layout": "IPY_MODEL_2f661fdecf204f1486133d0dd1c9f482"
      }
     },
     "9f7788bb34ae45f78b941779b26b5759": {
      "model_module": "@jupyter-widgets/base",
      "model_module_version": "1.2.0",
      "model_name": "LayoutModel",
      "state": {
       "width": "200px"
      }
     },
     "9f9dae1fd82640fa9b4028a8d587f74c": {
      "model_module": "@jupyter-widgets/controls",
      "model_module_version": "1.5.0",
      "model_name": "DescriptionStyleModel",
      "state": {
       "description_width": ""
      }
     },
     "a06f6df0a8ba497088a8cdade66abd23": {
      "model_module": "@jupyter-widgets/controls",
      "model_module_version": "1.5.0",
      "model_name": "LabelModel",
      "state": {
       "layout": "IPY_MODEL_d24e56cc2bcb43ea849b0401983ce4bc",
       "style": "IPY_MODEL_07782d6e260f44c688001bbe2863a72a",
       "value": "Min occurrence value:"
      }
     },
     "a2b0ddda0bfc4632ae02fdc2a12cfb7f": {
      "model_module": "@jupyter-widgets/controls",
      "model_module_version": "1.5.0",
      "model_name": "DescriptionStyleModel",
      "state": {
       "description_width": ""
      }
     },
     "a3d682c904b64c2b82e7fa3c3f48251d": {
      "model_module": "@jupyter-widgets/base",
      "model_module_version": "1.2.0",
      "model_name": "LayoutModel",
      "state": {
       "width": "200px"
      }
     },
     "a48d0498a82745a3a060aa031e737111": {
      "model_module": "@jupyter-widgets/controls",
      "model_module_version": "1.5.0",
      "model_name": "DescriptionStyleModel",
      "state": {
       "description_width": ""
      }
     },
     "a4d19357ed054ba89a54b684073f671a": {
      "model_module": "@jupyter-widgets/base",
      "model_module_version": "1.2.0",
      "model_name": "LayoutModel",
      "state": {}
     },
     "a603e7637ebf49a7ae6dd257634a72ea": {
      "model_module": "@jupyter-widgets/controls",
      "model_module_version": "1.5.0",
      "model_name": "LabelModel",
      "state": {
       "layout": "IPY_MODEL_9235060595a2440f9a28d4093f895ccd",
       "style": "IPY_MODEL_bfbf35e5143c45f49f104170f0e108ac",
       "value": "Analysis type:"
      }
     },
     "a6317802b7cf41bf8188ba28e2c11168": {
      "model_module": "@jupyter-widgets/controls",
      "model_module_version": "1.5.0",
      "model_name": "DropdownModel",
      "state": {
       "_options_labels": [
        "Abid QUZ",
        "Ahmad G",
        "Anjum FM",
        "Asghar A",
        "Chaudhary AS",
        "Khalil AA",
        "Randhawa MA",
        "Sajid MW",
        "Zaman M"
       ],
       "index": 0,
       "layout": "IPY_MODEL_8e4648afa9a44fc68d30e74c1b08ce51",
       "style": "IPY_MODEL_2cf5b1cfbf24432a8fc141f92c162184"
      }
     },
     "a6b7e09fec96411dbd352c83b6ce647e": {
      "model_module": "@jupyter-widgets/controls",
      "model_module_version": "1.5.0",
      "model_name": "DescriptionStyleModel",
      "state": {
       "description_width": ""
      }
     },
     "a7643b5a6b2442c59a0f27c54ed9b53e": {
      "model_module": "@jupyter-widgets/controls",
      "model_module_version": "1.5.0",
      "model_name": "DropdownModel",
      "state": {
       "_options_labels": [
        "bar",
        "barh",
        "pie"
       ],
       "index": 0,
       "layout": "IPY_MODEL_368c375882a445acb7e6dcd664e0bfeb",
       "style": "IPY_MODEL_8ae53ab30e3e48878686fcbd8be3814a"
      }
     },
     "a8aeba606eac41009c4ead954a55f194": {
      "model_module": "@jupyter-widgets/base",
      "model_module_version": "1.2.0",
      "model_name": "LayoutModel",
      "state": {
       "width": "200px"
      }
     },
     "a922ff282f4649198cdf7b3fd495e5b1": {
      "model_module": "@jupyter-widgets/base",
      "model_module_version": "1.2.0",
      "model_name": "LayoutModel",
      "state": {
       "width": "200px"
      }
     },
     "a94e8a56605b4b70a4cf768ec75dcc7f": {
      "model_module": "@jupyter-widgets/base",
      "model_module_version": "1.2.0",
      "model_name": "LayoutModel",
      "state": {}
     },
     "a9706d733d8f4dd38b61badaa84b56b5": {
      "model_module": "@jupyter-widgets/base",
      "model_module_version": "1.2.0",
      "model_name": "LayoutModel",
      "state": {}
     },
     "aa117541cca54c93a81c6d965791dd08": {
      "model_module": "@jupyter-widgets/base",
      "model_module_version": "1.2.0",
      "model_name": "LayoutModel",
      "state": {}
     },
     "aa1725c9b8d142d6acd81b90ffe7c4b9": {
      "model_module": "@jupyter-widgets/controls",
      "model_module_version": "1.5.0",
      "model_name": "LabelModel",
      "state": {
       "layout": "IPY_MODEL_73d2e1ba477d42ef936dfd212562e941",
       "style": "IPY_MODEL_393f53b84df5402492b4e15bfcbd4781",
       "value": "Term:"
      }
     },
     "aa7ac83bbc4e419bbd53ac40eea066d6": {
      "model_module": "@jupyter-widgets/base",
      "model_module_version": "1.2.0",
      "model_name": "LayoutModel",
      "state": {
       "grid_area": "footer"
      }
     },
     "aa9b75f6865d469cb12eabb6a5e45629": {
      "model_module": "@jupyter-widgets/controls",
      "model_module_version": "1.5.0",
      "model_name": "VBoxModel",
      "state": {
       "children": [
        "IPY_MODEL_49c86ac7f3ab4bcc8fbd3a45b69046a5",
        "IPY_MODEL_29979075db5643f1b22ffb4ffd89ebc1"
       ],
       "layout": "IPY_MODEL_c4eba3fbcfaa4fafbd6bb319bcf0d401"
      }
     },
     "aa9fc1ab37d14a74b5942ba6b3346f8b": {
      "model_module": "@jupyter-widgets/controls",
      "model_module_version": "1.5.0",
      "model_name": "LabelModel",
      "state": {
       "layout": "IPY_MODEL_e3d62df2afd447d39f4c8008de74ae6a",
       "style": "IPY_MODEL_6cb6e6580b124cdfb740754e6980839b",
       "value": "Min link value:"
      }
     },
     "aaa4652dd5744442bd059b4da5304da5": {
      "model_module": "@jupyter-widgets/controls",
      "model_module_version": "1.5.0",
      "model_name": "TabModel",
      "state": {
       "_titles": {
        "0": "Time Analysis"
       },
       "children": [
        "IPY_MODEL_4d7b360dbc324d0fb2ee591451549055"
       ],
       "layout": "IPY_MODEL_243f1d87b08945af80a6f215cd2a7e12"
      }
     },
     "ab9bb425247044e1aa67b62f8d5a1a3c": {
      "model_module": "@jupyter-widgets/controls",
      "model_module_version": "1.5.0",
      "model_name": "DescriptionStyleModel",
      "state": {
       "description_width": ""
      }
     },
     "abcc5290a9534925a3dd4771a440adc1": {
      "model_module": "@jupyter-widgets/controls",
      "model_module_version": "1.5.0",
      "model_name": "HTMLModel",
      "state": {
       "layout": "IPY_MODEL_275671ead87a470ba77b8dc50880a9fe",
       "style": "IPY_MODEL_5ce03cedcfb74be9b6055b19536f03e7",
       "value": "<h1>Summary by Year</h1><hr style='height:2px;border-width:0;color:gray;background-color:gray'>"
      }
     },
     "abdf798b721244c58d6e57dd611bddac": {
      "model_module": "@jupyter-widgets/controls",
      "model_module_version": "1.5.0",
      "model_name": "VBoxModel",
      "state": {
       "children": [
        "IPY_MODEL_416ba5eb6133417692294b53d49a9fe1",
        "IPY_MODEL_1af5a80a9c874faf8d6bb6aef014c45b"
       ],
       "layout": "IPY_MODEL_afaa8443eb6748c58fbfd1fac0d1bb3e"
      }
     },
     "ac0d5e16e3b14ca587fe9425fc19841a": {
      "model_module": "@jupyter-widgets/controls",
      "model_module_version": "1.5.0",
      "model_name": "DescriptionStyleModel",
      "state": {
       "description_width": ""
      }
     },
     "ad619404070d496aa6d25b2495c17953": {
      "model_module": "@jupyter-widgets/controls",
      "model_module_version": "1.5.0",
      "model_name": "DropdownModel",
      "state": {
       "_options_labels": [
        "Alphabetic asc.",
        "Alphabetic desc.",
        "Frequency/Cited by asc.",
        "Frequency/Cited by desc."
       ],
       "index": 0,
       "layout": "IPY_MODEL_237e83d8fc7e467f801705507b054f92",
       "style": "IPY_MODEL_22b671333882405d99ebe82a42d527ef"
      }
     },
     "ae54a968ab2e445087824a968dd055d5": {
      "model_module": "@jupyter-widgets/controls",
      "model_module_version": "1.5.0",
      "model_name": "DropdownModel",
      "state": {
       "_options_labels": [
        "Frequency",
        "Citation"
       ],
       "index": 0,
       "layout": "IPY_MODEL_5a5db8fe35694f35af1e5d155e4b836e",
       "style": "IPY_MODEL_b5c8daf060024ed8b881e77eebf04511"
      }
     },
     "afaa8443eb6748c58fbfd1fac0d1bb3e": {
      "model_module": "@jupyter-widgets/base",
      "model_module_version": "1.2.0",
      "model_name": "LayoutModel",
      "state": {}
     },
     "b0a151369e944ba38b57eaebae0cea7b": {
      "model_module": "@jupyter-widgets/base",
      "model_module_version": "1.2.0",
      "model_name": "LayoutModel",
      "state": {}
     },
     "b0bf96dfa89443e886e85a1ac6dc4457": {
      "model_module": "@jupyter-widgets/controls",
      "model_module_version": "1.5.0",
      "model_name": "VBoxModel",
      "state": {
       "children": [
        "IPY_MODEL_ee5a9a4ff4a140ed9e859755b4caf143"
       ],
       "layout": "IPY_MODEL_5594877c2aff4e5cbd3251c904840b87"
      }
     },
     "b1d9d7fcb8dd48d0a50ba78f0c7e802b": {
      "model_module": "@jupyter-widgets/controls",
      "model_module_version": "1.5.0",
      "model_name": "VBoxModel",
      "state": {
       "children": [
        "IPY_MODEL_6494430b32e94e179c356f79a150ff2a",
        "IPY_MODEL_cbe65b7f7e964f49851d155a3fa7ad0d"
       ],
       "layout": "IPY_MODEL_badbf812a4334fa5ab6a810b0f123b62"
      }
     },
     "b1f326683b3548e7ac3a05448ebf13bb": {
      "model_module": "@jupyter-widgets/output",
      "model_module_version": "1.0.0",
      "model_name": "OutputModel",
      "state": {
       "layout": "IPY_MODEL_096be8add2694d9faa278ff3a5bf43a2"
      }
     },
     "b2ced5f37b0c48b8897359bed2bf1820": {
      "model_module": "@jupyter-widgets/controls",
      "model_module_version": "1.5.0",
      "model_name": "LabelModel",
      "state": {
       "layout": "IPY_MODEL_5bf48170c1a140fc8314fd5e2798bb2b",
       "style": "IPY_MODEL_3d857da244d946dfbb1a35eeeec5c7a8",
       "value": "Term to analyze:"
      }
     },
     "b331e6d11c454f388a175114524a3b3b": {
      "model_module": "@jupyter-widgets/base",
      "model_module_version": "1.2.0",
      "model_name": "LayoutModel",
      "state": {}
     },
     "b4404893d4fa42eeae79afd4c503e98b": {
      "model_module": "@jupyter-widgets/controls",
      "model_module_version": "1.5.0",
      "model_name": "DescriptionStyleModel",
      "state": {
       "description_width": ""
      }
     },
     "b5c8daf060024ed8b881e77eebf04511": {
      "model_module": "@jupyter-widgets/controls",
      "model_module_version": "1.5.0",
      "model_name": "DescriptionStyleModel",
      "state": {
       "description_width": ""
      }
     },
     "b72c2bfe516f4834b3124533cb02bdd6": {
      "model_module": "@jupyter-widgets/base",
      "model_module_version": "1.2.0",
      "model_name": "LayoutModel",
      "state": {}
     },
     "b749e860e94a42d393f62c37598693de": {
      "model_module": "@jupyter-widgets/controls",
      "model_module_version": "1.5.0",
      "model_name": "DescriptionStyleModel",
      "state": {
       "description_width": ""
      }
     },
     "b778808938c64953b4f99f88365b8834": {
      "model_module": "@jupyter-widgets/base",
      "model_module_version": "1.2.0",
      "model_name": "LayoutModel",
      "state": {}
     },
     "b78e5226c96a48719bcec9953d83e8da": {
      "model_module": "@jupyter-widgets/base",
      "model_module_version": "1.2.0",
      "model_name": "LayoutModel",
      "state": {}
     },
     "b82f0bacffdf45a780c8133b23b5735d": {
      "model_module": "@jupyter-widgets/output",
      "model_module_version": "1.0.0",
      "model_name": "OutputModel",
      "state": {
       "layout": "IPY_MODEL_a94e8a56605b4b70a4cf768ec75dcc7f"
      }
     },
     "b887f7ea5f474a45bc1f484f479c7b5a": {
      "model_module": "@jupyter-widgets/controls",
      "model_module_version": "1.5.0",
      "model_name": "DescriptionStyleModel",
      "state": {
       "description_width": ""
      }
     },
     "b8926c2e07fc4059a7a8085f815f20a0": {
      "model_module": "@jupyter-widgets/controls",
      "model_module_version": "1.5.0",
      "model_name": "DescriptionStyleModel",
      "state": {
       "description_width": ""
      }
     },
     "b99d48977b854911ada3f99ee70be7a6": {
      "model_module": "@jupyter-widgets/base",
      "model_module_version": "1.2.0",
      "model_name": "LayoutModel",
      "state": {}
     },
     "ba1bd126e36942ca9509d08b730e0517": {
      "model_module": "@jupyter-widgets/base",
      "model_module_version": "1.2.0",
      "model_name": "LayoutModel",
      "state": {}
     },
     "badbf812a4334fa5ab6a810b0f123b62": {
      "model_module": "@jupyter-widgets/base",
      "model_module_version": "1.2.0",
      "model_name": "LayoutModel",
      "state": {}
     },
     "bb12787c9e8f4ae08d64d7824e2dfa16": {
      "model_module": "@jupyter-widgets/controls",
      "model_module_version": "1.5.0",
      "model_name": "DropdownModel",
      "state": {
       "_options_labels": [
        "Anjum FM",
        "Asomani-Boateng R",
        "Aubry C",
        "Barthel S",
        "Bendt P",
        "Berges R",
        "Blair D",
        "Boqvist S",
        "Brown KH",
        "Buerkert A",
        "Cadenasso ML",
        "Cerro C",
        "Certoma C",
        "Chenu C",
        "Cisse G",
        "Colding J",
        "Cutts BB(1)",
        "Delaide B",
        "Dierich A",
        "Drilling M",
        "Eigenbrod C",
        "Ernstson H",
        "Fliessbach A",
        "Foeken DWJ",
        "Freisinger UB",
        "Frey D",
        "Fuhrimann S",
        "Gianquinto G",
        "Giesecke CC",
        "Goddek S",
        "Gosoniu L",
        "Grard BJ-P",
        "Gruda N",
        "Henckel D",
        "Isendahl C",
        "Jameton AL",
        "Jijakli H",
        "Kahane R",
        "Karanja N",
        "Keraita B",
        "Kloti T",
        "Lagerkvist CJ",
        "Lee-Smith D",
        "Lehmann S",
        "London JK",
        "Magnusson U",
        "Mankasingh U",
        "Manouchehri N",
        "Matthys B",
        "Maxwell DG",
        "McClintock N",
        "Mergenthaler M",
        "Moretti M",
        "Mougeot LJ",
        "N'Goran EK",
        "Nasr J",
        "Nono-Womdim R",
        "Opitz I",
        "Orsini F",
        "Parker J",
        "Pham-Duc P",
        "Piorr A",
        "Polling B",
        "Ragnarsdottir KV",
        "Randhawa MA",
        "Raso G",
        "Rosol M",
        "Sajid MW",
        "Sattorov N",
        "Saumel I",
        "Sawicka M",
        "Schwarz K",
        "Sherman S",
        "Siebert R",
        "Smit J",
        "Specht K",
        "Tan HTW",
        "Tanner M",
        "Tappert S",
        "Thomaier S",
        "Thorarinsdottir R",
        "Tornaghi C",
        "Torquati BM",
        "Tresch S",
        "Tschannen AB",
        "Utzinger J",
        "Vounatsou P",
        "Winkler MS"
       ],
       "index": 0,
       "layout": "IPY_MODEL_ff4d2bf737224de7ae30aad756baf311",
       "style": "IPY_MODEL_b4404893d4fa42eeae79afd4c503e98b"
      }
     },
     "bb750e4be9bd4a7ab8dd9910b5462620": {
      "model_module": "@jupyter-widgets/base",
      "model_module_version": "1.2.0",
      "model_name": "LayoutModel",
      "state": {}
     },
     "bc45ebb33ecf4998906f5a9589990372": {
      "model_module": "@jupyter-widgets/controls",
      "model_module_version": "1.5.0",
      "model_name": "DropdownModel",
      "state": {
       "_options_labels": [
        "Frequency",
        "Cited by"
       ],
       "index": 0,
       "layout": "IPY_MODEL_6f54b7f74bb546b7ba8a7d27bec404a1",
       "style": "IPY_MODEL_1f87001ff2834111bc828a38f14227f6"
      }
     },
     "bd21090ed0f8433099afdc462d772e6c": {
      "model_module": "@jupyter-widgets/controls",
      "model_module_version": "1.5.0",
      "model_name": "DropdownModel",
      "state": {
       "_options_labels": [
        "Greys",
        "Purples",
        "Blues",
        "Greens",
        "Oranges",
        "Reds",
        "YlOrBr",
        "YlOrRd",
        "OrRd",
        "PuRd",
        "RdPu",
        "BuPu",
        "GnBu",
        "PuBu",
        "YlGnBu",
        "PuBuGn",
        "BuGn",
        "YlGn",
        "Pastel1",
        "Pastel2",
        "Paired",
        "Accent",
        "Dark2",
        "Set1",
        "Set2",
        "Set3",
        "tab10",
        "tab20",
        "tab20b",
        "tab20c"
       ],
       "index": 0,
       "layout": "IPY_MODEL_391e715891fd4400a256fce604b5dfd8",
       "style": "IPY_MODEL_f8f450eb1ed74df6b83c7db604b8fb79"
      }
     },
     "bd7127b965c245b78968ce48582e850b": {
      "model_module": "@jupyter-widgets/controls",
      "model_module_version": "1.5.0",
      "model_name": "LabelModel",
      "state": {
       "layout": "IPY_MODEL_232e0e0adf884baf9ffa6c607461703b",
       "style": "IPY_MODEL_8d3c571da372479987959e0e247efade",
       "value": "Plot:"
      }
     },
     "bddc4bdce2c44a619a850053a707f486": {
      "model_module": "@jupyter-widgets/base",
      "model_module_version": "1.2.0",
      "model_name": "LayoutModel",
      "state": {}
     },
     "bde31d07bab84d9daa560ec70cd7c4ec": {
      "model_module": "@jupyter-widgets/controls",
      "model_module_version": "1.5.0",
      "model_name": "DescriptionStyleModel",
      "state": {
       "description_width": ""
      }
     },
     "bf44b78a76464a25a2445b119afda087": {
      "model_module": "@jupyter-widgets/base",
      "model_module_version": "1.2.0",
      "model_name": "LayoutModel",
      "state": {
       "width": "200px"
      }
     },
     "bfbf35e5143c45f49f104170f0e108ac": {
      "model_module": "@jupyter-widgets/controls",
      "model_module_version": "1.5.0",
      "model_name": "DescriptionStyleModel",
      "state": {
       "description_width": ""
      }
     },
     "c00cdd3098fb4c7fa0da5ba40f814b2e": {
      "model_module": "@jupyter-widgets/controls",
      "model_module_version": "1.5.0",
      "model_name": "DescriptionStyleModel",
      "state": {
       "description_width": ""
      }
     },
     "c06cba4fc09147f3b8a312cc9b4133f7": {
      "model_module": "@jupyter-widgets/controls",
      "model_module_version": "1.5.0",
      "model_name": "TabModel",
      "state": {
       "_titles": {
        "0": "Term Analysis",
        "1": "Worldmap"
       },
       "children": [
        "IPY_MODEL_897f356d48f4447a9257596bbc7eac89",
        "IPY_MODEL_090300155a4044a88a749b5e049afdba"
       ],
       "layout": "IPY_MODEL_2689fef1a89e46de8860511ad049692d"
      }
     },
     "c0d5c16c2ee14725aae4b7c91866dc99": {
      "model_module": "@jupyter-widgets/base",
      "model_module_version": "1.2.0",
      "model_name": "LayoutModel",
      "state": {}
     },
     "c0e489bf102648779ace0fe6825f854c": {
      "model_module": "@jupyter-widgets/controls",
      "model_module_version": "1.5.0",
      "model_name": "DropdownModel",
      "state": {
       "_options_labels": [
        "Author Keywords",
        "Authors",
        "Countries",
        "Country 1st",
        "Index Keywords",
        "Institution 1st",
        "Institutions",
        "Keywords",
        "Source title"
       ],
       "index": 0,
       "layout": "IPY_MODEL_3bd86cca40cd4eb4be3cc6ad25588888",
       "style": "IPY_MODEL_4a430c59ec5749f89ea90154517a9384"
      }
     },
     "c110c4839b204efb85001ebe4903c251": {
      "model_module": "@jupyter-widgets/base",
      "model_module_version": "1.2.0",
      "model_name": "LayoutModel",
      "state": {}
     },
     "c134a0b28c204ffeb6cfe37fd49ab6fc": {
      "model_module": "@jupyter-widgets/base",
      "model_module_version": "1.2.0",
      "model_name": "LayoutModel",
      "state": {
       "grid_area": "header"
      }
     },
     "c194e9010c2341179711d24a71e92c32": {
      "model_module": "@jupyter-widgets/controls",
      "model_module_version": "1.5.0",
      "model_name": "VBoxModel",
      "state": {
       "children": [
        "IPY_MODEL_7e9ccff35e9f476b9f1c57295fb02960",
        "IPY_MODEL_2a1b4d485f1f42bc90a49fc73f5ddae1"
       ],
       "layout": "IPY_MODEL_3b30eb1eb4bc463087dd5bc70304ef96"
      }
     },
     "c199042128c44e5b96a634ed706a7e7b": {
      "model_module": "@jupyter-widgets/controls",
      "model_module_version": "1.5.0",
      "model_name": "LabelModel",
      "state": {
       "layout": "IPY_MODEL_b78e5226c96a48719bcec9953d83e8da",
       "style": "IPY_MODEL_04caf74ed0a1422f94d8dc150199983c",
       "value": "By Term:"
      }
     },
     "c1a45cb1d10a4c41b2d494e82011275a": {
      "model_module": "@jupyter-widgets/controls",
      "model_module_version": "1.5.0",
      "model_name": "DropdownModel",
      "state": {
       "_options_labels": [
        "bar",
        "barh"
       ],
       "index": 1,
       "layout": "IPY_MODEL_a3d682c904b64c2b82e7fa3c3f48251d",
       "style": "IPY_MODEL_459cff00289746e6a9a8bf3c78ab4e40"
      }
     },
     "c20b160675c6479f8153364f9d104b77": {
      "model_module": "@jupyter-widgets/base",
      "model_module_version": "1.2.0",
      "model_name": "LayoutModel",
      "state": {}
     },
     "c2ec0df653644683b4e94936f013b9c7": {
      "model_module": "@jupyter-widgets/controls",
      "model_module_version": "1.5.0",
      "model_name": "HTMLModel",
      "state": {
       "layout": "IPY_MODEL_eb8b7eefb8ef4bd9823cf95625169a37",
       "style": "IPY_MODEL_c00cdd3098fb4c7fa0da5ba40f814b2e",
       "value": "<pre>                    Title: Organo-chlorine pesticide residues in okra and brinjal collected from peri-urban areas of big cities of Punjab-Pakistan<br>                  Authors: Randhawa MA<br>                           Abid QUZ<br>                           Anjum FM<br>                           Chaudhary AS<br>                           Sajid MW<br>                           Khalil AA<br>          Author Keywords: contamination<br>                           insecticides<br>                           risk assessment<br>                           toxicity<br>                           vegetables<br>Author Keywords (Cleaned): contamination<br>                           insecticides<br>                           risk assessment<br>                           toxicity<br>                           vegetable<br>             Source title: Pakistan Journal of Agricultural Sciences<br>                     Year: 2016<br>                Countries: Pakistan<br>                           United Kingdom<br>             Institutions: department of biosciences<br>                           school of agriculture<br>                           national institute of food science and technology<br>                 Keywords: contamination<br>                           insecticides<br>                           risk assessment<br>                           toxicity<br>                           vegetables<br></pre>"
      }
     },
     "c316e2afc6fd4d4a8ba24a3d8fba5eee": {
      "model_module": "@jupyter-widgets/controls",
      "model_module_version": "1.5.0",
      "model_name": "LabelModel",
      "state": {
       "layout": "IPY_MODEL_067ca09c9f064382bdf561ba6ac49d16",
       "style": "IPY_MODEL_0e2d200079e54569a80289c970bb80be",
       "value": "Map layout:"
      }
     },
     "c3ad2615a9eb4ef4ae1b9e02381703f4": {
      "model_module": "@jupyter-widgets/controls",
      "model_module_version": "1.5.0",
      "model_name": "DescriptionStyleModel",
      "state": {
       "description_width": ""
      }
     },
     "c3b2db350b8a41fc9795ef1e533b37a9": {
      "model_module": "@jupyter-widgets/controls",
      "model_module_version": "1.5.0",
      "model_name": "LabelModel",
      "state": {
       "layout": "IPY_MODEL_5c2a437df3ec48fe8c606b10bccb4548",
       "style": "IPY_MODEL_94971419d6534a9fa24a52020d518ce5",
       "value": "Term in By column:"
      }
     },
     "c3c5424c014947fe85cac665ed49f804": {
      "model_module": "@jupyter-widgets/controls",
      "model_module_version": "1.5.0",
      "model_name": "GridBoxModel",
      "state": {
       "children": [
        "IPY_MODEL_1126d8f7ae7d44c48c14c094f10b1a10",
        "IPY_MODEL_4532bb0854144a2ea405bd323c9a4aad",
        "IPY_MODEL_3de61c84b54d483aaaaa190219c4de92",
        "IPY_MODEL_4b718bf764f84ff087596d9c3faf3082"
       ],
       "layout": "IPY_MODEL_c6bbefd304964a24badbf99e0c67d30f"
      }
     },
     "c3f00da2da8644d98a13549b02f35720": {
      "model_module": "@jupyter-widgets/base",
      "model_module_version": "1.2.0",
      "model_name": "LayoutModel",
      "state": {}
     },
     "c4932ef264e04f91ae08cd7582d9bd17": {
      "model_module": "@jupyter-widgets/controls",
      "model_module_version": "1.5.0",
      "model_name": "DescriptionStyleModel",
      "state": {
       "description_width": ""
      }
     },
     "c4eba3fbcfaa4fafbd6bb319bcf0d401": {
      "model_module": "@jupyter-widgets/base",
      "model_module_version": "1.2.0",
      "model_name": "LayoutModel",
      "state": {
       "grid_area": "widget002"
      }
     },
     "c59dc5ebabff4171a9e440fd3c2fad75": {
      "model_module": "@jupyter-widgets/controls",
      "model_module_version": "1.5.0",
      "model_name": "LabelModel",
      "state": {
       "layout": "IPY_MODEL_ef2b513bf73649958b768f2866c540c4",
       "style": "IPY_MODEL_106aacc5eb364d00908fbdbc4d6978eb",
       "value": "Colormap:"
      }
     },
     "c5a3f5b27b354a1f939ec8f290371f65": {
      "model_module": "@jupyter-widgets/base",
      "model_module_version": "1.2.0",
      "model_name": "LayoutModel",
      "state": {
       "grid_template_areas": "\"header header header\"\n\"center center center\"",
       "grid_template_columns": "1fr 2fr 1fr",
       "grid_template_rows": "80px 650px"
      }
     },
     "c6216bb9e1964d16bb9487cca3e00951": {
      "model_module": "@jupyter-widgets/controls",
      "model_module_version": "1.5.0",
      "model_name": "VBoxModel",
      "state": {
       "children": [
        "IPY_MODEL_82bb38e285c046818c25c4f7b47696cd",
        "IPY_MODEL_ca4ad21393b74510821a85fb08b29851"
       ],
       "layout": "IPY_MODEL_f8378959234f45fcaa1d8eb088f236ec"
      }
     },
     "c63d70647dfd41cf96e7c05390c6b12e": {
      "model_module": "@jupyter-widgets/controls",
      "model_module_version": "1.5.0",
      "model_name": "DropdownModel",
      "state": {
       "_options_labels": [
        "Author Keywords",
        "Authors",
        "Countries",
        "Country 1st",
        "Index Keywords",
        "Institution 1st",
        "Institutions",
        "Keywords",
        "Source title"
       ],
       "index": 0,
       "layout": "IPY_MODEL_8e2b28e3caa2414fa4e06ec784e734e4",
       "style": "IPY_MODEL_1d3d0293cb044d41b9f7ea961cf5ceb7"
      }
     },
     "c6bbefd304964a24badbf99e0c67d30f": {
      "model_module": "@jupyter-widgets/base",
      "model_module_version": "1.2.0",
      "model_name": "LayoutModel",
      "state": {
       "grid_template_areas": "\"header header header\"\n\"left-sidebar center center\"\n\"footer footer footer\"",
       "grid_template_columns": "1fr 2fr 1fr",
       "grid_template_rows": "80px 130px 550px"
      }
     },
     "c6f8209aa98945bb93264f7404546aa9": {
      "model_module": "@jupyter-widgets/controls",
      "model_module_version": "1.5.0",
      "model_name": "DescriptionStyleModel",
      "state": {
       "description_width": ""
      }
     },
     "c807dc45e2ef467f815a1f483a08b272": {
      "model_module": "@jupyter-widgets/output",
      "model_module_version": "1.0.0",
      "model_name": "OutputModel",
      "state": {
       "layout": "IPY_MODEL_f3d5e8971aee497281edae59b32b32ff",
       "outputs": [
        {
         "data": {
          "image/png": "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\n",
          "text/plain": "<Figure size 1008x590.4 with 1 Axes>"
         },
         "metadata": {},
         "output_type": "display_data"
        }
       ]
      }
     },
     "c87ca9d2c84d4d83b9eba623960375f9": {
      "model_module": "@jupyter-widgets/controls",
      "model_module_version": "1.5.0",
      "model_name": "GridBoxModel",
      "state": {
       "children": [
        "IPY_MODEL_257bb173ab964351b575c9195c6f1763",
        "IPY_MODEL_989e1424000f4a25bc5e8e0a060a372c"
       ],
       "layout": "IPY_MODEL_c5a3f5b27b354a1f939ec8f290371f65"
      }
     },
     "c95ddf76892b4cc5ad994396b8c02adf": {
      "model_module": "@jupyter-widgets/base",
      "model_module_version": "1.2.0",
      "model_name": "LayoutModel",
      "state": {
       "grid_area": "header"
      }
     },
     "ca4ad21393b74510821a85fb08b29851": {
      "model_module": "@jupyter-widgets/controls",
      "model_module_version": "1.5.0",
      "model_name": "SelectModel",
      "state": {
       "_options_labels": [
        "Author Keywords",
        "Authors",
        "Countries",
        "Country 1st",
        "Index Keywords",
        "Institution 1st",
        "Institutions",
        "Keywords",
        "Source title"
       ],
       "index": 0,
       "layout": "IPY_MODEL_06e097eb7d5249deb34ad64b8eebe6cd",
       "style": "IPY_MODEL_e3e50dabd15b42e49ff9fa5e0278873c"
      }
     },
     "caee862c1b4b4d1a9d5ec49323784058": {
      "model_module": "@jupyter-widgets/controls",
      "model_module_version": "1.5.0",
      "model_name": "SelectModel",
      "state": {
       "_options_labels": [
        "Heavy metal contents and their daily intake in vegetables under peri-urban farming system of Multan, Pakistan",
        "Organo-chlorine pesticide residues in okra and brinjal collected from peri-urban areas of big cities of Punjab-Pakistan",
        "Organophosphate pesticide residues in okra and brinjal grown in peri-urban environment of big cities of Punjab"
       ],
       "index": 0,
       "layout": "IPY_MODEL_5059b2201627488eb1bfc44d080856e1",
       "style": "IPY_MODEL_5bd48e9c677f4468ba89eafa47bf1fa7"
      }
     },
     "cb2b9c019e0a488d8b0d05a5433e2050": {
      "model_module": "@jupyter-widgets/base",
      "model_module_version": "1.2.0",
      "model_name": "LayoutModel",
      "state": {}
     },
     "cbad16c710e34ee1a3c92c9aadf3e8c9": {
      "model_module": "@jupyter-widgets/controls",
      "model_module_version": "1.5.0",
      "model_name": "DescriptionStyleModel",
      "state": {
       "description_width": ""
      }
     },
     "cbd6258a6e97433fb3723db55e1ad5b1": {
      "model_module": "@jupyter-widgets/controls",
      "model_module_version": "1.5.0",
      "model_name": "SelectModel",
      "state": {
       "_options_labels": [
        "Author Keywords",
        "Authors",
        "Countries",
        "Country 1st",
        "Index Keywords",
        "Institution 1st",
        "Institutions",
        "Keywords",
        "Source title"
       ],
       "index": 0,
       "layout": "IPY_MODEL_249507491cec457cb5463e649ab2ed78",
       "style": "IPY_MODEL_b8926c2e07fc4059a7a8085f815f20a0"
      }
     },
     "cbe65b7f7e964f49851d155a3fa7ad0d": {
      "model_module": "@jupyter-widgets/controls",
      "model_module_version": "1.5.0",
      "model_name": "DropdownModel",
      "state": {
       "_options_labels": [
        "Heatmap",
        "Gant"
       ],
       "index": 0,
       "layout": "IPY_MODEL_fad6d2d42a044b788507581030c2a4f4",
       "style": "IPY_MODEL_33249dd2fcd3468c91dbbeeac9500e63"
      }
     },
     "cc97c58199b74f02a990065c41cb929a": {
      "model_module": "@jupyter-widgets/controls",
      "model_module_version": "1.5.0",
      "model_name": "DescriptionStyleModel",
      "state": {
       "description_width": ""
      }
     },
     "ccd77f0cc63e4ff4b4a55c1c3b5ebf65": {
      "model_module": "@jupyter-widgets/base",
      "model_module_version": "1.2.0",
      "model_name": "LayoutModel",
      "state": {
       "grid_area": "header"
      }
     },
     "cd428c51b47a4b7eb2d6614fdc5a8bb5": {
      "model_module": "@jupyter-widgets/controls",
      "model_module_version": "1.5.0",
      "model_name": "DropdownModel",
      "state": {
       "_options_labels": [
        "Documents by Year",
        "Cum. Documents by Year",
        "Times Cited by Year",
        "Cum. Times Cited by Year",
        "Avg. Times Cited by Year"
       ],
       "index": 1,
       "layout": "IPY_MODEL_8d0d611624034c679196fcf6622b02b5",
       "style": "IPY_MODEL_81a40cbd74284b0d9052129fc4ea97e2"
      }
     },
     "ce1c9bc8375b4092a98be7fedc358cfd": {
      "model_module": "@jupyter-widgets/output",
      "model_module_version": "1.0.0",
      "model_name": "OutputModel",
      "state": {
       "layout": "IPY_MODEL_4d02454827f14503940b979e5587cdd4",
       "outputs": [
        {
         "data": {
          "application/vnd.jupyter.widget-view+json": {
           "model_id": "",
           "version_major": 2,
           "version_minor": 0
          },
          "text/plain": "HTML(value='<h3>Matrix exceeds the maximum shape</h3>')"
         },
         "metadata": {},
         "output_type": "display_data"
        }
       ]
      }
     },
     "ce95c130f4e04a35aa5d748929b8a75b": {
      "model_module": "@jupyter-widgets/controls",
      "model_module_version": "1.5.0",
      "model_name": "SelectModel",
      "state": {
       "_options_labels": [
        "Organo-chlorine pesticide residues in okra and brinjal collected from peri-urban areas of big cities of Punjab-Pakistan"
       ],
       "index": 0,
       "layout": "IPY_MODEL_6854b50ce6224d90aa84b45aa7574ffb",
       "style": "IPY_MODEL_db42b0fccf8b4acaa5e7b99e216c0bde"
      }
     },
     "cec73a85089940689a065625542b9d11": {
      "model_module": "@jupyter-widgets/controls",
      "model_module_version": "1.5.0",
      "model_name": "DropdownModel",
      "state": {
       "_options_labels": [
        "Matrix",
        "Correlation map",
        "Chord diagram"
       ],
       "index": 0,
       "layout": "IPY_MODEL_6760371916224aa28d3f2897986f0c4c",
       "style": "IPY_MODEL_9a7deb2be76a43c09d4e4ebb3b988e9b"
      }
     },
     "cee6fca664fa4aca91a954038d05bd62": {
      "model_module": "@jupyter-widgets/controls",
      "model_module_version": "1.5.0",
      "model_name": "VBoxModel",
      "state": {
       "children": [
        "IPY_MODEL_5ee2d7e1f89c48838318cd32a898e291",
        "IPY_MODEL_952c040ab8554e17ad0c10515bd787ea"
       ],
       "layout": "IPY_MODEL_92571a4921734327aa64105d5fa80767"
      }
     },
     "d0a5a4498fde488bbe964479fba9d311": {
      "model_module": "@jupyter-widgets/controls",
      "model_module_version": "1.5.0",
      "model_name": "VBoxModel",
      "state": {
       "children": [
        "IPY_MODEL_2776172e95f54b6090d1e8b91eb6e814",
        "IPY_MODEL_02aadba4e61c48a78875ca9bdcbe89cc"
       ],
       "layout": "IPY_MODEL_d334e85fb8d247e69b98d09fa784966e"
      }
     },
     "d1226c19e71248858257b0889d0d0f8c": {
      "model_module": "@jupyter-widgets/controls",
      "model_module_version": "1.5.0",
      "model_name": "VBoxModel",
      "state": {
       "children": [
        "IPY_MODEL_89ab3f275a224f89ab8808d5633a91e1",
        "IPY_MODEL_552a737cfe174a6bb3a0d1978ebb7214"
       ],
       "layout": "IPY_MODEL_c20b160675c6479f8153364f9d104b77"
      }
     },
     "d1259cb69c6f4daf8428a46097835d3c": {
      "model_module": "@jupyter-widgets/base",
      "model_module_version": "1.2.0",
      "model_name": "LayoutModel",
      "state": {}
     },
     "d22b609d10c34f7baca68b7480c00aff": {
      "model_module": "@jupyter-widgets/controls",
      "model_module_version": "1.5.0",
      "model_name": "DescriptionStyleModel",
      "state": {
       "description_width": ""
      }
     },
     "d24e56cc2bcb43ea849b0401983ce4bc": {
      "model_module": "@jupyter-widgets/base",
      "model_module_version": "1.2.0",
      "model_name": "LayoutModel",
      "state": {}
     },
     "d334e85fb8d247e69b98d09fa784966e": {
      "model_module": "@jupyter-widgets/base",
      "model_module_version": "1.2.0",
      "model_name": "LayoutModel",
      "state": {}
     },
     "d42e22baf0cf4dec99b48974f5a70f41": {
      "model_module": "@jupyter-widgets/controls",
      "model_module_version": "1.5.0",
      "model_name": "DescriptionStyleModel",
      "state": {
       "description_width": ""
      }
     },
     "d4ac128defe44378ad662074ce8a5639": {
      "model_module": "@jupyter-widgets/controls",
      "model_module_version": "1.5.0",
      "model_name": "VBoxModel",
      "state": {
       "children": [
        "IPY_MODEL_5f6bcf6b2a0647aabd8dd8f3a4471481",
        "IPY_MODEL_930a99a39a414d50bc1e452c13f96751",
        "IPY_MODEL_0e56004f0dc3479588f2dbf55c41e1f5"
       ],
       "layout": "IPY_MODEL_45d4a7b96b3d432dbab7686456ff6046"
      }
     },
     "d54e0329fc4d44739e714d315d7fa7a9": {
      "model_module": "@jupyter-widgets/base",
      "model_module_version": "1.2.0",
      "model_name": "LayoutModel",
      "state": {}
     },
     "d61a94d6b9d34336924c01ede83a9dfb": {
      "model_module": "@jupyter-widgets/controls",
      "model_module_version": "1.5.0",
      "model_name": "LabelModel",
      "state": {
       "layout": "IPY_MODEL_e1e2316f1cce40b09a1350e8ef037afe",
       "style": "IPY_MODEL_9f9dae1fd82640fa9b4028a8d587f74c",
       "value": "Top N:"
      }
     },
     "d64209fc05bc4b078373676b3ea39cae": {
      "model_module": "@jupyter-widgets/base",
      "model_module_version": "1.2.0",
      "model_name": "LayoutModel",
      "state": {}
     },
     "d70518fa210f40d1a7effb06a4985804": {
      "model_module": "@jupyter-widgets/base",
      "model_module_version": "1.2.0",
      "model_name": "LayoutModel",
      "state": {}
     },
     "d7a9cbd61bc044b7ae3f11c9368a35a7": {
      "model_module": "@jupyter-widgets/base",
      "model_module_version": "1.2.0",
      "model_name": "LayoutModel",
      "state": {}
     },
     "d7fdc5aed2794a739c8aa664186f8ffb": {
      "model_module": "@jupyter-widgets/controls",
      "model_module_version": "1.5.0",
      "model_name": "VBoxModel",
      "state": {
       "children": [
        "IPY_MODEL_a603e7637ebf49a7ae6dd257634a72ea",
        "IPY_MODEL_efc91477a9324aba9ecb0568fad582d1"
       ],
       "layout": "IPY_MODEL_bddc4bdce2c44a619a850053a707f486"
      }
     },
     "d84be7fc47b942ef88a217a6ad953637": {
      "model_module": "@jupyter-widgets/controls",
      "model_module_version": "1.5.0",
      "model_name": "DescriptionStyleModel",
      "state": {
       "description_width": ""
      }
     },
     "daebf70de104449d852ace7c0f720ffa": {
      "model_module": "@jupyter-widgets/base",
      "model_module_version": "1.2.0",
      "model_name": "LayoutModel",
      "state": {}
     },
     "db42b0fccf8b4acaa5e7b99e216c0bde": {
      "model_module": "@jupyter-widgets/controls",
      "model_module_version": "1.5.0",
      "model_name": "DescriptionStyleModel",
      "state": {
       "description_width": ""
      }
     },
     "dbac2a9138a14b2c8893202e93679f1f": {
      "model_module": "@jupyter-widgets/controls",
      "model_module_version": "1.5.0",
      "model_name": "GridBoxModel",
      "state": {
       "children": [
        "IPY_MODEL_abcc5290a9534925a3dd4771a440adc1",
        "IPY_MODEL_aaa4652dd5744442bd059b4da5304da5"
       ],
       "layout": "IPY_MODEL_8a7619d882864159b840e3de0924b822"
      }
     },
     "dcd0b2323d264003a12207336e804697": {
      "model_module": "@jupyter-widgets/base",
      "model_module_version": "1.2.0",
      "model_name": "LayoutModel",
      "state": {}
     },
     "dd54c7a74f83444a96fc65beef5c118c": {
      "model_module": "@jupyter-widgets/controls",
      "model_module_version": "1.5.0",
      "model_name": "DropdownModel",
      "state": {
       "_options_labels": [
        "Author Keywords",
        "Authors",
        "Countries",
        "Country 1st",
        "Index Keywords",
        "Institution 1st",
        "Institutions",
        "Keywords",
        "Source title"
       ],
       "index": 0,
       "layout": "IPY_MODEL_1d98fe640a934f338ecc3d724f89d357",
       "style": "IPY_MODEL_2cbf114c98984441b2f2d262b7c8c859"
      }
     },
     "dfc0be0d13b64c0cb82e2ea3c7fc401b": {
      "model_module": "@jupyter-widgets/base",
      "model_module_version": "1.2.0",
      "model_name": "LayoutModel",
      "state": {
       "grid_area": "widget006"
      }
     },
     "e0498687e7194475b5147c0bbc052f59": {
      "model_module": "@jupyter-widgets/base",
      "model_module_version": "1.2.0",
      "model_name": "LayoutModel",
      "state": {}
     },
     "e064178dcdad4af591d3a5f927bb4fd5": {
      "model_module": "@jupyter-widgets/controls",
      "model_module_version": "1.5.0",
      "model_name": "DescriptionStyleModel",
      "state": {
       "description_width": ""
      }
     },
     "e0f44600798046bc9e3d10c2f5a1112e": {
      "model_module": "@jupyter-widgets/controls",
      "model_module_version": "1.5.0",
      "model_name": "VBoxModel",
      "state": {
       "children": [
        "IPY_MODEL_9ed4e2fe1adf44fc875accaf4fe8a30d",
        "IPY_MODEL_673c09464edd458dbdd0f8cd6d1f5e77",
        "IPY_MODEL_4e8ee2eebb374ebb8370d5c3f890be62"
       ],
       "layout": "IPY_MODEL_6bacc19063ec4718b4e5176556f73e22"
      }
     },
     "e13fe9e760ec4cdbb12e310d93bf3394": {
      "model_module": "@jupyter-widgets/base",
      "model_module_version": "1.2.0",
      "model_name": "LayoutModel",
      "state": {
       "align_items": "baseline",
       "width": "870px"
      }
     },
     "e1e2316f1cce40b09a1350e8ef037afe": {
      "model_module": "@jupyter-widgets/base",
      "model_module_version": "1.2.0",
      "model_name": "LayoutModel",
      "state": {}
     },
     "e2d014442ec24b25b6255d8d109249a2": {
      "model_module": "@jupyter-widgets/base",
      "model_module_version": "1.2.0",
      "model_name": "LayoutModel",
      "state": {
       "grid_area": "center"
      }
     },
     "e2dea07c4e964ff9a3cb35993b1c845a": {
      "model_module": "@jupyter-widgets/base",
      "model_module_version": "1.2.0",
      "model_name": "LayoutModel",
      "state": {}
     },
     "e371ab6575ed47389b0bea56e88862ab": {
      "model_module": "@jupyter-widgets/controls",
      "model_module_version": "1.5.0",
      "model_name": "VBoxModel",
      "state": {
       "children": [
        "IPY_MODEL_ecc7796c71bc462697e48c26ac83e3f9",
        "IPY_MODEL_53b635a6898548e9abc2d942b5e70cde",
        "IPY_MODEL_abdf798b721244c58d6e57dd611bddac",
        "IPY_MODEL_77c9f5b2f3844cacbb0f826f665345a3",
        "IPY_MODEL_d1226c19e71248858257b0889d0d0f8c",
        "IPY_MODEL_70283aeea9bd4a3686cd1a733a498d46",
        "IPY_MODEL_29c948c3aa5141f7b0a1db16aae7d318",
        "IPY_MODEL_ece5d8f455174a35950953ea791b0fea",
        "IPY_MODEL_5a8f6fd11c16444fa4335e1133cfbf87",
        "IPY_MODEL_115d3f659b1c4210af7311364c71d237"
       ],
       "layout": "IPY_MODEL_3d9e864682394faba18b3b8f945d9246"
      }
     },
     "e3d62df2afd447d39f4c8008de74ae6a": {
      "model_module": "@jupyter-widgets/base",
      "model_module_version": "1.2.0",
      "model_name": "LayoutModel",
      "state": {}
     },
     "e3e50dabd15b42e49ff9fa5e0278873c": {
      "model_module": "@jupyter-widgets/controls",
      "model_module_version": "1.5.0",
      "model_name": "DescriptionStyleModel",
      "state": {
       "description_width": ""
      }
     },
     "e4c07665159d4499ad9a1523bc02777c": {
      "model_module": "@jupyter-widgets/controls",
      "model_module_version": "1.5.0",
      "model_name": "DescriptionStyleModel",
      "state": {
       "description_width": ""
      }
     },
     "e4d9f40a78154d59a58303fddb35181c": {
      "model_module": "@jupyter-widgets/base",
      "model_module_version": "1.2.0",
      "model_name": "LayoutModel",
      "state": {
       "grid_area": "center"
      }
     },
     "e4e1b8af0c51417691e6017e0c0b01cf": {
      "model_module": "@jupyter-widgets/controls",
      "model_module_version": "1.5.0",
      "model_name": "GridBoxModel",
      "state": {
       "children": [
        "IPY_MODEL_fb1286ac039546eebb940326c8866df3",
        "IPY_MODEL_aa9b75f6865d469cb12eabb6a5e45629",
        "IPY_MODEL_8d7f10cc967c41b9ad4140ac0cc6324c",
        "IPY_MODEL_c194e9010c2341179711d24a71e92c32",
        "IPY_MODEL_27bd2fbd09024a19b3c66729d991ef0c",
        "IPY_MODEL_ead9f41618164ad6bd025df785f0c8b4",
        "IPY_MODEL_1b6dd682900f4e36acc257e314fa3429"
       ],
       "layout": "IPY_MODEL_950b5ceaf9884a22b5b5035fbc2a8122"
      }
     },
     "e6970ded102344d297383d3981e5a709": {
      "model_module": "@jupyter-widgets/base",
      "model_module_version": "1.2.0",
      "model_name": "LayoutModel",
      "state": {}
     },
     "e7efe44623d045b4a08565a0824e8515": {
      "model_module": "@jupyter-widgets/controls",
      "model_module_version": "1.5.0",
      "model_name": "DropdownModel",
      "state": {
       "_options_labels": [
        "Greys",
        "Purples",
        "Blues",
        "Greens",
        "Oranges",
        "Reds",
        "YlOrBr",
        "YlOrRd",
        "OrRd",
        "PuRd",
        "RdPu",
        "BuPu",
        "GnBu",
        "PuBu",
        "YlGnBu",
        "PuBuGn",
        "BuGn",
        "YlGn",
        "Pastel1",
        "Pastel2",
        "Paired",
        "Accent",
        "Dark2",
        "Set1",
        "Set2",
        "Set3",
        "tab10",
        "tab20",
        "tab20b",
        "tab20c"
       ],
       "index": 0,
       "layout": "IPY_MODEL_952c01d5d3c0426cba4e42a4d4ff8624",
       "style": "IPY_MODEL_6c576508bb2247bbbbac1b2446e050ce"
      }
     },
     "e80ad118addd4c38a97e5bbbf0970791": {
      "model_module": "@jupyter-widgets/base",
      "model_module_version": "1.2.0",
      "model_name": "LayoutModel",
      "state": {}
     },
     "e82749cce5ac4508a3c338ff0cda1620": {
      "model_module": "@jupyter-widgets/base",
      "model_module_version": "1.2.0",
      "model_name": "LayoutModel",
      "state": {
       "width": "200px"
      }
     },
     "e87eb7fc8c5c48e29e6a4401f6cab0f6": {
      "model_module": "@jupyter-widgets/controls",
      "model_module_version": "1.5.0",
      "model_name": "VBoxModel",
      "state": {
       "children": [
        "IPY_MODEL_ea7ae27656c54ea18fd9954d0a87f2c2"
       ],
       "layout": "IPY_MODEL_5e9868243f8746e3a0e8d78284c04b24"
      }
     },
     "e8f2424f6e5a4eabb4baee673e9c3e57": {
      "model_module": "@jupyter-widgets/controls",
      "model_module_version": "1.5.0",
      "model_name": "DescriptionStyleModel",
      "state": {
       "description_width": ""
      }
     },
     "e8f5e3a02ea24e18a6c382914048a04e": {
      "model_module": "@jupyter-widgets/controls",
      "model_module_version": "1.5.0",
      "model_name": "VBoxModel",
      "state": {
       "children": [
        "IPY_MODEL_c6216bb9e1964d16bb9487cca3e00951",
        "IPY_MODEL_66b958de5b0a4102a3dddfdbf61340d4",
        "IPY_MODEL_7135df266a1040cba754ae1389b8cd4c",
        "IPY_MODEL_57d7cdccdcdb46c7941212d82669c430",
        "IPY_MODEL_cee6fca664fa4aca91a954038d05bd62"
       ],
       "layout": "IPY_MODEL_0639096cc723406fa0053fd5ec1bf5cf"
      }
     },
     "e8f6d9b331184668ae03abacc5795639": {
      "model_module": "@jupyter-widgets/controls",
      "model_module_version": "1.5.0",
      "model_name": "DescriptionStyleModel",
      "state": {
       "description_width": ""
      }
     },
     "ea7ae27656c54ea18fd9954d0a87f2c2": {
      "model_module": "@jupyter-widgets/output",
      "model_module_version": "1.0.0",
      "model_name": "OutputModel",
      "state": {
       "layout": "IPY_MODEL_7332adb934744ea79912e16037457bf9",
       "outputs": [
        {
         "data": {
          "application/vnd.jupyter.widget-view+json": {
           "model_id": "8954aadf371b4d40a6f81a86e857afa2",
           "version_major": 2,
           "version_minor": 0
          },
          "text/plain": "Output()"
         },
         "metadata": {},
         "output_type": "display_data"
        }
       ]
      }
     },
     "ead9f41618164ad6bd025df785f0c8b4": {
      "model_module": "@jupyter-widgets/controls",
      "model_module_version": "1.5.0",
      "model_name": "VBoxModel",
      "state": {
       "children": [
        "IPY_MODEL_64cf4060ca8b43ebb4cab17ffff457f2",
        "IPY_MODEL_ce95c130f4e04a35aa5d748929b8a75b"
       ],
       "layout": "IPY_MODEL_dfc0be0d13b64c0cb82e2ea3c7fc401b"
      }
     },
     "eb38506762b547bf91775f8e0a03214b": {
      "model_module": "@jupyter-widgets/base",
      "model_module_version": "1.2.0",
      "model_name": "LayoutModel",
      "state": {
       "width": "200px"
      }
     },
     "eb8b7eefb8ef4bd9823cf95625169a37": {
      "model_module": "@jupyter-widgets/base",
      "model_module_version": "1.2.0",
      "model_name": "LayoutModel",
      "state": {}
     },
     "ebc1892f962945c6a729bfe54fb74b28": {
      "model_module": "@jupyter-widgets/base",
      "model_module_version": "1.2.0",
      "model_name": "LayoutModel",
      "state": {}
     },
     "ec6e39a0f7ff44b49ce395ec4bdd0228": {
      "model_module": "@jupyter-widgets/controls",
      "model_module_version": "1.5.0",
      "model_name": "DropdownModel",
      "state": {
       "_options_labels": [
        "Circular",
        "Kamada Kawai",
        "Planar",
        "Random",
        "Spectral",
        "Spring",
        "Shell"
       ],
       "disabled": true,
       "index": 0,
       "layout": "IPY_MODEL_f4a7764fa78646f89f001d6cc2d35af4",
       "style": "IPY_MODEL_a48d0498a82745a3a060aa031e737111"
      }
     },
     "ecc7796c71bc462697e48c26ac83e3f9": {
      "model_module": "@jupyter-widgets/controls",
      "model_module_version": "1.5.0",
      "model_name": "VBoxModel",
      "state": {
       "children": [
        "IPY_MODEL_0195c3389c8a4890a6932b47fa76f41b",
        "IPY_MODEL_c0e489bf102648779ace0fe6825f854c"
       ],
       "layout": "IPY_MODEL_aa117541cca54c93a81c6d965791dd08"
      }
     },
     "ece5d8f455174a35950953ea791b0fea": {
      "model_module": "@jupyter-widgets/controls",
      "model_module_version": "1.5.0",
      "model_name": "VBoxModel",
      "state": {
       "children": [
        "IPY_MODEL_7f5c3fe73e754ce79839360d617bc788",
        "IPY_MODEL_e7efe44623d045b4a08565a0824e8515"
       ],
       "layout": "IPY_MODEL_1c1a8597aabb4fa08169244b4e86af1a"
      }
     },
     "ed6c8fb10aca43b3b4a06de2416abe9c": {
      "model_module": "@jupyter-widgets/controls",
      "model_module_version": "1.5.0",
      "model_name": "HTMLModel",
      "state": {
       "layout": "IPY_MODEL_c134a0b28c204ffeb6cfe37fd49ab6fc",
       "style": "IPY_MODEL_ac0d5e16e3b14ca587fe9425fc19841a",
       "value": "<h1>Co-occurrence Analysis</h1><hr style='height:2px;border-width:0;color:gray;background-color:gray'>"
      }
     },
     "edbc733cb52a44f985ee3149b1daa7fe": {
      "model_module": "@jupyter-widgets/controls",
      "model_module_version": "1.5.0",
      "model_name": "HBoxModel",
      "state": {
       "children": [
        "IPY_MODEL_e371ab6575ed47389b0bea56e88862ab",
        "IPY_MODEL_8abfb40d4c7443d4baf2325389bc299d"
       ],
       "layout": "IPY_MODEL_2fc51399d77240eab6404cda7583b03d"
      }
     },
     "edc2711b9fac46198af2ca75a5940da3": {
      "model_module": "@jupyter-widgets/base",
      "model_module_version": "1.2.0",
      "model_name": "LayoutModel",
      "state": {}
     },
     "ee5a9a4ff4a140ed9e859755b4caf143": {
      "model_module": "@jupyter-widgets/output",
      "model_module_version": "1.0.0",
      "model_name": "OutputModel",
      "state": {
       "layout": "IPY_MODEL_5b7a206ea4214bd998a02c77067a0bcc",
       "outputs": [
        {
         "data": {
          "application/vnd.jupyter.widget-view+json": {
           "model_id": "ff0141aab07944f5b73419e4dff0a618",
           "version_major": 2,
           "version_minor": 0
          },
          "text/plain": "Output()"
         },
         "metadata": {},
         "output_type": "display_data"
        }
       ]
      }
     },
     "ef2b513bf73649958b768f2866c540c4": {
      "model_module": "@jupyter-widgets/base",
      "model_module_version": "1.2.0",
      "model_name": "LayoutModel",
      "state": {}
     },
     "efc91477a9324aba9ecb0568fad582d1": {
      "model_module": "@jupyter-widgets/controls",
      "model_module_version": "1.5.0",
      "model_name": "DropdownModel",
      "state": {
       "_options_labels": [
        "Frequency",
        "Citation"
       ],
       "index": 0,
       "layout": "IPY_MODEL_eb38506762b547bf91775f8e0a03214b",
       "style": "IPY_MODEL_b887f7ea5f474a45bc1f484f479c7b5a"
      }
     },
     "f006da86a80b4e3bab5bdad8ffc4c7f6": {
      "model_module": "@jupyter-widgets/base",
      "model_module_version": "1.2.0",
      "model_name": "LayoutModel",
      "state": {}
     },
     "f0a26fe447e14d4bb0442cce883913a0": {
      "model_module": "@jupyter-widgets/controls",
      "model_module_version": "1.5.0",
      "model_name": "DescriptionStyleModel",
      "state": {
       "description_width": ""
      }
     },
     "f18cb5e78c54437fac960d48bbd33d54": {
      "model_module": "@jupyter-widgets/controls",
      "model_module_version": "1.5.0",
      "model_name": "DropdownModel",
      "state": {
       "_options_labels": [
        "Greys",
        "Purples",
        "Blues",
        "Greens",
        "Oranges",
        "Reds",
        "YlOrBr",
        "YlOrRd",
        "OrRd",
        "PuRd",
        "RdPu",
        "BuPu",
        "GnBu",
        "PuBu",
        "YlGnBu",
        "PuBuGn",
        "BuGn",
        "YlGn",
        "Pastel1",
        "Pastel2",
        "Paired",
        "Accent",
        "Dark2",
        "Set1",
        "Set2",
        "Set3",
        "tab10",
        "tab20",
        "tab20b",
        "tab20c"
       ],
       "index": 0,
       "layout": "IPY_MODEL_5a776f345afd497cbe16baa4e0d4e7ca",
       "style": "IPY_MODEL_fd361678f37945f593207285be68713d"
      }
     },
     "f25fb74e2663450d9ad65827f613727d": {
      "model_module": "@jupyter-widgets/controls",
      "model_module_version": "1.5.0",
      "model_name": "LabelModel",
      "state": {
       "layout": "IPY_MODEL_a9706d733d8f4dd38b61badaa84b56b5",
       "style": "IPY_MODEL_e8f2424f6e5a4eabb4baee673e9c3e57",
       "value": "Term to analyze:"
      }
     },
     "f2e1bbe972c443069da17635883445c9": {
      "model_module": "@jupyter-widgets/base",
      "model_module_version": "1.2.0",
      "model_name": "LayoutModel",
      "state": {}
     },
     "f3afdbdcfb18431a971400bf26c57ca1": {
      "model_module": "@jupyter-widgets/controls",
      "model_module_version": "1.5.0",
      "model_name": "LabelModel",
      "state": {
       "layout": "IPY_MODEL_999efd9f15334fda84093ce8a9462b41",
       "style": "IPY_MODEL_ab9bb425247044e1aa67b62f8d5a1a3c",
       "value": "Title:"
      }
     },
     "f3d5e8971aee497281edae59b32b32ff": {
      "model_module": "@jupyter-widgets/base",
      "model_module_version": "1.2.0",
      "model_name": "LayoutModel",
      "state": {}
     },
     "f4a7764fa78646f89f001d6cc2d35af4": {
      "model_module": "@jupyter-widgets/base",
      "model_module_version": "1.2.0",
      "model_name": "LayoutModel",
      "state": {
       "width": "200px"
      }
     },
     "f534488be4224ae3a6eea034b73a539b": {
      "model_module": "@jupyter-widgets/controls",
      "model_module_version": "1.5.0",
      "model_name": "HTMLModel",
      "state": {
       "layout": "IPY_MODEL_12465d4dd2274b1dab06d1bdb8fd1059",
       "style": "IPY_MODEL_c6f8209aa98945bb93264f7404546aa9",
       "value": "<pre>                    Title: Heavy metal contents and their daily intake in vegetables under peri-urban farming system of Multan, Pakistan<br>                  Authors: Randhawa MA<br>                           Ahmad G<br>                           Anjum FM<br>                           Asghar A<br>                           Sajid MW<br>          Author Keywords: daily intake<br>                           heavy metals<br>                           mrls<br>                           okra<br>Author Keywords (Cleaned): daily intake<br>                           heavy metal<br>                           mrls<br>                           okra<br>             Source title: Pakistan Journal of Agricultural Sciences<br>                     Year: 2014<br>                Countries: Pakistan<br>             Institutions: national institute of food science and technology<br>                 Keywords: daily intake<br>                           heavy metals<br>                           mrls<br>                           okra<br></pre>"
      }
     },
     "f5bb95c3eb28429e9a949f8709a86271": {
      "model_module": "@jupyter-widgets/controls",
      "model_module_version": "1.5.0",
      "model_name": "DescriptionStyleModel",
      "state": {
       "description_width": ""
      }
     },
     "f5e90d8d9d39470b805654416988e7d9": {
      "model_module": "@jupyter-widgets/controls",
      "model_module_version": "1.5.0",
      "model_name": "VBoxModel",
      "state": {
       "children": [
        "IPY_MODEL_38299986de834f6a923410ba6f41c40a"
       ],
       "layout": "IPY_MODEL_e13fe9e760ec4cdbb12e310d93bf3394"
      }
     },
     "f7084b519ced46e287017caabe54a5eb": {
      "model_module": "@jupyter-widgets/controls",
      "model_module_version": "1.5.0",
      "model_name": "DescriptionStyleModel",
      "state": {
       "description_width": ""
      }
     },
     "f81ee814e39247bba728a602b0b8e63f": {
      "model_module": "@jupyter-widgets/controls",
      "model_module_version": "1.5.0",
      "model_name": "DescriptionStyleModel",
      "state": {
       "description_width": ""
      }
     },
     "f8378959234f45fcaa1d8eb088f236ec": {
      "model_module": "@jupyter-widgets/base",
      "model_module_version": "1.2.0",
      "model_name": "LayoutModel",
      "state": {}
     },
     "f8f450eb1ed74df6b83c7db604b8fb79": {
      "model_module": "@jupyter-widgets/controls",
      "model_module_version": "1.5.0",
      "model_name": "DescriptionStyleModel",
      "state": {
       "description_width": ""
      }
     },
     "f90161a6d5c7460889e6614a45245e0d": {
      "model_module": "@jupyter-widgets/base",
      "model_module_version": "1.2.0",
      "model_name": "LayoutModel",
      "state": {
       "width": "200px"
      }
     },
     "f922ee3efb6d42eeaf838f3c3c8a26ee": {
      "model_module": "@jupyter-widgets/base",
      "model_module_version": "1.2.0",
      "model_name": "LayoutModel",
      "state": {
       "width": "200px"
      }
     },
     "fad6d2d42a044b788507581030c2a4f4": {
      "model_module": "@jupyter-widgets/base",
      "model_module_version": "1.2.0",
      "model_name": "LayoutModel",
      "state": {
       "width": "200px"
      }
     },
     "fb1286ac039546eebb940326c8866df3": {
      "model_module": "@jupyter-widgets/controls",
      "model_module_version": "1.5.0",
      "model_name": "HTMLModel",
      "state": {
       "layout": "IPY_MODEL_1a80ddff1e13459aa61e4890b05f92ce",
       "style": "IPY_MODEL_e064178dcdad4af591d3a5f927bb4fd5",
       "value": "<h1>Matrix Explorer (Top 50 terms)</h1><hr style='height:2px;border-width:0;color:gray;background-color:gray'>"
      }
     },
     "fc4c3528f1364540abae76867fb0f303": {
      "model_module": "@jupyter-widgets/base",
      "model_module_version": "1.2.0",
      "model_name": "LayoutModel",
      "state": {
       "width": "200px"
      }
     },
     "fd361678f37945f593207285be68713d": {
      "model_module": "@jupyter-widgets/controls",
      "model_module_version": "1.5.0",
      "model_name": "DescriptionStyleModel",
      "state": {
       "description_width": ""
      }
     },
     "fde5ce1c4dc445909dfa59538c3b809f": {
      "model_module": "@jupyter-widgets/base",
      "model_module_version": "1.2.0",
      "model_name": "LayoutModel",
      "state": {
       "width": "200px"
      }
     },
     "ff0141aab07944f5b73419e4dff0a618": {
      "model_module": "@jupyter-widgets/output",
      "model_module_version": "1.0.0",
      "model_name": "OutputModel",
      "state": {
       "layout": "IPY_MODEL_d54e0329fc4d44739e714d315d7fa7a9",
       "outputs": [
        {
         "data": {
          "image/png": "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\n",
          "text/plain": "<Figure size 1008x720 with 1 Axes>"
         },
         "metadata": {},
         "output_type": "display_data"
        }
       ]
      }
     },
     "ff4d2bf737224de7ae30aad756baf311": {
      "model_module": "@jupyter-widgets/base",
      "model_module_version": "1.2.0",
      "model_name": "LayoutModel",
      "state": {
       "width": "200px"
      }
     }
    },
    "version_major": 2,
    "version_minor": 0
   }
  }
 },
 "nbformat": 4,
 "nbformat_minor": 4
}
